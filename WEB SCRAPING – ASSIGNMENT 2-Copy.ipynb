{
 "cells": [
  {
   "cell_type": "markdown",
   "id": "d55dcc67",
   "metadata": {},
   "source": [
    "# WEB SCRAPING – ASSIGNMENT 2"
   ]
  },
  {
   "cell_type": "markdown",
   "id": "9f9a25c2",
   "metadata": {},
   "source": [
    "# Q1: Write a python program to scrape data for “Data Analyst” Job position in “Bangalore” location. Youhave to scrape the job-title, job-location, company_name, experience_required. You have to scrape first 10 jobs data."
   ]
  },
  {
   "cell_type": "code",
   "execution_count": 1,
   "id": "c6e22c09",
   "metadata": {},
   "outputs": [],
   "source": [
    "#Importing all the required libraries:\n",
    "import selenium\n",
    "from selenium import webdriver\n",
    "import pandas as pd \n",
    "import warnings\n",
    "warnings.filterwarnings(\"ignore\")"
   ]
  },
  {
   "cell_type": "code",
   "execution_count": 2,
   "id": "09466ed4",
   "metadata": {},
   "outputs": [],
   "source": [
    "#Getting the webdriver access:\n",
    "driver=webdriver.Chrome(r'C:\\Users\\admin\\Desktop\\chromedriver.exe')"
   ]
  },
  {
   "cell_type": "code",
   "execution_count": 3,
   "id": "d10570c3",
   "metadata": {},
   "outputs": [],
   "source": [
    "#Typing the required url to explore:\n",
    "url='https://www.naukri.com/'\n",
    "driver.get(url)"
   ]
  },
  {
   "cell_type": "code",
   "execution_count": 26,
   "id": "f241a8bd",
   "metadata": {},
   "outputs": [],
   "source": [
    "#Filling the “Skill, Designations, Companies” field and clicking the search button to explore different job options:"
   ]
  },
  {
   "cell_type": "code",
   "execution_count": 4,
   "id": "39e3d4e5",
   "metadata": {},
   "outputs": [
    {
     "data": {
      "text/plain": [
       "<selenium.webdriver.remote.webelement.WebElement (session=\"dbfffa0b1277ebd2f3bc1fbde7cf48c8\", element=\"baee394f-1c3f-497c-82a7-2f25321d061b\")>"
      ]
     },
     "execution_count": 4,
     "metadata": {},
     "output_type": "execute_result"
    }
   ],
   "source": [
    "\n",
    "search_job=driver.find_element_by_class_name(\"suggestor-input \")#finding the job search element using class name\n",
    "search_job"
   ]
  },
  {
   "cell_type": "code",
   "execution_count": 5,
   "id": "bf6fdd5b",
   "metadata": {},
   "outputs": [],
   "source": [
    "search_job.send_keys(\"Data Analyst\") # Typing data for  Designations field in the webpage"
   ]
  },
  {
   "cell_type": "code",
   "execution_count": 6,
   "id": "425596a2",
   "metadata": {},
   "outputs": [
    {
     "data": {
      "text/plain": [
       "<selenium.webdriver.remote.webelement.WebElement (session=\"dbfffa0b1277ebd2f3bc1fbde7cf48c8\", element=\"9bef395e-03da-4cc6-8b7d-92c367e7d7d1\")>"
      ]
     },
     "execution_count": 6,
     "metadata": {},
     "output_type": "execute_result"
    }
   ],
   "source": [
    "search_location=driver.find_element_by_xpath('/html/body/div/div[2]/div[3]/div/div/div[3]/div/div/div/input')#finding the location element using xpath\n",
    "search_location"
   ]
  },
  {
   "cell_type": "code",
   "execution_count": 7,
   "id": "3cec4724",
   "metadata": {},
   "outputs": [],
   "source": [
    "search_location.send_keys(\"Bangalore\")   #Typing data for loation field in the webpage"
   ]
  },
  {
   "cell_type": "code",
   "execution_count": 8,
   "id": "cd2081de",
   "metadata": {},
   "outputs": [
    {
     "data": {
      "text/plain": [
       "<selenium.webdriver.remote.webelement.WebElement (session=\"dbfffa0b1277ebd2f3bc1fbde7cf48c8\", element=\"b80488d4-fe30-4ae1-98bf-67225f39596a\")>"
      ]
     },
     "execution_count": 8,
     "metadata": {},
     "output_type": "execute_result"
    }
   ],
   "source": [
    "search_btn=driver.find_element_by_xpath('//div[@class=\"qsbSubmit\"]')#finding the search button element using xpath\n",
    "search_btn"
   ]
  },
  {
   "cell_type": "code",
   "execution_count": 10,
   "id": "2253c4ec",
   "metadata": {},
   "outputs": [],
   "source": [
    "search_btn.click()  #clicking the search button"
   ]
  },
  {
   "cell_type": "code",
   "execution_count": 11,
   "id": "28559fc7",
   "metadata": {},
   "outputs": [
    {
     "data": {
      "text/plain": [
       "20"
      ]
     },
     "execution_count": 11,
     "metadata": {},
     "output_type": "execute_result"
    }
   ],
   "source": [
    "titletags=driver.find_elements_by_xpath('//a[@class=\"title fw500 ellipsis\"]')#finding the titletags  using xpath\n",
    "len(titletags) #length of the titletags"
   ]
  },
  {
   "cell_type": "code",
   "execution_count": 12,
   "id": "78871471",
   "metadata": {},
   "outputs": [
    {
     "data": {
      "text/plain": [
       "10"
      ]
     },
     "execution_count": 12,
     "metadata": {},
     "output_type": "execute_result"
    }
   ],
   "source": [
    "#selecting the top 10 titletags and putting them in a list:\n",
    "job_titles=[]\n",
    "for i in titletags:\n",
    "        job_titles.append(i.text)\n",
    "        if len(job_titles)>9:\n",
    "            break\n",
    "len(job_titles)"
   ]
  },
  {
   "cell_type": "code",
   "execution_count": 13,
   "id": "c1acc735",
   "metadata": {},
   "outputs": [
    {
     "data": {
      "text/plain": [
       "['Hiring -Data Analyst, Business Analyst, MIS Analyst -3rd Party Payroll',\n",
       " 'Senior Data Analyst II',\n",
       " 'Senior Data Analyst',\n",
       " 'Business Analyst (Data Analyst role)',\n",
       " 'Consultant - Data Analyst',\n",
       " 'Senior Analyst, Data Engineering',\n",
       " 'Business Data Analyst - MIS & Reporting',\n",
       " 'Statistician, Data Analyst, SPSS, M.Sc Statistics (0 To 3 years)',\n",
       " 'Analyst - Data Intelligence Group',\n",
       " 'Data Analyst']"
      ]
     },
     "execution_count": 13,
     "metadata": {},
     "output_type": "execute_result"
    }
   ],
   "source": [
    "job_titles"
   ]
  },
  {
   "cell_type": "code",
   "execution_count": 15,
   "id": "f8dc1ec5",
   "metadata": {},
   "outputs": [
    {
     "data": {
      "text/plain": [
       "20"
      ]
     },
     "execution_count": 15,
     "metadata": {},
     "output_type": "execute_result"
    }
   ],
   "source": [
    "location=driver.find_elements_by_xpath('//li[@class=\"fleft grey-text br2 placeHolderLi location\"]')#finding the location tags  using xpath\n",
    "len(location) #length of the location tags"
   ]
  },
  {
   "cell_type": "code",
   "execution_count": 16,
   "id": "6c7c887b",
   "metadata": {},
   "outputs": [
    {
     "data": {
      "text/plain": [
       "10"
      ]
     },
     "execution_count": 16,
     "metadata": {},
     "output_type": "execute_result"
    }
   ],
   "source": [
    "#selecting the respective top 10 job_location and putting them in form of a list:\n",
    "job_location=[]\n",
    "for i in location:\n",
    "        job_location.append(i.text)\n",
    "        if len(job_location)>9:\n",
    "            break\n",
    "len(job_location)"
   ]
  },
  {
   "cell_type": "code",
   "execution_count": 17,
   "id": "72c1f031",
   "metadata": {},
   "outputs": [
    {
     "data": {
      "text/plain": [
       "['Bangalore/Bengaluru',\n",
       " 'Bangalore/Bengaluru',\n",
       " 'Bangalore/Bengaluru',\n",
       " 'Mumbai, Hyderabad/Secunderabad, Pune, Chennai, Bangalore/Bengaluru',\n",
       " 'Bangalore/Bengaluru',\n",
       " 'Bangalore/Bengaluru',\n",
       " 'Bangalore/Bengaluru',\n",
       " 'New Delhi(Paschim Vihar +1), Bangalore/Bengaluru(Whitefield +2)',\n",
       " 'Mumbai, Pune, Bangalore/Bengaluru',\n",
       " 'Bangalore/Bengaluru']"
      ]
     },
     "execution_count": 17,
     "metadata": {},
     "output_type": "execute_result"
    }
   ],
   "source": [
    "job_location"
   ]
  },
  {
   "cell_type": "code",
   "execution_count": 18,
   "id": "1138aa14",
   "metadata": {},
   "outputs": [
    {
     "data": {
      "text/plain": [
       "20"
      ]
     },
     "execution_count": 18,
     "metadata": {},
     "output_type": "execute_result"
    }
   ],
   "source": [
    "company=driver.find_elements_by_xpath('//a[@class=\"subTitle ellipsis fleft\"]')#finding the company tags  using xpath\n",
    "len(company) #length of the company tags"
   ]
  },
  {
   "cell_type": "code",
   "execution_count": 19,
   "id": "e5990c64",
   "metadata": {},
   "outputs": [
    {
     "data": {
      "text/plain": [
       "10"
      ]
     },
     "execution_count": 19,
     "metadata": {},
     "output_type": "execute_result"
    }
   ],
   "source": [
    "#selecting the respective top 10 company names and putting them in form of a list:\n",
    "company_name=[]\n",
    "for i in company:\n",
    "        company_name.append(i.text)\n",
    "        if len(company_name)>9:\n",
    "            break\n",
    "len(company_name)"
   ]
  },
  {
   "cell_type": "code",
   "execution_count": 20,
   "id": "5d7e5e03",
   "metadata": {},
   "outputs": [
    {
     "data": {
      "text/plain": [
       "['Flipkart',\n",
       " 'Flipkart',\n",
       " 'Flipkart',\n",
       " 'Xpheno',\n",
       " 'Flipkart',\n",
       " 'Dell',\n",
       " 'SHAND PIPE INDUSTRY PVT.LTD',\n",
       " 'The HR Bulb',\n",
       " 'TresVista Financial',\n",
       " 'Shell']"
      ]
     },
     "execution_count": 20,
     "metadata": {},
     "output_type": "execute_result"
    }
   ],
   "source": [
    "company_name"
   ]
  },
  {
   "cell_type": "code",
   "execution_count": 21,
   "id": "0543ab71",
   "metadata": {},
   "outputs": [
    {
     "data": {
      "text/plain": [
       "20"
      ]
     },
     "execution_count": 21,
     "metadata": {},
     "output_type": "execute_result"
    }
   ],
   "source": [
    "exp=driver.find_elements_by_xpath('//li[@class=\"fleft grey-text br2 placeHolderLi experience\"]')#finding the experience tags  using xpath\n",
    "len(exp) #length of the experience tags"
   ]
  },
  {
   "cell_type": "code",
   "execution_count": 22,
   "id": "6b0831e0",
   "metadata": {},
   "outputs": [
    {
     "data": {
      "text/plain": [
       "10"
      ]
     },
     "execution_count": 22,
     "metadata": {},
     "output_type": "execute_result"
    }
   ],
   "source": [
    "#selecting the respective top 10 experience required and putting them in form of a list:\n",
    "experience_required=[]\n",
    "for i in exp:\n",
    "        experience_required.append(i.text)\n",
    "        if len(experience_required)>9:\n",
    "            break\n",
    "len(experience_required)"
   ]
  },
  {
   "cell_type": "code",
   "execution_count": 23,
   "id": "ae51fc26",
   "metadata": {},
   "outputs": [
    {
     "data": {
      "text/plain": [
       "['1-6 Yrs',\n",
       " '2-4 Yrs',\n",
       " '2-3 Yrs',\n",
       " '2-5 Yrs',\n",
       " '1-3 Yrs',\n",
       " '2-5 Yrs',\n",
       " '2-6 Yrs',\n",
       " '0-3 Yrs',\n",
       " '0-1 Yrs',\n",
       " '5-8 Yrs']"
      ]
     },
     "execution_count": 23,
     "metadata": {},
     "output_type": "execute_result"
    }
   ],
   "source": [
    "experience_required"
   ]
  },
  {
   "cell_type": "code",
   "execution_count": 24,
   "id": "df5971fc",
   "metadata": {},
   "outputs": [],
   "source": [
    "#Creating a data frame of all the list elements that are scraped from the web page:\n",
    "data=pd.DataFrame()"
   ]
  },
  {
   "cell_type": "code",
   "execution_count": 25,
   "id": "22ec1bf5",
   "metadata": {},
   "outputs": [
    {
     "data": {
      "text/html": [
       "<div>\n",
       "<style scoped>\n",
       "    .dataframe tbody tr th:only-of-type {\n",
       "        vertical-align: middle;\n",
       "    }\n",
       "\n",
       "    .dataframe tbody tr th {\n",
       "        vertical-align: top;\n",
       "    }\n",
       "\n",
       "    .dataframe thead th {\n",
       "        text-align: right;\n",
       "    }\n",
       "</style>\n",
       "<table border=\"1\" class=\"dataframe\">\n",
       "  <thead>\n",
       "    <tr style=\"text-align: right;\">\n",
       "      <th></th>\n",
       "      <th>job_titles</th>\n",
       "      <th>job_location</th>\n",
       "      <th>company_name</th>\n",
       "      <th>experience_required</th>\n",
       "    </tr>\n",
       "  </thead>\n",
       "  <tbody>\n",
       "    <tr>\n",
       "      <th>0</th>\n",
       "      <td>Hiring -Data Analyst, Business Analyst, MIS An...</td>\n",
       "      <td>Bangalore/Bengaluru</td>\n",
       "      <td>Flipkart</td>\n",
       "      <td>1-6 Yrs</td>\n",
       "    </tr>\n",
       "    <tr>\n",
       "      <th>1</th>\n",
       "      <td>Senior Data Analyst II</td>\n",
       "      <td>Bangalore/Bengaluru</td>\n",
       "      <td>Flipkart</td>\n",
       "      <td>2-4 Yrs</td>\n",
       "    </tr>\n",
       "    <tr>\n",
       "      <th>2</th>\n",
       "      <td>Senior Data Analyst</td>\n",
       "      <td>Bangalore/Bengaluru</td>\n",
       "      <td>Flipkart</td>\n",
       "      <td>2-3 Yrs</td>\n",
       "    </tr>\n",
       "    <tr>\n",
       "      <th>3</th>\n",
       "      <td>Business Analyst (Data Analyst role)</td>\n",
       "      <td>Mumbai, Hyderabad/Secunderabad, Pune, Chennai,...</td>\n",
       "      <td>Xpheno</td>\n",
       "      <td>2-5 Yrs</td>\n",
       "    </tr>\n",
       "    <tr>\n",
       "      <th>4</th>\n",
       "      <td>Consultant - Data Analyst</td>\n",
       "      <td>Bangalore/Bengaluru</td>\n",
       "      <td>Flipkart</td>\n",
       "      <td>1-3 Yrs</td>\n",
       "    </tr>\n",
       "    <tr>\n",
       "      <th>5</th>\n",
       "      <td>Senior Analyst, Data Engineering</td>\n",
       "      <td>Bangalore/Bengaluru</td>\n",
       "      <td>Dell</td>\n",
       "      <td>2-5 Yrs</td>\n",
       "    </tr>\n",
       "    <tr>\n",
       "      <th>6</th>\n",
       "      <td>Business Data Analyst - MIS &amp; Reporting</td>\n",
       "      <td>Bangalore/Bengaluru</td>\n",
       "      <td>SHAND PIPE INDUSTRY PVT.LTD</td>\n",
       "      <td>2-6 Yrs</td>\n",
       "    </tr>\n",
       "    <tr>\n",
       "      <th>7</th>\n",
       "      <td>Statistician, Data Analyst, SPSS, M.Sc Statist...</td>\n",
       "      <td>New Delhi(Paschim Vihar +1), Bangalore/Bengalu...</td>\n",
       "      <td>The HR Bulb</td>\n",
       "      <td>0-3 Yrs</td>\n",
       "    </tr>\n",
       "    <tr>\n",
       "      <th>8</th>\n",
       "      <td>Analyst - Data Intelligence Group</td>\n",
       "      <td>Mumbai, Pune, Bangalore/Bengaluru</td>\n",
       "      <td>TresVista Financial</td>\n",
       "      <td>0-1 Yrs</td>\n",
       "    </tr>\n",
       "    <tr>\n",
       "      <th>9</th>\n",
       "      <td>Data Analyst</td>\n",
       "      <td>Bangalore/Bengaluru</td>\n",
       "      <td>Shell</td>\n",
       "      <td>5-8 Yrs</td>\n",
       "    </tr>\n",
       "  </tbody>\n",
       "</table>\n",
       "</div>"
      ],
      "text/plain": [
       "                                          job_titles  \\\n",
       "0  Hiring -Data Analyst, Business Analyst, MIS An...   \n",
       "1                             Senior Data Analyst II   \n",
       "2                                Senior Data Analyst   \n",
       "3               Business Analyst (Data Analyst role)   \n",
       "4                          Consultant - Data Analyst   \n",
       "5                   Senior Analyst, Data Engineering   \n",
       "6            Business Data Analyst - MIS & Reporting   \n",
       "7  Statistician, Data Analyst, SPSS, M.Sc Statist...   \n",
       "8                  Analyst - Data Intelligence Group   \n",
       "9                                       Data Analyst   \n",
       "\n",
       "                                        job_location  \\\n",
       "0                                Bangalore/Bengaluru   \n",
       "1                                Bangalore/Bengaluru   \n",
       "2                                Bangalore/Bengaluru   \n",
       "3  Mumbai, Hyderabad/Secunderabad, Pune, Chennai,...   \n",
       "4                                Bangalore/Bengaluru   \n",
       "5                                Bangalore/Bengaluru   \n",
       "6                                Bangalore/Bengaluru   \n",
       "7  New Delhi(Paschim Vihar +1), Bangalore/Bengalu...   \n",
       "8                  Mumbai, Pune, Bangalore/Bengaluru   \n",
       "9                                Bangalore/Bengaluru   \n",
       "\n",
       "                  company_name experience_required  \n",
       "0                     Flipkart             1-6 Yrs  \n",
       "1                     Flipkart             2-4 Yrs  \n",
       "2                     Flipkart             2-3 Yrs  \n",
       "3                       Xpheno             2-5 Yrs  \n",
       "4                     Flipkart             1-3 Yrs  \n",
       "5                         Dell             2-5 Yrs  \n",
       "6  SHAND PIPE INDUSTRY PVT.LTD             2-6 Yrs  \n",
       "7                  The HR Bulb             0-3 Yrs  \n",
       "8          TresVista Financial             0-1 Yrs  \n",
       "9                        Shell             5-8 Yrs  "
      ]
     },
     "execution_count": 25,
     "metadata": {},
     "output_type": "execute_result"
    }
   ],
   "source": [
    "data['job_titles']=job_titles\n",
    "data['job_location']=job_location\n",
    "data['company_name']=company_name\n",
    "data['experience_required']=experience_required\n",
    "data\n"
   ]
  },
  {
   "cell_type": "markdown",
   "id": "6f50d903",
   "metadata": {},
   "source": [
    "# Q2: Write a python program to scrape data for “Data Scientist” Job position in “Bangalore” location. Youhave to scrape the job-title, job-location, company_name. You have to scrape first 10 jobs data."
   ]
  },
  {
   "cell_type": "code",
   "execution_count": 27,
   "id": "6e604f12",
   "metadata": {},
   "outputs": [],
   "source": [
    "#Importing all the required libraries:\n",
    "import selenium\n",
    "from selenium import webdriver\n",
    "import pandas as pd \n",
    "import warnings\n",
    "warnings.filterwarnings(\"ignore\")"
   ]
  },
  {
   "cell_type": "code",
   "execution_count": 28,
   "id": "9eba3654",
   "metadata": {},
   "outputs": [],
   "source": [
    "#Getting the webdriver access:\n",
    "driver=webdriver.Chrome(r'C:\\Users\\admin\\Desktop\\chromedriver.exe')"
   ]
  },
  {
   "cell_type": "code",
   "execution_count": 29,
   "id": "980dd612",
   "metadata": {},
   "outputs": [],
   "source": [
    "#Typing the required url to explore:\n",
    "url='https://www.naukri.com/'\n",
    "driver.get(url)"
   ]
  },
  {
   "cell_type": "code",
   "execution_count": 30,
   "id": "6922b76f",
   "metadata": {},
   "outputs": [
    {
     "data": {
      "text/plain": [
       "<selenium.webdriver.remote.webelement.WebElement (session=\"d55311bb9a2f6a8f37c5f9bd0229bb49\", element=\"9ca64b76-3765-4c59-98c1-63ad6f65873b\")>"
      ]
     },
     "execution_count": 30,
     "metadata": {},
     "output_type": "execute_result"
    }
   ],
   "source": [
    "#Filling the “Skill, Designations, Companies” field and clicking the search button to explore different job options:\n",
    "\n",
    "search_job=driver.find_element_by_class_name(\"suggestor-input \")#finding the job search element using class name\n",
    "search_job"
   ]
  },
  {
   "cell_type": "code",
   "execution_count": 31,
   "id": "fc3ab5ad",
   "metadata": {},
   "outputs": [],
   "source": [
    "search_job.send_keys(\"Data Scientist\") # Typing data for  Designations field in the webpage"
   ]
  },
  {
   "cell_type": "code",
   "execution_count": 32,
   "id": "1dcfb45e",
   "metadata": {},
   "outputs": [
    {
     "data": {
      "text/plain": [
       "<selenium.webdriver.remote.webelement.WebElement (session=\"d55311bb9a2f6a8f37c5f9bd0229bb49\", element=\"cf015a96-b1d7-47b3-8dab-e007b9bb6028\")>"
      ]
     },
     "execution_count": 32,
     "metadata": {},
     "output_type": "execute_result"
    }
   ],
   "source": [
    "search_location=driver.find_element_by_xpath('/html/body/div/div[2]/div[3]/div/div/div[3]/div/div/div/input')\n",
    "#finding the location element using xpath\n",
    "search_location"
   ]
  },
  {
   "cell_type": "code",
   "execution_count": 33,
   "id": "6999a7b7",
   "metadata": {},
   "outputs": [],
   "source": [
    "search_location.send_keys(\"Bangalore\")   #Typing data for loation field in the webpage"
   ]
  },
  {
   "cell_type": "code",
   "execution_count": 34,
   "id": "32c8051d",
   "metadata": {},
   "outputs": [
    {
     "data": {
      "text/plain": [
       "<selenium.webdriver.remote.webelement.WebElement (session=\"d55311bb9a2f6a8f37c5f9bd0229bb49\", element=\"3fb4c395-d15d-4c35-b12b-b766b5f4a691\")>"
      ]
     },
     "execution_count": 34,
     "metadata": {},
     "output_type": "execute_result"
    }
   ],
   "source": [
    "search_btn=driver.find_element_by_xpath('//div[@class=\"qsbSubmit\"]')#finding the search button element using xpath\n",
    "search_btn"
   ]
  },
  {
   "cell_type": "code",
   "execution_count": 36,
   "id": "1fe6b127",
   "metadata": {},
   "outputs": [],
   "source": [
    "search_btn.click()  #clicking the search button"
   ]
  },
  {
   "cell_type": "code",
   "execution_count": 37,
   "id": "90d779ff",
   "metadata": {},
   "outputs": [
    {
     "data": {
      "text/plain": [
       "20"
      ]
     },
     "execution_count": 37,
     "metadata": {},
     "output_type": "execute_result"
    }
   ],
   "source": [
    "titletags=driver.find_elements_by_xpath('//a[@class=\"title fw500 ellipsis\"]')#finding the titletags  using xpath\n",
    "len(titletags) #length of the titletags"
   ]
  },
  {
   "cell_type": "code",
   "execution_count": 38,
   "id": "36cd9175",
   "metadata": {},
   "outputs": [
    {
     "name": "stdout",
     "output_type": "stream",
     "text": [
      "length: 10\n",
      "list- ['Data Scientist / Analyst', 'Senior Risk Data Scientist', 'Data Scientist: Advanced Analytics', 'Data Scientist: Advanced Analytics', 'Data Scientist', 'Data Scientist: Artificial Intelligence', 'Data Scientist: Artificial Intelligence', 'Senior Data Scientist - Advanced Analytics', 'Senior Data Scientist', 'Senior - Data Scientist']\n"
     ]
    }
   ],
   "source": [
    "#selecting the top 10 titletags and putting them in a list:\n",
    "job_titles=[]\n",
    "for i in titletags:\n",
    "        job_titles.append(i.text)\n",
    "        if len(job_titles)>9:\n",
    "            break\n",
    "print('length:',len(job_titles))\n",
    "print('list-',job_titles)"
   ]
  },
  {
   "cell_type": "code",
   "execution_count": 40,
   "id": "45a6c52e",
   "metadata": {},
   "outputs": [
    {
     "data": {
      "text/plain": [
       "20"
      ]
     },
     "execution_count": 40,
     "metadata": {},
     "output_type": "execute_result"
    }
   ],
   "source": [
    "location=driver.find_elements_by_xpath('//li[@class=\"fleft grey-text br2 placeHolderLi location\"]')#finding the location tags  using xpath\n",
    "len(location) #length of the location tags"
   ]
  },
  {
   "cell_type": "code",
   "execution_count": 41,
   "id": "03873a7a",
   "metadata": {},
   "outputs": [
    {
     "name": "stdout",
     "output_type": "stream",
     "text": [
      "length: 10\n",
      "list- ['Hyderabad/Secunderabad, Bangalore/Bengaluru, Delhi / NCR', 'Bangalore/Bengaluru', 'Bangalore/Bengaluru', 'Bangalore/Bengaluru', 'Bangalore/Bengaluru', 'Bangalore/Bengaluru', 'Bangalore/Bengaluru', 'Bangalore/Bengaluru', 'Bangalore/Bengaluru', 'Bangalore/Bengaluru']\n"
     ]
    }
   ],
   "source": [
    "#selecting the respective top 10 job_location and putting them in form of a list:\n",
    "job_location=[]\n",
    "for i in location:\n",
    "        job_location.append(i.text)\n",
    "        if len(job_location)>9:\n",
    "            break\n",
    "print('length:',len(job_location))\n",
    "print('list-',job_location)"
   ]
  },
  {
   "cell_type": "code",
   "execution_count": 42,
   "id": "42982072",
   "metadata": {},
   "outputs": [
    {
     "data": {
      "text/plain": [
       "20"
      ]
     },
     "execution_count": 42,
     "metadata": {},
     "output_type": "execute_result"
    }
   ],
   "source": [
    "company=driver.find_elements_by_xpath('//a[@class=\"subTitle ellipsis fleft\"]')#finding the company tags  using xpath\n",
    "len(company) #length of the company tags"
   ]
  },
  {
   "cell_type": "code",
   "execution_count": 43,
   "id": "3deb5365",
   "metadata": {},
   "outputs": [
    {
     "name": "stdout",
     "output_type": "stream",
     "text": [
      "length: 10\n",
      "list- ['Talentify', 'GSK India', 'IBM', 'IBM', 'IBM', 'IBM', 'IBM', 'Siemens', 'Spiceworks', 'AT and T Global Business Services India P. Ltd.']\n"
     ]
    }
   ],
   "source": [
    "#selecting the respective top 10 company names and putting them in form of a list:\n",
    "company_name=[]\n",
    "for i in company:\n",
    "        company_name.append(i.text)\n",
    "        if len(company_name)>9:\n",
    "            break\n",
    "print('length:',len(company_name))\n",
    "print('list-',company_name)"
   ]
  },
  {
   "cell_type": "code",
   "execution_count": 44,
   "id": "4fe25a90",
   "metadata": {},
   "outputs": [
    {
     "data": {
      "text/html": [
       "<div>\n",
       "<style scoped>\n",
       "    .dataframe tbody tr th:only-of-type {\n",
       "        vertical-align: middle;\n",
       "    }\n",
       "\n",
       "    .dataframe tbody tr th {\n",
       "        vertical-align: top;\n",
       "    }\n",
       "\n",
       "    .dataframe thead th {\n",
       "        text-align: right;\n",
       "    }\n",
       "</style>\n",
       "<table border=\"1\" class=\"dataframe\">\n",
       "  <thead>\n",
       "    <tr style=\"text-align: right;\">\n",
       "      <th></th>\n",
       "      <th>job_titles</th>\n",
       "      <th>job_location</th>\n",
       "      <th>company_name</th>\n",
       "    </tr>\n",
       "  </thead>\n",
       "  <tbody>\n",
       "    <tr>\n",
       "      <th>0</th>\n",
       "      <td>Data Scientist / Analyst</td>\n",
       "      <td>Hyderabad/Secunderabad, Bangalore/Bengaluru, D...</td>\n",
       "      <td>Talentify</td>\n",
       "    </tr>\n",
       "    <tr>\n",
       "      <th>1</th>\n",
       "      <td>Senior Risk Data Scientist</td>\n",
       "      <td>Bangalore/Bengaluru</td>\n",
       "      <td>GSK India</td>\n",
       "    </tr>\n",
       "    <tr>\n",
       "      <th>2</th>\n",
       "      <td>Data Scientist: Advanced Analytics</td>\n",
       "      <td>Bangalore/Bengaluru</td>\n",
       "      <td>IBM</td>\n",
       "    </tr>\n",
       "    <tr>\n",
       "      <th>3</th>\n",
       "      <td>Data Scientist: Advanced Analytics</td>\n",
       "      <td>Bangalore/Bengaluru</td>\n",
       "      <td>IBM</td>\n",
       "    </tr>\n",
       "    <tr>\n",
       "      <th>4</th>\n",
       "      <td>Data Scientist</td>\n",
       "      <td>Bangalore/Bengaluru</td>\n",
       "      <td>IBM</td>\n",
       "    </tr>\n",
       "    <tr>\n",
       "      <th>5</th>\n",
       "      <td>Data Scientist: Artificial Intelligence</td>\n",
       "      <td>Bangalore/Bengaluru</td>\n",
       "      <td>IBM</td>\n",
       "    </tr>\n",
       "    <tr>\n",
       "      <th>6</th>\n",
       "      <td>Data Scientist: Artificial Intelligence</td>\n",
       "      <td>Bangalore/Bengaluru</td>\n",
       "      <td>IBM</td>\n",
       "    </tr>\n",
       "    <tr>\n",
       "      <th>7</th>\n",
       "      <td>Senior Data Scientist - Advanced Analytics</td>\n",
       "      <td>Bangalore/Bengaluru</td>\n",
       "      <td>Siemens</td>\n",
       "    </tr>\n",
       "    <tr>\n",
       "      <th>8</th>\n",
       "      <td>Senior Data Scientist</td>\n",
       "      <td>Bangalore/Bengaluru</td>\n",
       "      <td>Spiceworks</td>\n",
       "    </tr>\n",
       "    <tr>\n",
       "      <th>9</th>\n",
       "      <td>Senior - Data Scientist</td>\n",
       "      <td>Bangalore/Bengaluru</td>\n",
       "      <td>AT and T Global Business Services India P. Ltd.</td>\n",
       "    </tr>\n",
       "  </tbody>\n",
       "</table>\n",
       "</div>"
      ],
      "text/plain": [
       "                                   job_titles  \\\n",
       "0                    Data Scientist / Analyst   \n",
       "1                  Senior Risk Data Scientist   \n",
       "2          Data Scientist: Advanced Analytics   \n",
       "3          Data Scientist: Advanced Analytics   \n",
       "4                              Data Scientist   \n",
       "5     Data Scientist: Artificial Intelligence   \n",
       "6     Data Scientist: Artificial Intelligence   \n",
       "7  Senior Data Scientist - Advanced Analytics   \n",
       "8                       Senior Data Scientist   \n",
       "9                     Senior - Data Scientist   \n",
       "\n",
       "                                        job_location  \\\n",
       "0  Hyderabad/Secunderabad, Bangalore/Bengaluru, D...   \n",
       "1                                Bangalore/Bengaluru   \n",
       "2                                Bangalore/Bengaluru   \n",
       "3                                Bangalore/Bengaluru   \n",
       "4                                Bangalore/Bengaluru   \n",
       "5                                Bangalore/Bengaluru   \n",
       "6                                Bangalore/Bengaluru   \n",
       "7                                Bangalore/Bengaluru   \n",
       "8                                Bangalore/Bengaluru   \n",
       "9                                Bangalore/Bengaluru   \n",
       "\n",
       "                                      company_name  \n",
       "0                                        Talentify  \n",
       "1                                        GSK India  \n",
       "2                                              IBM  \n",
       "3                                              IBM  \n",
       "4                                              IBM  \n",
       "5                                              IBM  \n",
       "6                                              IBM  \n",
       "7                                          Siemens  \n",
       "8                                       Spiceworks  \n",
       "9  AT and T Global Business Services India P. Ltd.  "
      ]
     },
     "execution_count": 44,
     "metadata": {},
     "output_type": "execute_result"
    }
   ],
   "source": [
    "#Creating a data frame of all the list elements that are scraped from the web page:\n",
    "data=pd.DataFrame()\n",
    "data['job_titles']=job_titles\n",
    "data['job_location']=job_location\n",
    "data['company_name']=company_name\n",
    "data"
   ]
  },
  {
   "cell_type": "markdown",
   "id": "5ad8c214",
   "metadata": {},
   "source": [
    "# Q3: In this question you have to scrape data using the filters available on the webpage as shown below:\n",
    "You have to use the location and salary filter.\n",
    "\n",
    "You have to scrape data for “Data Scientist” designation for first 10 job results.\n",
    "\n",
    "You have to scrape the job-title, job-location, company name, experience required.\n",
    "\n",
    "The location filter to be used is “Delhi/NCR”. The salary filter to be used is “3-6” lakhs"
   ]
  },
  {
   "cell_type": "code",
   "execution_count": 45,
   "id": "c08179a4",
   "metadata": {},
   "outputs": [],
   "source": [
    "#Importing all the required libraries:\n",
    "import selenium\n",
    "from selenium import webdriver\n",
    "import pandas as pd \n",
    "import warnings\n",
    "warnings.filterwarnings(\"ignore\")"
   ]
  },
  {
   "cell_type": "code",
   "execution_count": 46,
   "id": "463a139b",
   "metadata": {},
   "outputs": [],
   "source": [
    "#Getting the webdriver access:\n",
    "driver=webdriver.Chrome(r'C:\\Users\\admin\\Desktop\\chromedriver.exe')"
   ]
  },
  {
   "cell_type": "code",
   "execution_count": 47,
   "id": "bdb0d7c9",
   "metadata": {},
   "outputs": [],
   "source": [
    "#Typing the required url to explore:\n",
    "url='https://www.naukri.com/'\n",
    "driver.get(url)"
   ]
  },
  {
   "cell_type": "code",
   "execution_count": 48,
   "id": "19b21d7e",
   "metadata": {},
   "outputs": [
    {
     "data": {
      "text/plain": [
       "<selenium.webdriver.remote.webelement.WebElement (session=\"6aba6ac474e9d125b2b1695ff3d645e1\", element=\"a60d7b30-7a0d-4fa6-bc8c-0fbe5ee78a3d\")>"
      ]
     },
     "execution_count": 48,
     "metadata": {},
     "output_type": "execute_result"
    }
   ],
   "source": [
    "#Filling the “Skill, Designations, Companies” field and clicking the search button to explore different job options:\n",
    "\n",
    "search_job=driver.find_element_by_class_name(\"suggestor-input \")#finding the job search element using class name\n",
    "search_job"
   ]
  },
  {
   "cell_type": "code",
   "execution_count": 49,
   "id": "db1874b5",
   "metadata": {},
   "outputs": [],
   "source": [
    "search_job.send_keys(\"Data Scientist\") # Typing data for  Designations field in the webpage"
   ]
  },
  {
   "cell_type": "code",
   "execution_count": 50,
   "id": "2c408f17",
   "metadata": {},
   "outputs": [
    {
     "data": {
      "text/plain": [
       "<selenium.webdriver.remote.webelement.WebElement (session=\"6aba6ac474e9d125b2b1695ff3d645e1\", element=\"b43c88a3-b594-4d89-9cd5-0fb4dbaa8154\")>"
      ]
     },
     "execution_count": 50,
     "metadata": {},
     "output_type": "execute_result"
    }
   ],
   "source": [
    "search_btn=driver.find_element_by_xpath('//div[@class=\"qsbSubmit\"]')#finding the search button element using xpath\n",
    "search_btn"
   ]
  },
  {
   "cell_type": "code",
   "execution_count": 52,
   "id": "dcd3ef11",
   "metadata": {},
   "outputs": [],
   "source": [
    "search_btn.click()  #clicking the search button"
   ]
  },
  {
   "cell_type": "code",
   "execution_count": 54,
   "id": "8cf97930",
   "metadata": {},
   "outputs": [
    {
     "data": {
      "text/plain": [
       "<selenium.webdriver.remote.webelement.WebElement (session=\"6aba6ac474e9d125b2b1695ff3d645e1\", element=\"30d76861-9612-4a68-9344-4ad699e6ba9d\")>"
      ]
     },
     "execution_count": 54,
     "metadata": {},
     "output_type": "execute_result"
    }
   ],
   "source": [
    "location=driver.find_element_by_xpath('/html/body/div[1]/div[3]/div[2]/section[1]/div[2]/div[1]/div[2]/div[3]/label/i')\n",
    "location"
   ]
  },
  {
   "cell_type": "code",
   "execution_count": 55,
   "id": "dcee7560",
   "metadata": {},
   "outputs": [],
   "source": [
    "location.click() #clicking the click button"
   ]
  },
  {
   "cell_type": "code",
   "execution_count": 56,
   "id": "1c82d038",
   "metadata": {},
   "outputs": [],
   "source": [
    "salary_check=driver.find_element_by_xpath('/html/body/div[1]/div[3]/div[2]/section[1]/div[2]/div[4]/div[2]/div[2]/label/i')\n",
    "salary_check.click() #clicking the salary click button"
   ]
  },
  {
   "cell_type": "code",
   "execution_count": 57,
   "id": "e5d7e956",
   "metadata": {},
   "outputs": [
    {
     "data": {
      "text/plain": [
       "20"
      ]
     },
     "execution_count": 57,
     "metadata": {},
     "output_type": "execute_result"
    }
   ],
   "source": [
    "titletags=driver.find_elements_by_xpath('//a[@class=\"title fw500 ellipsis\"]')#finding the titletags  using xpath\n",
    "len(titletags) #length of the titletags"
   ]
  },
  {
   "cell_type": "code",
   "execution_count": 58,
   "id": "6f828f52",
   "metadata": {},
   "outputs": [
    {
     "name": "stdout",
     "output_type": "stream",
     "text": [
      "length: 10\n",
      "list- ['Data Scientist II', 'Opening For Data Scientist', 'Data Analyst / Data Scientist / Business Analytics / Fresher - MNC', 'Data Scientist', 'Lead Data Scientist - KYC/Fraud/Marketing', 'Junior Data Scientist - Goods & Service Tax Network, Delhi', 'Associate Data Scientist - Java/ Scala/ Apache Server', 'Data Scientist', 'Data Scientist', 'Data Scientist / Senior DS/ Team Lead']\n"
     ]
    }
   ],
   "source": [
    "#selecting the top 10 titletags and putting them in a list:\n",
    "job_titles=[]\n",
    "for i in titletags:\n",
    "        job_titles.append(i.text)\n",
    "        if len(job_titles)>9:\n",
    "            break\n",
    "print('length:',len(job_titles))\n",
    "print('list-',job_titles)"
   ]
  },
  {
   "cell_type": "code",
   "execution_count": 59,
   "id": "fd19e4ab",
   "metadata": {},
   "outputs": [
    {
     "data": {
      "text/plain": [
       "20"
      ]
     },
     "execution_count": 59,
     "metadata": {},
     "output_type": "execute_result"
    }
   ],
   "source": [
    "location=driver.find_elements_by_xpath('//li[@class=\"fleft grey-text br2 placeHolderLi location\"]')#finding the location tags  using xpath\n",
    "len(location) #length of the location tags"
   ]
  },
  {
   "cell_type": "code",
   "execution_count": 60,
   "id": "135d6c33",
   "metadata": {},
   "outputs": [
    {
     "name": "stdout",
     "output_type": "stream",
     "text": [
      "length: 10\n",
      "list- ['Delhi / NCR', 'Gurgaon/Gurugram', 'Noida, New Delhi, Delhi / NCR', 'Noida', 'New Delhi', 'Delhi / NCR', 'Noida', 'Gurgaon/Gurugram\\n(WFH during Covid)', 'New Delhi', 'Mumbai, Gurgaon/Gurugram(Cyber City +1)']\n"
     ]
    }
   ],
   "source": [
    "#selecting the respective top 10 job_location and putting them in form of a list:\n",
    "job_location=[]\n",
    "for i in location:\n",
    "        job_location.append(i.text)\n",
    "        if len(job_location)>9:\n",
    "            break\n",
    "print('length:',len(job_location))\n",
    "print('list-',job_location)"
   ]
  },
  {
   "cell_type": "code",
   "execution_count": 61,
   "id": "67851463",
   "metadata": {},
   "outputs": [
    {
     "data": {
      "text/plain": [
       "20"
      ]
     },
     "execution_count": 61,
     "metadata": {},
     "output_type": "execute_result"
    }
   ],
   "source": [
    "company=driver.find_elements_by_xpath('//a[@class=\"subTitle ellipsis fleft\"]')#finding the company tags  using xpath\n",
    "len(company) #length of the company tags"
   ]
  },
  {
   "cell_type": "code",
   "execution_count": 62,
   "id": "186443be",
   "metadata": {},
   "outputs": [
    {
     "name": "stdout",
     "output_type": "stream",
     "text": [
      "length: 10\n",
      "list- ['Chegg', 'Care Health Insurance', 'GABA Consultancy services', 'Stefanini', 'Tide Software', 'NISG (National Institute for Smart Government)', 'Smart work Consultants', 'Zekardo Automotive Solutions', 'Team Computers Pvt Ltd', 'NebulARC Technologies Private Limited']\n"
     ]
    }
   ],
   "source": [
    "#selecting the respective top 10 company names and putting them in form of a list:\n",
    "company_name=[]\n",
    "for i in company:\n",
    "        company_name.append(i.text)\n",
    "        if len(company_name)>9:\n",
    "            break\n",
    "print('length:',len(company_name))\n",
    "print('list-',company_name)"
   ]
  },
  {
   "cell_type": "code",
   "execution_count": 63,
   "id": "a4bf2790",
   "metadata": {},
   "outputs": [
    {
     "data": {
      "text/plain": [
       "20"
      ]
     },
     "execution_count": 63,
     "metadata": {},
     "output_type": "execute_result"
    }
   ],
   "source": [
    "exp=driver.find_elements_by_xpath('//li[@class=\"fleft grey-text br2 placeHolderLi experience\"]')#finding the experience tags  using xpath\n",
    "len(exp) #length of the experience tags"
   ]
  },
  {
   "cell_type": "code",
   "execution_count": 65,
   "id": "80150073",
   "metadata": {},
   "outputs": [
    {
     "name": "stdout",
     "output_type": "stream",
     "text": [
      "length: 10\n",
      "list- ['2-6 Yrs', '1-5 Yrs', '0-0 Yrs', '3-8 Yrs', '1-6 Yrs', '3-8 Yrs', '1-4 Yrs', '5-8 Yrs', '2-6 Yrs', '0-4 Yrs']\n"
     ]
    }
   ],
   "source": [
    "#selecting the respective top 10 experience required and putting them in form of a list:\n",
    "experience_required=[]\n",
    "for i in exp:\n",
    "        experience_required.append(i.text)\n",
    "        if len(experience_required)>9:\n",
    "            break\n",
    "print('length:',len(experience_required))\n",
    "print('list-',experience_required)"
   ]
  },
  {
   "cell_type": "code",
   "execution_count": 66,
   "id": "a3f42e0e",
   "metadata": {},
   "outputs": [
    {
     "data": {
      "text/html": [
       "<div>\n",
       "<style scoped>\n",
       "    .dataframe tbody tr th:only-of-type {\n",
       "        vertical-align: middle;\n",
       "    }\n",
       "\n",
       "    .dataframe tbody tr th {\n",
       "        vertical-align: top;\n",
       "    }\n",
       "\n",
       "    .dataframe thead th {\n",
       "        text-align: right;\n",
       "    }\n",
       "</style>\n",
       "<table border=\"1\" class=\"dataframe\">\n",
       "  <thead>\n",
       "    <tr style=\"text-align: right;\">\n",
       "      <th></th>\n",
       "      <th>job_titles</th>\n",
       "      <th>job_location</th>\n",
       "      <th>company_name</th>\n",
       "      <th>experience_required</th>\n",
       "    </tr>\n",
       "  </thead>\n",
       "  <tbody>\n",
       "    <tr>\n",
       "      <th>0</th>\n",
       "      <td>Data Scientist II</td>\n",
       "      <td>Delhi / NCR</td>\n",
       "      <td>Chegg</td>\n",
       "      <td>2-6 Yrs</td>\n",
       "    </tr>\n",
       "    <tr>\n",
       "      <th>1</th>\n",
       "      <td>Opening For Data Scientist</td>\n",
       "      <td>Gurgaon/Gurugram</td>\n",
       "      <td>Care Health Insurance</td>\n",
       "      <td>1-5 Yrs</td>\n",
       "    </tr>\n",
       "    <tr>\n",
       "      <th>2</th>\n",
       "      <td>Data Analyst / Data Scientist / Business Analy...</td>\n",
       "      <td>Noida, New Delhi, Delhi / NCR</td>\n",
       "      <td>GABA Consultancy services</td>\n",
       "      <td>0-0 Yrs</td>\n",
       "    </tr>\n",
       "    <tr>\n",
       "      <th>3</th>\n",
       "      <td>Data Scientist</td>\n",
       "      <td>Noida</td>\n",
       "      <td>Stefanini</td>\n",
       "      <td>3-8 Yrs</td>\n",
       "    </tr>\n",
       "    <tr>\n",
       "      <th>4</th>\n",
       "      <td>Lead Data Scientist - KYC/Fraud/Marketing</td>\n",
       "      <td>New Delhi</td>\n",
       "      <td>Tide Software</td>\n",
       "      <td>1-6 Yrs</td>\n",
       "    </tr>\n",
       "    <tr>\n",
       "      <th>5</th>\n",
       "      <td>Junior Data Scientist - Goods &amp; Service Tax Ne...</td>\n",
       "      <td>Delhi / NCR</td>\n",
       "      <td>NISG (National Institute for Smart Government)</td>\n",
       "      <td>3-8 Yrs</td>\n",
       "    </tr>\n",
       "    <tr>\n",
       "      <th>6</th>\n",
       "      <td>Associate Data Scientist - Java/ Scala/ Apache...</td>\n",
       "      <td>Noida</td>\n",
       "      <td>Smart work Consultants</td>\n",
       "      <td>1-4 Yrs</td>\n",
       "    </tr>\n",
       "    <tr>\n",
       "      <th>7</th>\n",
       "      <td>Data Scientist</td>\n",
       "      <td>Gurgaon/Gurugram\\n(WFH during Covid)</td>\n",
       "      <td>Zekardo Automotive Solutions</td>\n",
       "      <td>5-8 Yrs</td>\n",
       "    </tr>\n",
       "    <tr>\n",
       "      <th>8</th>\n",
       "      <td>Data Scientist</td>\n",
       "      <td>New Delhi</td>\n",
       "      <td>Team Computers Pvt Ltd</td>\n",
       "      <td>2-6 Yrs</td>\n",
       "    </tr>\n",
       "    <tr>\n",
       "      <th>9</th>\n",
       "      <td>Data Scientist / Senior DS/ Team Lead</td>\n",
       "      <td>Mumbai, Gurgaon/Gurugram(Cyber City +1)</td>\n",
       "      <td>NebulARC Technologies Private Limited</td>\n",
       "      <td>0-4 Yrs</td>\n",
       "    </tr>\n",
       "  </tbody>\n",
       "</table>\n",
       "</div>"
      ],
      "text/plain": [
       "                                          job_titles  \\\n",
       "0                                  Data Scientist II   \n",
       "1                         Opening For Data Scientist   \n",
       "2  Data Analyst / Data Scientist / Business Analy...   \n",
       "3                                     Data Scientist   \n",
       "4          Lead Data Scientist - KYC/Fraud/Marketing   \n",
       "5  Junior Data Scientist - Goods & Service Tax Ne...   \n",
       "6  Associate Data Scientist - Java/ Scala/ Apache...   \n",
       "7                                     Data Scientist   \n",
       "8                                     Data Scientist   \n",
       "9              Data Scientist / Senior DS/ Team Lead   \n",
       "\n",
       "                              job_location  \\\n",
       "0                              Delhi / NCR   \n",
       "1                         Gurgaon/Gurugram   \n",
       "2            Noida, New Delhi, Delhi / NCR   \n",
       "3                                    Noida   \n",
       "4                                New Delhi   \n",
       "5                              Delhi / NCR   \n",
       "6                                    Noida   \n",
       "7     Gurgaon/Gurugram\\n(WFH during Covid)   \n",
       "8                                New Delhi   \n",
       "9  Mumbai, Gurgaon/Gurugram(Cyber City +1)   \n",
       "\n",
       "                                     company_name experience_required  \n",
       "0                                           Chegg             2-6 Yrs  \n",
       "1                           Care Health Insurance             1-5 Yrs  \n",
       "2                       GABA Consultancy services             0-0 Yrs  \n",
       "3                                       Stefanini             3-8 Yrs  \n",
       "4                                   Tide Software             1-6 Yrs  \n",
       "5  NISG (National Institute for Smart Government)             3-8 Yrs  \n",
       "6                          Smart work Consultants             1-4 Yrs  \n",
       "7                    Zekardo Automotive Solutions             5-8 Yrs  \n",
       "8                          Team Computers Pvt Ltd             2-6 Yrs  \n",
       "9           NebulARC Technologies Private Limited             0-4 Yrs  "
      ]
     },
     "execution_count": 66,
     "metadata": {},
     "output_type": "execute_result"
    }
   ],
   "source": [
    "#Creating a data frame of all the list elements that are scraped from the web page:\n",
    "data=pd.DataFrame()\n",
    "data['job_titles']=job_titles\n",
    "data['job_location']=job_location\n",
    "data['company_name']=company_name\n",
    "data['experience_required']=experience_required\n",
    "data\n"
   ]
  },
  {
   "cell_type": "markdown",
   "id": "557fb337",
   "metadata": {},
   "source": [
    "# Q4: Scrape data of first 100 sunglasses listings on flipkart.com. You have to scrape four attributes:\n",
    "1. Brand\n",
    "2. Product Description\n",
    "3. Price"
   ]
  },
  {
   "cell_type": "code",
   "execution_count": 1,
   "id": "aa79567c",
   "metadata": {},
   "outputs": [],
   "source": [
    "#Importing all the required libraries:\n",
    "import selenium\n",
    "from selenium import webdriver\n",
    "import pandas as pd \n",
    "import warnings\n",
    "warnings.filterwarnings(\"ignore\")"
   ]
  },
  {
   "cell_type": "code",
   "execution_count": 2,
   "id": "8c33ae30",
   "metadata": {},
   "outputs": [],
   "source": [
    "#Getting the webdriver access:\n",
    "driver=webdriver.Chrome(r'C:\\Users\\admin\\Desktop\\chromedriver.exe')"
   ]
  },
  {
   "cell_type": "code",
   "execution_count": 3,
   "id": "252d9572",
   "metadata": {},
   "outputs": [],
   "source": [
    "#Typing the required url to explore:\n",
    "url='https://www.flipkart.com/'\n",
    "driver.get(url)"
   ]
  },
  {
   "cell_type": "code",
   "execution_count": 4,
   "id": "df42b37e",
   "metadata": {},
   "outputs": [
    {
     "data": {
      "text/plain": [
       "<selenium.webdriver.remote.webelement.WebElement (session=\"8ffc8ad56b8884583b09de6928240b3f\", element=\"199252fb-1067-4082-b61b-0bc9a2cae4dd\")>"
      ]
     },
     "execution_count": 4,
     "metadata": {},
     "output_type": "execute_result"
    }
   ],
   "source": [
    "#Filling the “search for products, brands andmore” field and clicking the search button to explore different job options:\n",
    "\n",
    "search=driver.find_element_by_xpath('/html/body/div[1]/div/div[1]/div[1]/div[2]/div[2]/form/div/div/input')#finding the shopping search element using xpath\n",
    "search"
   ]
  },
  {
   "cell_type": "code",
   "execution_count": 5,
   "id": "45381536",
   "metadata": {},
   "outputs": [],
   "source": [
    "search.send_keys(\"sunglasses\") # Typing data for \"search for products, brands andmore” field in the webpage"
   ]
  },
  {
   "cell_type": "code",
   "execution_count": 7,
   "id": "3ed79c91",
   "metadata": {},
   "outputs": [
    {
     "data": {
      "text/plain": [
       "<selenium.webdriver.remote.webelement.WebElement (session=\"8ffc8ad56b8884583b09de6928240b3f\", element=\"487c1908-0b32-4f90-a817-27476c3f9ce0\")>"
      ]
     },
     "execution_count": 7,
     "metadata": {},
     "output_type": "execute_result"
    }
   ],
   "source": [
    "search_icon=driver.find_element_by_xpath('//button[@class=\"L0Z3Pu\"]')#finding the search button element using xpath\n",
    "search_icon"
   ]
  },
  {
   "cell_type": "code",
   "execution_count": 8,
   "id": "3d10dc29",
   "metadata": {},
   "outputs": [],
   "source": [
    "close_login=driver.find_element_by_xpath('/html/body/div[2]/div/div/button')\n",
    "close_login.click()"
   ]
  },
  {
   "cell_type": "code",
   "execution_count": 9,
   "id": "e88f5c63",
   "metadata": {},
   "outputs": [],
   "source": [
    "search_icon.click()"
   ]
  },
  {
   "cell_type": "code",
   "execution_count": 10,
   "id": "1cb65211",
   "metadata": {},
   "outputs": [
    {
     "name": "stdout",
     "output_type": "stream",
     "text": [
      "scraping page  1\n",
      "scraping page  2\n",
      "scraping page  3\n"
     ]
    }
   ],
   "source": [
    "#Selecting top 120 brand name tags and framing them in list:\n",
    "brand_name=[]\n",
    "from time import sleep\n",
    "for i in range(3):\n",
    "    print('scraping page ',i+1)\n",
    "    brand=driver.find_elements_by_xpath('//div[@class=\"_2WkVRV\"]')#finding the brand tags  using xpath\n",
    "    for i in brand:\n",
    "        brand_name.append(i.text)\n",
    "    next_btn=driver.find_element_by_xpath('//a[@class=\"_1LKTO3\"]')#finding the search button element using xpath\n",
    "    next_btn.click()   #clicking the next button\n",
    "    sleep(2)"
   ]
  },
  {
   "cell_type": "code",
   "execution_count": 13,
   "id": "5174236e",
   "metadata": {},
   "outputs": [
    {
     "name": "stdout",
     "output_type": "stream",
     "text": [
      "scraping page  1\n",
      "scraping page  2\n",
      "scraping page  3\n"
     ]
    }
   ],
   "source": [
    "#selecting the top 120 product description tag and putting them in a list:\n",
    "product_description=[]\n",
    "from time import sleep\n",
    "for i in range(3):\n",
    "    print('scraping page ',i+1)\n",
    "    product=driver.find_elements_by_xpath('//a[@class=\"IRpwTa\"]')\n",
    "    for i in product:\n",
    "        product_description.append(i.text)\n",
    "    next_btn=driver.find_element_by_xpath('//a[@class=\"_1LKTO3\"]')#finding the search button element using xpath\n",
    "    next_btn.click()   #clicking the next button\n",
    "    sleep(2)"
   ]
  },
  {
   "cell_type": "code",
   "execution_count": 14,
   "id": "afc84dbc",
   "metadata": {},
   "outputs": [
    {
     "name": "stdout",
     "output_type": "stream",
     "text": [
      "scraping page  1\n",
      "scraping page  2\n",
      "scraping page  3\n"
     ]
    }
   ],
   "source": [
    "#selecting the top 120 pricetags and putting them in a list:\n",
    "Price=[]\n",
    "from time import sleep\n",
    "for i in range(3):\n",
    "    print('scraping page ',i+1)\n",
    "    price=driver.find_elements_by_xpath('//div[@class=\"_30jeq3\"]') #finding the price tags  using xpath\n",
    "    for i in price:\n",
    "        Price.append(i.text)\n",
    "    next_btn=driver.find_element_by_xpath('//a[@class=\"_1LKTO3\"]')#finding the search button element using xpath\n",
    "    next_btn.click()   #clicking the next button\n",
    "    sleep(2)"
   ]
  },
  {
   "cell_type": "code",
   "execution_count": 15,
   "id": "358f38ce",
   "metadata": {},
   "outputs": [
    {
     "name": "stdout",
     "output_type": "stream",
     "text": [
      "scraping page  1\n",
      "scraping page  2\n",
      "scraping page  3\n"
     ]
    }
   ],
   "source": [
    "#selecting the top 120 discount tag and putting them in a list:\n",
    "Discount=[]\n",
    "from time import sleep\n",
    "for i in range(3):\n",
    "    print('scraping page ',i+1)\n",
    "    discount=driver.find_elements_by_xpath('//div[@class=\"_3Ay6Sb\"]')  #finding the discount tags  using xpath\n",
    "    for i in discount:\n",
    "        Discount.append(i.text)\n",
    "    next_btn=driver.find_element_by_xpath('//a[@class=\"_1LKTO3\"]')#finding the search button element using xpath\n",
    "    next_btn.click()   #clicking the next button\n",
    "    sleep(2)\n",
    "   "
   ]
  },
  {
   "cell_type": "code",
   "execution_count": 16,
   "id": "42f74b6f",
   "metadata": {},
   "outputs": [],
   "source": [
    "#selecting topp 100 features in the lists given above:\n",
    "brand_name=brand_name[0:100]\n",
    "product_description=product_description[0:100]\n",
    "Price=Price[0:100]\n",
    "Discount=Discount[0:100]"
   ]
  },
  {
   "cell_type": "code",
   "execution_count": 17,
   "id": "01458fe3",
   "metadata": {},
   "outputs": [
    {
     "data": {
      "text/html": [
       "<div>\n",
       "<style scoped>\n",
       "    .dataframe tbody tr th:only-of-type {\n",
       "        vertical-align: middle;\n",
       "    }\n",
       "\n",
       "    .dataframe tbody tr th {\n",
       "        vertical-align: top;\n",
       "    }\n",
       "\n",
       "    .dataframe thead th {\n",
       "        text-align: right;\n",
       "    }\n",
       "</style>\n",
       "<table border=\"1\" class=\"dataframe\">\n",
       "  <thead>\n",
       "    <tr style=\"text-align: right;\">\n",
       "      <th></th>\n",
       "      <th>Brand_name</th>\n",
       "      <th>Product_Description</th>\n",
       "      <th>Price</th>\n",
       "      <th>Discount</th>\n",
       "    </tr>\n",
       "  </thead>\n",
       "  <tbody>\n",
       "    <tr>\n",
       "      <th>0</th>\n",
       "      <td>Silver Kartz</td>\n",
       "      <td>UV Protection Clubmaster Sunglasses (53)</td>\n",
       "      <td>₹183</td>\n",
       "      <td>75% off</td>\n",
       "    </tr>\n",
       "    <tr>\n",
       "      <th>1</th>\n",
       "      <td>Singco India</td>\n",
       "      <td>Gradient, Toughened Glass Lens, UV Protection ...</td>\n",
       "      <td>₹199</td>\n",
       "      <td>77% off</td>\n",
       "    </tr>\n",
       "    <tr>\n",
       "      <th>2</th>\n",
       "      <td>Elligator</td>\n",
       "      <td>UV Protection Round Sunglasses (54)</td>\n",
       "      <td>₹689</td>\n",
       "      <td>90% off</td>\n",
       "    </tr>\n",
       "    <tr>\n",
       "      <th>3</th>\n",
       "      <td>Fastrack</td>\n",
       "      <td>Gradient, UV Protection Wayfarer Sunglasses (F...</td>\n",
       "      <td>₹165</td>\n",
       "      <td>38% off</td>\n",
       "    </tr>\n",
       "    <tr>\n",
       "      <th>4</th>\n",
       "      <td>SHAAH COLLECTIONS</td>\n",
       "      <td>UV Protection, Polarized, Mirrored Rectangular...</td>\n",
       "      <td>₹180</td>\n",
       "      <td>90% off</td>\n",
       "    </tr>\n",
       "    <tr>\n",
       "      <th>...</th>\n",
       "      <td>...</td>\n",
       "      <td>...</td>\n",
       "      <td>...</td>\n",
       "      <td>...</td>\n",
       "    </tr>\n",
       "    <tr>\n",
       "      <th>95</th>\n",
       "      <td>Silver Kartz</td>\n",
       "      <td>UV Protection, Polarized, Mirrored Rectangular...</td>\n",
       "      <td>₹203</td>\n",
       "      <td>85% off</td>\n",
       "    </tr>\n",
       "    <tr>\n",
       "      <th>96</th>\n",
       "      <td>SHAAH COLLECTIONS</td>\n",
       "      <td>UV Protection, Gradient Rectangular Sunglasses...</td>\n",
       "      <td>₹249</td>\n",
       "      <td>81% off</td>\n",
       "    </tr>\n",
       "    <tr>\n",
       "      <th>97</th>\n",
       "      <td>ROZZETTA CRAFT</td>\n",
       "      <td>UV Protection Retro Square Sunglasses (Free Size)</td>\n",
       "      <td>₹202</td>\n",
       "      <td>80% off</td>\n",
       "    </tr>\n",
       "    <tr>\n",
       "      <th>98</th>\n",
       "      <td>PHENOMENAL</td>\n",
       "      <td>UV Protection Rectangular Sunglasses (58)</td>\n",
       "      <td>₹449</td>\n",
       "      <td>84% off</td>\n",
       "    </tr>\n",
       "    <tr>\n",
       "      <th>99</th>\n",
       "      <td>ROYAL SON</td>\n",
       "      <td>Gradient, UV Protection Wayfarer Sunglasses (F...</td>\n",
       "      <td>₹349</td>\n",
       "      <td>76% off</td>\n",
       "    </tr>\n",
       "  </tbody>\n",
       "</table>\n",
       "<p>100 rows × 4 columns</p>\n",
       "</div>"
      ],
      "text/plain": [
       "           Brand_name                                Product_Description  \\\n",
       "0        Silver Kartz           UV Protection Clubmaster Sunglasses (53)   \n",
       "1        Singco India  Gradient, Toughened Glass Lens, UV Protection ...   \n",
       "2           Elligator                UV Protection Round Sunglasses (54)   \n",
       "3            Fastrack  Gradient, UV Protection Wayfarer Sunglasses (F...   \n",
       "4   SHAAH COLLECTIONS  UV Protection, Polarized, Mirrored Rectangular...   \n",
       "..                ...                                                ...   \n",
       "95       Silver Kartz  UV Protection, Polarized, Mirrored Rectangular...   \n",
       "96  SHAAH COLLECTIONS  UV Protection, Gradient Rectangular Sunglasses...   \n",
       "97     ROZZETTA CRAFT  UV Protection Retro Square Sunglasses (Free Size)   \n",
       "98         PHENOMENAL          UV Protection Rectangular Sunglasses (58)   \n",
       "99          ROYAL SON  Gradient, UV Protection Wayfarer Sunglasses (F...   \n",
       "\n",
       "   Price Discount  \n",
       "0   ₹183  75% off  \n",
       "1   ₹199  77% off  \n",
       "2   ₹689  90% off  \n",
       "3   ₹165  38% off  \n",
       "4   ₹180  90% off  \n",
       "..   ...      ...  \n",
       "95  ₹203  85% off  \n",
       "96  ₹249  81% off  \n",
       "97  ₹202  80% off  \n",
       "98  ₹449  84% off  \n",
       "99  ₹349  76% off  \n",
       "\n",
       "[100 rows x 4 columns]"
      ]
     },
     "execution_count": 17,
     "metadata": {},
     "output_type": "execute_result"
    }
   ],
   "source": [
    "#Creating a data frame for top 100 suglasses details:\n",
    "data=pd.DataFrame()\n",
    "data['Brand_name']=brand_name\n",
    "data['Product_Description']=product_description\n",
    "data['Price']=Price\n",
    "data['Discount']=Discount\n",
    "data"
   ]
  },
  {
   "cell_type": "markdown",
   "id": "921bdd8a",
   "metadata": {},
   "source": [
    "# Q5: Scrape 100 reviews data from flipkart.com for iphone11 phone. You have to go the link.\n",
    "As shown in the above page you have to scrape the tick marked attributes.These are:\n",
    "1. Rating\n",
    "2. Review summary\n",
    "3. Full review\n",
    "4. You have to scrape this data for first 100 reviews.\n",
    "        "
   ]
  },
  {
   "cell_type": "code",
   "execution_count": 1,
   "id": "32ba5a73",
   "metadata": {},
   "outputs": [],
   "source": [
    "#Importing all the required libraries:\n",
    "import selenium\n",
    "from selenium import webdriver\n",
    "import pandas as pd \n",
    "import warnings\n",
    "warnings.filterwarnings(\"ignore\")"
   ]
  },
  {
   "cell_type": "code",
   "execution_count": 2,
   "id": "da651e14",
   "metadata": {},
   "outputs": [],
   "source": [
    "#Getting the webdriver access:\n",
    "driver=webdriver.Chrome(r'C:\\Users\\admin\\Desktop\\chromedriver.exe')"
   ]
  },
  {
   "cell_type": "code",
   "execution_count": 3,
   "id": "345cba80",
   "metadata": {},
   "outputs": [],
   "source": [
    "#Typing the required url to explore:\n",
    "url='https://www.flipkart.com/apple-iphone-11-black-64-gb-includes-earpods-power-adapter/p/itm0f37c2240b217?pid=MOBFKCTSVZAXUHGR&lid=LSTMOBFKCTSVZAXUHGREPBFGI&marketplace=FLIPKART&q=iphone+11+64gb+black&store=tyy%2F4io&srno=s_1_2&otracker=AS_QueryStore_OrganicAutoSuggest_1_21_na_na_na&otracker1=AS_QueryStore_OrganicAutoSuggest_1_21_na_na_na&fm=search-autosuggest&iid=3521d190-f551-4796-adfc-5b2cdba5c21d.MOBFKCTSVZAXUHGR.SEARCH&ppt=hp&ppn=homepage&ssid=qagkrkrwi80000001644421450363&qH=deefce46cc06167b'\n",
    "driver.get(url)"
   ]
  },
  {
   "cell_type": "code",
   "execution_count": 4,
   "id": "2b699434",
   "metadata": {},
   "outputs": [],
   "source": [
    "#Viewing all reviews of iphone11:\n",
    "view_all_reviews=driver.find_element_by_xpath('/html/body/div[1]/div/div[3]/div[1]/div[2]/div[8]/div/div/div[5]/div/a/div/span')\n",
    "view_all_reviews.click()"
   ]
  },
  {
   "cell_type": "code",
   "execution_count": 5,
   "id": "c5af30fb",
   "metadata": {},
   "outputs": [],
   "source": [
    "#defining function for rating:\n",
    "def r1(r1):\n",
    "    for i in rating:\n",
    "        r1.append(i.text)\n",
    "        "
   ]
  },
  {
   "cell_type": "code",
   "execution_count": 6,
   "id": "de4bc768",
   "metadata": {},
   "outputs": [],
   "source": [
    "#defining function for summary:\n",
    "def r11(r11):\n",
    "    for i in summary:\n",
    "        r11.append(i.text)"
   ]
  },
  {
   "cell_type": "code",
   "execution_count": 7,
   "id": "fabf1d68",
   "metadata": {},
   "outputs": [],
   "source": [
    "#defining function for fullreview:\n",
    "def r12(r12):\n",
    "    for i in full:\n",
    "        r12.append(i.text)"
   ]
  },
  {
   "cell_type": "code",
   "execution_count": 33,
   "id": "fa42461f",
   "metadata": {},
   "outputs": [],
   "source": [
    "#Creating empty lists for rating,summary,review:\n",
    "Rating=[] \n",
    "RS=[]\n",
    "FR=[]"
   ]
  },
  {
   "cell_type": "code",
   "execution_count": 34,
   "id": "3dffe43b",
   "metadata": {},
   "outputs": [
    {
     "data": {
      "text/plain": [
       "['5', '5', '5', '5', '5', '5', '5', '5', '4', '5']"
      ]
     },
     "execution_count": 34,
     "metadata": {},
     "output_type": "execute_result"
    }
   ],
   "source": [
    "#Selecting top 10 'rating, review summary, fullreview' elements data and putting them in the empty lists: \n",
    "rating=driver.find_elements_by_xpath('//div[@class=\"_3LWZlK _1BLPMq\"]')\n",
    "summary=driver.find_elements_by_xpath('//p[@class=\"_2-N8zT\"]')\n",
    "full=driver.find_elements_by_xpath('//div[@class=\"t-ZTKy\"]')\n",
    "r11(RS)\n",
    "r12(FR)\n",
    "r1(Rating)\n",
    "len(Rating)\n",
    "Rating"
   ]
  },
  {
   "cell_type": "code",
   "execution_count": 24,
   "id": "e0666e1e",
   "metadata": {},
   "outputs": [],
   "source": [
    "next_btn=driver.find_element_by_xpath('/html/body/div[1]/div/div[3]/div/div/div[2]/div[13]/div/div/nav/a[11]/span')#finding the search button element using xpath\n",
    "next_btn.click()#clicking the next button\n"
   ]
  },
  {
   "cell_type": "code",
   "execution_count": 30,
   "id": "42f2d9df",
   "metadata": {},
   "outputs": [
    {
     "name": "stdout",
     "output_type": "stream",
     "text": [
      "scraping page  2\n",
      "scraping page  3\n",
      "scraping page  4\n",
      "scraping page  5\n",
      "scraping page  6\n",
      "scraping page  7\n",
      "scraping page  8\n",
      "scraping page  9\n",
      "scraping page  10\n"
     ]
    }
   ],
   "source": [
    "#Selecting top 90 'rating, review summary, fullreview' elements data and putting them in the empty lists: \n",
    "\n",
    "RS1=[]\n",
    "FR1=[]\n",
    "Rating1=[]\n",
    "from time import sleep\n",
    "for i in range(1,10,1):\n",
    "    print('scraping page ',i+1)\n",
    "    rating=driver.find_elements_by_xpath('//div[@class=\"_3LWZlK _1BLPMq\"]')\n",
    "    summary=driver.find_elements_by_xpath('//p[@class=\"_2-N8zT\"]')\n",
    "    full=driver.find_elements_by_xpath('//div[@class=\"t-ZTKy\"]')\n",
    "    r11(RS1)\n",
    "    r12(FR1)\n",
    "    r1(Rating1)\n",
    "    next_btn=driver.find_element_by_xpath('/html/body/div[1]/div/div[3]/div/div/div[2]/div[13]/div/div/nav/a[12]')#finding the search button element using xpath\n",
    "    next_btn.click()#clicking the next button\n",
    "    sleep(2)"
   ]
  },
  {
   "cell_type": "code",
   "execution_count": 31,
   "id": "93f48853",
   "metadata": {},
   "outputs": [
    {
     "name": "stdout",
     "output_type": "stream",
     "text": [
      "90 90 84\n"
     ]
    }
   ],
   "source": [
    "print(len(RS1),len(FR1),len(Rating1))"
   ]
  },
  {
   "cell_type": "code",
   "execution_count": 32,
   "id": "3c991f2c",
   "metadata": {},
   "outputs": [
    {
     "data": {
      "text/plain": [
       "90"
      ]
     },
     "execution_count": 32,
     "metadata": {},
     "output_type": "execute_result"
    }
   ],
   "source": [
    "Rating1.insert(17,1)\n",
    "Rating1.insert(29,1)\n",
    "Rating1.insert(34,1)\n",
    "Rating1.insert(61,1)\n",
    "Rating1.insert(64,1)\n",
    "Rating1.insert(84,1)\n",
    "len(Rating1)"
   ]
  },
  {
   "cell_type": "code",
   "execution_count": 37,
   "id": "6ba9b9a7",
   "metadata": {},
   "outputs": [],
   "source": [
    "x=[]\n",
    "y=[]\n",
    "z=[]\n",
    "y=RS+RS1\n",
    "z=FR+FR1\n",
    "x=Rating+Rating1"
   ]
  },
  {
   "cell_type": "code",
   "execution_count": 38,
   "id": "d32f421d",
   "metadata": {},
   "outputs": [
    {
     "data": {
      "text/html": [
       "<div>\n",
       "<style scoped>\n",
       "    .dataframe tbody tr th:only-of-type {\n",
       "        vertical-align: middle;\n",
       "    }\n",
       "\n",
       "    .dataframe tbody tr th {\n",
       "        vertical-align: top;\n",
       "    }\n",
       "\n",
       "    .dataframe thead th {\n",
       "        text-align: right;\n",
       "    }\n",
       "</style>\n",
       "<table border=\"1\" class=\"dataframe\">\n",
       "  <thead>\n",
       "    <tr style=\"text-align: right;\">\n",
       "      <th></th>\n",
       "      <th>Rating</th>\n",
       "      <th>Review_summary</th>\n",
       "      <th>Full_review</th>\n",
       "    </tr>\n",
       "  </thead>\n",
       "  <tbody>\n",
       "    <tr>\n",
       "      <th>0</th>\n",
       "      <td>5</td>\n",
       "      <td>Brilliant</td>\n",
       "      <td>The Best Phone for the Money\\n\\nThe iPhone 11 ...</td>\n",
       "    </tr>\n",
       "    <tr>\n",
       "      <th>1</th>\n",
       "      <td>5</td>\n",
       "      <td>Simply awesome</td>\n",
       "      <td>Really satisfied with the Product I received.....</td>\n",
       "    </tr>\n",
       "    <tr>\n",
       "      <th>2</th>\n",
       "      <td>5</td>\n",
       "      <td>Best in the market!</td>\n",
       "      <td>Great iPhone very snappy experience as apple k...</td>\n",
       "    </tr>\n",
       "    <tr>\n",
       "      <th>3</th>\n",
       "      <td>5</td>\n",
       "      <td>Perfect product!</td>\n",
       "      <td>Amazing phone with great cameras and better ba...</td>\n",
       "    </tr>\n",
       "    <tr>\n",
       "      <th>4</th>\n",
       "      <td>5</td>\n",
       "      <td>Fabulous!</td>\n",
       "      <td>This is my first iOS phone. I am very happy wi...</td>\n",
       "    </tr>\n",
       "    <tr>\n",
       "      <th>...</th>\n",
       "      <td>...</td>\n",
       "      <td>...</td>\n",
       "      <td>...</td>\n",
       "    </tr>\n",
       "    <tr>\n",
       "      <th>95</th>\n",
       "      <td>5</td>\n",
       "      <td>Terrific</td>\n",
       "      <td>I got this beast today. And I must say the pic...</td>\n",
       "    </tr>\n",
       "    <tr>\n",
       "      <th>96</th>\n",
       "      <td>5</td>\n",
       "      <td>Highly recommended</td>\n",
       "      <td>Amazing camera quality as expected, battery al...</td>\n",
       "    </tr>\n",
       "    <tr>\n",
       "      <th>97</th>\n",
       "      <td>5</td>\n",
       "      <td>Must buy!</td>\n",
       "      <td>Dear friends... I want to share my experience ...</td>\n",
       "    </tr>\n",
       "    <tr>\n",
       "      <th>98</th>\n",
       "      <td>5</td>\n",
       "      <td>Must buy!</td>\n",
       "      <td>Camera is excellent just lack of telephoto mod...</td>\n",
       "    </tr>\n",
       "    <tr>\n",
       "      <th>99</th>\n",
       "      <td>5</td>\n",
       "      <td>Excellent</td>\n",
       "      <td>It was amazing experience for me. Honestly i a...</td>\n",
       "    </tr>\n",
       "  </tbody>\n",
       "</table>\n",
       "<p>100 rows × 3 columns</p>\n",
       "</div>"
      ],
      "text/plain": [
       "   Rating     Review_summary    \\\n",
       "0       5            Brilliant   \n",
       "1       5       Simply awesome   \n",
       "2       5  Best in the market!   \n",
       "3       5     Perfect product!   \n",
       "4       5            Fabulous!   \n",
       "..    ...                  ...   \n",
       "95      5             Terrific   \n",
       "96      5   Highly recommended   \n",
       "97      5            Must buy!   \n",
       "98      5            Must buy!   \n",
       "99      5            Excellent   \n",
       "\n",
       "                                    Full_review        \n",
       "0   The Best Phone for the Money\\n\\nThe iPhone 11 ...  \n",
       "1   Really satisfied with the Product I received.....  \n",
       "2   Great iPhone very snappy experience as apple k...  \n",
       "3   Amazing phone with great cameras and better ba...  \n",
       "4   This is my first iOS phone. I am very happy wi...  \n",
       "..                                                ...  \n",
       "95  I got this beast today. And I must say the pic...  \n",
       "96  Amazing camera quality as expected, battery al...  \n",
       "97  Dear friends... I want to share my experience ...  \n",
       "98  Camera is excellent just lack of telephoto mod...  \n",
       "99  It was amazing experience for me. Honestly i a...  \n",
       "\n",
       "[100 rows x 3 columns]"
      ]
     },
     "execution_count": 38,
     "metadata": {},
     "output_type": "execute_result"
    }
   ],
   "source": [
    "#Creating a dataframe using the above data:\n",
    "data=pd.DataFrame()\n",
    "data['Rating']=x\n",
    "data['  Review_summary  ']=y\n",
    "data['      Full_review      ']=z\n",
    "data"
   ]
  },
  {
   "cell_type": "markdown",
   "id": "687763ae",
   "metadata": {},
   "source": [
    "# Q6: Scrape data for first 100 sneakers you find when you visit flipkart.com andsearch for “sneakers” in the search field.\n",
    "You have to scrape 4 attributes of each sneaker:\n",
    "1. Brand\n",
    "2. Product Description\n",
    "3. Price"
   ]
  },
  {
   "cell_type": "code",
   "execution_count": 1,
   "id": "94fb6bb3",
   "metadata": {},
   "outputs": [],
   "source": [
    "#Importing all the required libraries:\n",
    "import selenium\n",
    "from selenium import webdriver\n",
    "import pandas as pd \n",
    "import warnings\n",
    "warnings.filterwarnings(\"ignore\")"
   ]
  },
  {
   "cell_type": "code",
   "execution_count": 2,
   "id": "73c3a271",
   "metadata": {},
   "outputs": [],
   "source": [
    "#Getting the webdriver access:\n",
    "driver=webdriver.Chrome(r'C:\\Users\\admin\\Desktop\\chromedriver.exe')"
   ]
  },
  {
   "cell_type": "code",
   "execution_count": 30,
   "id": "28772a5f",
   "metadata": {},
   "outputs": [],
   "source": [
    "#Typing the required url to explore:\n",
    "url='https://www.flipkart.com/'\n",
    "driver.get(url)"
   ]
  },
  {
   "cell_type": "code",
   "execution_count": 31,
   "id": "3348fc60",
   "metadata": {},
   "outputs": [],
   "source": [
    "#Filling the “search for products, brands andmore” field and clicking the search button to explore different job options:\n",
    "\n",
    "search=driver.find_element_by_xpath('/html/body/div[1]/div/div[1]/div[1]/div[2]/div[2]/form/div/div/input')#finding the shopping search element using xpath\n",
    "search.send_keys(\"sneakers\")"
   ]
  },
  {
   "cell_type": "code",
   "execution_count": null,
   "id": "d261f9f9",
   "metadata": {},
   "outputs": [],
   "source": [
    "#Closing the login page:\n",
    "#drop=driver.find_element_by_xpath('//button[@class=\"_2KpZ6l _2doB4z\"]')\n",
    "#drop.click()"
   ]
  },
  {
   "cell_type": "code",
   "execution_count": 32,
   "id": "5e503a9e",
   "metadata": {},
   "outputs": [],
   "source": [
    "search_icon=driver.find_element_by_xpath('//button[@class=\"L0Z3Pu\"]')#finding the search button element using xpath\n",
    "search_icon.click()#clicking the search button"
   ]
  },
  {
   "cell_type": "code",
   "execution_count": 33,
   "id": "9608290f",
   "metadata": {},
   "outputs": [],
   "source": [
    "#defining brand tag function:\n",
    "def b(b1):\n",
    "    for i in brand:\n",
    "        b1.append(i.text)"
   ]
  },
  {
   "cell_type": "code",
   "execution_count": 34,
   "id": "769a0f9b",
   "metadata": {},
   "outputs": [],
   "source": [
    "#defining product description tag function:\n",
    "def pd(pd1):\n",
    "    for i in product:\n",
    "        pd1.append(i.text)"
   ]
  },
  {
   "cell_type": "code",
   "execution_count": 35,
   "id": "5742e367",
   "metadata": {},
   "outputs": [],
   "source": [
    "#defining price tag function:\n",
    "def pr(pr1):\n",
    "    for i in price:\n",
    "        pr1.append(i.text)"
   ]
  },
  {
   "cell_type": "code",
   "execution_count": 36,
   "id": "56447da0",
   "metadata": {},
   "outputs": [],
   "source": [
    "#defining discount tag function:\n",
    "def ds(ds1):\n",
    "    for i in discount:\n",
    "        ds1.append(i.text)"
   ]
  },
  {
   "cell_type": "code",
   "execution_count": 37,
   "id": "9c7f1ddf",
   "metadata": {},
   "outputs": [],
   "source": [
    "#Framing empty lists for brand,product description,price and discount tags:\n",
    "Brand1=[]\n",
    "Brand2=[]\n",
    "Brand3=[]\n",
    "Prod1=[]\n",
    "Prod2=[]\n",
    "Prod3=[]\n",
    "Price1=[]\n",
    "Price2=[]\n",
    "Price3=[]\n",
    "Disc1=[]\n",
    "Disc2=[]\n",
    "Disc3=[]"
   ]
  },
  {
   "cell_type": "code",
   "execution_count": 38,
   "id": "104d21f4",
   "metadata": {},
   "outputs": [
    {
     "name": "stdout",
     "output_type": "stream",
     "text": [
      "40 33 40 40\n"
     ]
    }
   ],
   "source": [
    "#Selecting the top 40 elements of brand,productdescription,price and discount tagsand framing them in a list:\n",
    "brand=driver.find_elements_by_xpath('//div[@class=\"_2WkVRV\"]')#finding the brand tags  using xpath\n",
    "product=driver.find_elements_by_xpath('//a[@class=\"IRpwTa\"]')#finding the prod description tags  using xpath\n",
    "price=driver.find_elements_by_xpath('//div[@class=\"_30jeq3\"]') #finding the price tags  using xpath\n",
    "discount=driver.find_elements_by_xpath('//div[@class=\"_3Ay6Sb\"]')  #finding the discount tags  using xpath\n",
    "b(Brand1)\n",
    "pd(Prod1)\n",
    "pr(Price1)\n",
    "ds(Disc1)\n",
    "print(len(Brand1),len(Prod1),len(Price1),len(Disc1))"
   ]
  },
  {
   "cell_type": "code",
   "execution_count": 39,
   "id": "58446e71",
   "metadata": {},
   "outputs": [
    {
     "data": {
      "text/plain": [
       "40"
      ]
     },
     "execution_count": 39,
     "metadata": {},
     "output_type": "execute_result"
    }
   ],
   "source": [
    "add=driver.find_element_by_xpath('//a[@class=\"IRpwTa _2-ICcC\"]')\n",
    "Prod1.insert(7,add.text)\n",
    "Prod1.insert(17,add.text)\n",
    "Prod1.insert(18,add.text)\n",
    "Prod1.insert(22,add.text)\n",
    "Prod1.insert(31,add.text)\n",
    "Prod1.insert(32,add.text)\n",
    "Prod1.insert(39,add.text)\n",
    "\n",
    "len(Prod1)"
   ]
  },
  {
   "cell_type": "code",
   "execution_count": 40,
   "id": "fb06c831",
   "metadata": {},
   "outputs": [],
   "source": [
    "next_btn=driver.find_element_by_xpath('/html/body/div[1]/div/div[3]/div[1]/div[2]/div[12]/div/div/nav/a[11]')\n",
    "next_btn.click() #clicking the next button using the above element"
   ]
  },
  {
   "cell_type": "code",
   "execution_count": 41,
   "id": "96acbd45",
   "metadata": {},
   "outputs": [
    {
     "name": "stdout",
     "output_type": "stream",
     "text": [
      "40 32 40 40\n"
     ]
    }
   ],
   "source": [
    "#Selecting the next 40 elements of brand,productdescription,price and discount tagsand framing them in a list:\n",
    "\n",
    "brand=driver.find_elements_by_xpath('//div[@class=\"_2WkVRV\"]')#finding the brand tags  using xpath\n",
    "product=driver.find_elements_by_xpath('//a[@class=\"IRpwTa\"]')#finding the prod description tags  using xpath\n",
    "price=driver.find_elements_by_xpath('//div[@class=\"_30jeq3\"]') #finding the price tags  using xpath\n",
    "discount=driver.find_elements_by_xpath('//div[@class=\"_3Ay6Sb\"]')  #finding the discount tags  using xpath\n",
    "b(Brand2)\n",
    "pd(Prod2)\n",
    "pr(Price2)\n",
    "ds(Disc2)\n",
    "print(len(Brand2),len(Prod2),len(Price2),len(Disc2))"
   ]
  },
  {
   "cell_type": "code",
   "execution_count": 42,
   "id": "3e910686",
   "metadata": {},
   "outputs": [
    {
     "name": "stdout",
     "output_type": "stream",
     "text": [
      "40\n"
     ]
    }
   ],
   "source": [
    "add=driver.find_element_by_xpath('//a[@class=\"IRpwTa _2-ICcC\"]')\n",
    "Prod2.insert(5,add.text)\n",
    "Prod2.insert(8,add.text)\n",
    "Prod2.insert(12,add.text)\n",
    "Prod2.insert(19,add.text)\n",
    "Prod2.insert(27,add.text)\n",
    "Prod2.insert(31,add.text)\n",
    "Prod2.insert(34,add.text)\n",
    "Prod2.insert(39,add.text)\n",
    "\n",
    "print(len(Prod2))"
   ]
  },
  {
   "cell_type": "code",
   "execution_count": 43,
   "id": "b162ab8d",
   "metadata": {},
   "outputs": [],
   "source": [
    "#clicking the next button using the below element\n",
    "next_btn=driver.find_element_by_xpath('/html/body/div/div/div[3]/div[1]/div[2]/div[12]/div/div/nav/a[12]')\n",
    "next_btn.click()"
   ]
  },
  {
   "cell_type": "code",
   "execution_count": 44,
   "id": "b13fe59c",
   "metadata": {},
   "outputs": [
    {
     "name": "stdout",
     "output_type": "stream",
     "text": [
      "40 32 40 39\n"
     ]
    }
   ],
   "source": [
    "#Selecting the next 20 elements of brand,productdescription,price and discount tagsand framing them in a list:\n",
    "\n",
    "brand=driver.find_elements_by_xpath('//div[@class=\"_2WkVRV\"]')#finding the brand tags  using xpath\n",
    "product=driver.find_elements_by_xpath('//a[@class=\"IRpwTa\"]')#finding the prod description tags  using xpath\n",
    "price=driver.find_elements_by_xpath('//div[@class=\"_30jeq3\"]') #finding the price tags  using xpath\n",
    "discount=driver.find_elements_by_xpath('//div[@class=\"_3Ay6Sb\"]')  #finding the discount tags  using xpath\n",
    "b(Brand3)\n",
    "pd(Prod3)\n",
    "pr(Price3)\n",
    "ds(Disc3)\n",
    "print(len(Brand3),len(Prod3),len(Price3),len(Disc3))"
   ]
  },
  {
   "cell_type": "code",
   "execution_count": 45,
   "id": "85c006e9",
   "metadata": {},
   "outputs": [],
   "source": [
    "add=driver.find_element_by_xpath('//a[@class=\"IRpwTa _2-ICcC\"]')\n",
    "Prod3.insert(14,add.text)\n",
    "Prod3.insert(17,add.text)"
   ]
  },
  {
   "cell_type": "code",
   "execution_count": 47,
   "id": "c2cfb72e",
   "metadata": {},
   "outputs": [
    {
     "name": "stdout",
     "output_type": "stream",
     "text": [
      "20 20 20 20\n"
     ]
    }
   ],
   "source": [
    "Brand3=Brand3[0:20]\n",
    "Prod3=Prod3[0:20]\n",
    "Price3=Price3[0:20]\n",
    "Disc3=Disc3[0:20]\n",
    "print(len(Brand3),len(Prod3),len(Price3),len(Disc3))"
   ]
  },
  {
   "cell_type": "code",
   "execution_count": 48,
   "id": "3e041d22",
   "metadata": {},
   "outputs": [],
   "source": [
    "#Combining all the lists of brand,prod,price and discount and putting them in 3 lists respectively:\n",
    "brand=[]\n",
    "brand=Brand1+Brand2+Brand3\n",
    "prod=[]\n",
    "prod=Prod1+Prod2+Prod3\n",
    "price=[]\n",
    "price=Price1+Price2+Price3\n",
    "discount=[]\n",
    "discount=Disc1+Disc2+Disc3"
   ]
  },
  {
   "cell_type": "code",
   "execution_count": 50,
   "id": "6177806a",
   "metadata": {},
   "outputs": [
    {
     "data": {
      "text/html": [
       "<div>\n",
       "<style scoped>\n",
       "    .dataframe tbody tr th:only-of-type {\n",
       "        vertical-align: middle;\n",
       "    }\n",
       "\n",
       "    .dataframe tbody tr th {\n",
       "        vertical-align: top;\n",
       "    }\n",
       "\n",
       "    .dataframe thead th {\n",
       "        text-align: right;\n",
       "    }\n",
       "</style>\n",
       "<table border=\"1\" class=\"dataframe\">\n",
       "  <thead>\n",
       "    <tr style=\"text-align: right;\">\n",
       "      <th></th>\n",
       "      <th>Brand</th>\n",
       "      <th>Product_description</th>\n",
       "      <th>Price</th>\n",
       "      <th>Discount</th>\n",
       "    </tr>\n",
       "  </thead>\n",
       "  <tbody>\n",
       "    <tr>\n",
       "      <th>0</th>\n",
       "      <td>Echor</td>\n",
       "      <td>Men's Sneakers Fashion Lightweight Running Sho...</td>\n",
       "      <td>₹599</td>\n",
       "      <td>40% off</td>\n",
       "    </tr>\n",
       "    <tr>\n",
       "      <th>1</th>\n",
       "      <td>DUNKASTON</td>\n",
       "      <td>Sneakers For Men</td>\n",
       "      <td>₹399</td>\n",
       "      <td>73% off</td>\n",
       "    </tr>\n",
       "    <tr>\n",
       "      <th>2</th>\n",
       "      <td>BRUTON</td>\n",
       "      <td>Combo Pack Of 4 Casual Shoes Loafer Shoes Snea...</td>\n",
       "      <td>₹625</td>\n",
       "      <td>82% off</td>\n",
       "    </tr>\n",
       "    <tr>\n",
       "      <th>3</th>\n",
       "      <td>Chevit</td>\n",
       "      <td>Super Stylish &amp; Trendy Combo Pack of 02 Pairs ...</td>\n",
       "      <td>₹536</td>\n",
       "      <td>66% off</td>\n",
       "    </tr>\n",
       "    <tr>\n",
       "      <th>4</th>\n",
       "      <td>CLYMB</td>\n",
       "      <td>Perfect Sports Shoes for Men's Running ,Cyclin...</td>\n",
       "      <td>₹249</td>\n",
       "      <td>75% off</td>\n",
       "    </tr>\n",
       "    <tr>\n",
       "      <th>...</th>\n",
       "      <td>...</td>\n",
       "      <td>...</td>\n",
       "      <td>...</td>\n",
       "      <td>...</td>\n",
       "    </tr>\n",
       "    <tr>\n",
       "      <th>95</th>\n",
       "      <td>HRX by Hrithik Roshan</td>\n",
       "      <td>Sneakers For Men</td>\n",
       "      <td>₹2,799</td>\n",
       "      <td>37% off</td>\n",
       "    </tr>\n",
       "    <tr>\n",
       "      <th>96</th>\n",
       "      <td>Robbie jones</td>\n",
       "      <td>Casual Sneakers White Shoes For Men Sneakers F...</td>\n",
       "      <td>₹499</td>\n",
       "      <td>50% off</td>\n",
       "    </tr>\n",
       "    <tr>\n",
       "      <th>97</th>\n",
       "      <td>SPARX</td>\n",
       "      <td>Sneakers For Men</td>\n",
       "      <td>₹810</td>\n",
       "      <td>4% off</td>\n",
       "    </tr>\n",
       "    <tr>\n",
       "      <th>98</th>\n",
       "      <td>Chevit</td>\n",
       "      <td>494 Perfect Sports Shoes for Running Training ...</td>\n",
       "      <td>₹254</td>\n",
       "      <td>74% off</td>\n",
       "    </tr>\n",
       "    <tr>\n",
       "      <th>99</th>\n",
       "      <td>tigonis</td>\n",
       "      <td>Sneakers For Men</td>\n",
       "      <td>₹450</td>\n",
       "      <td>74% off</td>\n",
       "    </tr>\n",
       "  </tbody>\n",
       "</table>\n",
       "<p>100 rows × 4 columns</p>\n",
       "</div>"
      ],
      "text/plain": [
       "                    Brand                            Product_description      \\\n",
       "0                   Echor  Men's Sneakers Fashion Lightweight Running Sho...   \n",
       "1               DUNKASTON                                   Sneakers For Men   \n",
       "2                  BRUTON  Combo Pack Of 4 Casual Shoes Loafer Shoes Snea...   \n",
       "3                  Chevit  Super Stylish & Trendy Combo Pack of 02 Pairs ...   \n",
       "4                   CLYMB  Perfect Sports Shoes for Men's Running ,Cyclin...   \n",
       "..                    ...                                                ...   \n",
       "95  HRX by Hrithik Roshan                                   Sneakers For Men   \n",
       "96           Robbie jones  Casual Sneakers White Shoes For Men Sneakers F...   \n",
       "97                  SPARX                                   Sneakers For Men   \n",
       "98                 Chevit  494 Perfect Sports Shoes for Running Training ...   \n",
       "99                tigonis                                   Sneakers For Men   \n",
       "\n",
       "      Price       Discount     \n",
       "0         ₹599        40% off  \n",
       "1         ₹399        73% off  \n",
       "2         ₹625        82% off  \n",
       "3         ₹536        66% off  \n",
       "4         ₹249        75% off  \n",
       "..         ...            ...  \n",
       "95      ₹2,799        37% off  \n",
       "96        ₹499        50% off  \n",
       "97        ₹810         4% off  \n",
       "98        ₹254        74% off  \n",
       "99        ₹450        74% off  \n",
       "\n",
       "[100 rows x 4 columns]"
      ]
     },
     "execution_count": 50,
     "metadata": {},
     "output_type": "execute_result"
    }
   ],
   "source": [
    "#Creating a data frame using the data given below:\n",
    "import pandas as pd\n",
    "data=pd.DataFrame()\n",
    "data['Brand']=brand\n",
    "data['     Product_description    ']=prod\n",
    "data['   Price   ']=price\n",
    "data['   Discount   ']=discount\n",
    "data"
   ]
  },
  {
   "cell_type": "markdown",
   "id": "67202ff4",
   "metadata": {},
   "source": [
    "# Q7: Go to the link - https://www.myntra.com/shoes .Set Price filter to “Rs. 7149 to Rs. 14099 ” , Color filter to “Black”,And then scrape First 100 shoes data you get.The data should include “Brand” of the shoes , Short Shoedescription, price of the shoe as shown in the below image"
   ]
  },
  {
   "cell_type": "code",
   "execution_count": 1,
   "id": "fe876e5c",
   "metadata": {},
   "outputs": [],
   "source": [
    "#Importing all the required libraries:\n",
    "import selenium\n",
    "from selenium import webdriver\n",
    "import pandas as pd \n",
    "import warnings\n",
    "warnings.filterwarnings(\"ignore\")"
   ]
  },
  {
   "cell_type": "code",
   "execution_count": 2,
   "id": "c8899b75",
   "metadata": {},
   "outputs": [],
   "source": [
    "#Getting the webdriver access:\n",
    "driver=webdriver.Chrome(r'C:\\Users\\admin\\Desktop\\chromedriver.exe')"
   ]
  },
  {
   "cell_type": "code",
   "execution_count": 3,
   "id": "1cc5773e",
   "metadata": {},
   "outputs": [],
   "source": [
    "#Typing the required url to explore:\n",
    "url=' https://www.myntra.com/shoes'\n",
    "driver.get(url)"
   ]
  },
  {
   "cell_type": "code",
   "execution_count": 4,
   "id": "1d882f6b",
   "metadata": {},
   "outputs": [],
   "source": [
    "#getting color black filter click:\n",
    "color_filter=driver.find_element_by_xpath('/html/body/div[2]/div/div[1]/main/div[3]/div[1]/section/div/div[6]/ul/li[1]/label/div')\n",
    "color_filter.click()"
   ]
  },
  {
   "cell_type": "code",
   "execution_count": 5,
   "id": "568aa22d",
   "metadata": {},
   "outputs": [],
   "source": [
    "#getting price filter click:\n",
    "Price_filter=driver.find_element_by_xpath('/html/body/div[2]/div/div[1]/main/div[3]/div[1]/section/div/div[5]/ul/li[2]/label/div')\n",
    "Price_filter.click()"
   ]
  },
  {
   "cell_type": "code",
   "execution_count": 12,
   "id": "19885e7a",
   "metadata": {},
   "outputs": [],
   "source": [
    "#Creating empty lists for filling the corresponding data:\n",
    "brand1=[]\n",
    "brand2=[]\n",
    "shortname1=[]\n",
    "shortname2=[]\n",
    "price1=[]\n",
    "price2=[]"
   ]
  },
  {
   "cell_type": "code",
   "execution_count": 13,
   "id": "6b01e177",
   "metadata": {},
   "outputs": [],
   "source": [
    "#Defining brand tag function for the further use:\n",
    "def b(b):\n",
    "    for i in brand:\n",
    "        b.append(i.text)"
   ]
  },
  {
   "cell_type": "code",
   "execution_count": 14,
   "id": "8aefd384",
   "metadata": {},
   "outputs": [],
   "source": [
    "#Defining shortname tag function for the further use:\n",
    "def s(s):\n",
    "    for i in shortname:\n",
    "        s.append(i.text)"
   ]
  },
  {
   "cell_type": "code",
   "execution_count": 15,
   "id": "51743bd8",
   "metadata": {},
   "outputs": [],
   "source": [
    "#Defining price tag function for the further use:\n",
    "def p(p):\n",
    "    for i in price:\n",
    "        p.append(i.text[0:8])"
   ]
  },
  {
   "cell_type": "code",
   "execution_count": 16,
   "id": "c07d8422",
   "metadata": {},
   "outputs": [
    {
     "name": "stdout",
     "output_type": "stream",
     "text": [
      "50 50 50\n"
     ]
    }
   ],
   "source": [
    "#Selecting the top 50 elements of brand,shorname,price and discount tagsand framing them in a list:\n",
    "brand=driver.find_elements_by_xpath('//h3[@class=\"product-brand\"]')#finding the brand tags  using xpath\n",
    "shortname=driver.find_elements_by_xpath('//h4[@class=\"product-product\"]')#finding the short name tags  using xpath\n",
    "price=driver.find_elements_by_xpath('//div[@class=\"product-price\"]') #finding the price tags  using xpath\n",
    "b(brand1)\n",
    "s(shortname1)\n",
    "p(price1)\n",
    "print(len(brand1),len(price1),len(shortname1))"
   ]
  },
  {
   "cell_type": "code",
   "execution_count": 19,
   "id": "01f4c7e2",
   "metadata": {},
   "outputs": [],
   "source": [
    "next_btn=driver.find_element_by_xpath('//li[@class=\"pagination-next\"]')#finding the next button element using xpath\n",
    "next_btn.click()   #clicking the next button"
   ]
  },
  {
   "cell_type": "code",
   "execution_count": 20,
   "id": "10cb11ae",
   "metadata": {},
   "outputs": [
    {
     "name": "stdout",
     "output_type": "stream",
     "text": [
      "50 50 50\n"
     ]
    }
   ],
   "source": [
    "#Selecting the next 50 elements of brand,shorname,price and discount tagsand framing them in a list:\n",
    "brand=driver.find_elements_by_xpath('//h3[@class=\"product-brand\"]')#finding the brand tags  using xpath\n",
    "shortname=driver.find_elements_by_xpath('//h4[@class=\"product-product\"]')#finding the short name tags  using xpath\n",
    "price=driver.find_elements_by_xpath('//div[@class=\"product-price\"]') #finding the price tags  using xpath\n",
    "b(brand2)\n",
    "s(shortname2)\n",
    "p(price2)\n",
    "print(len(brand2),len(price2),len(shortname2))"
   ]
  },
  {
   "cell_type": "code",
   "execution_count": 21,
   "id": "3c59ad33",
   "metadata": {},
   "outputs": [],
   "source": [
    "#Combining all the lists of brand,shortname,price framing them in 3 lists respectively:\n",
    "brand=[]\n",
    "brand=brand1+brand2\n",
    "shortname=[]\n",
    "shortname=shortname1+shortname2\n",
    "price=[]\n",
    "price=price1+price2"
   ]
  },
  {
   "cell_type": "code",
   "execution_count": 22,
   "id": "fd37cfaf",
   "metadata": {},
   "outputs": [
    {
     "data": {
      "text/html": [
       "<div>\n",
       "<style scoped>\n",
       "    .dataframe tbody tr th:only-of-type {\n",
       "        vertical-align: middle;\n",
       "    }\n",
       "\n",
       "    .dataframe tbody tr th {\n",
       "        vertical-align: top;\n",
       "    }\n",
       "\n",
       "    .dataframe thead th {\n",
       "        text-align: right;\n",
       "    }\n",
       "</style>\n",
       "<table border=\"1\" class=\"dataframe\">\n",
       "  <thead>\n",
       "    <tr style=\"text-align: right;\">\n",
       "      <th></th>\n",
       "      <th>Brand</th>\n",
       "      <th>Shortname</th>\n",
       "      <th>Price</th>\n",
       "    </tr>\n",
       "  </thead>\n",
       "  <tbody>\n",
       "    <tr>\n",
       "      <th>0</th>\n",
       "      <td>Nike</td>\n",
       "      <td>Men AIR ZOOM PEGASUS 38</td>\n",
       "      <td>Rs. 9770</td>\n",
       "    </tr>\n",
       "    <tr>\n",
       "      <th>1</th>\n",
       "      <td>Tommy Hilfiger</td>\n",
       "      <td>Men Textured Loafers</td>\n",
       "      <td>Rs. 8599</td>\n",
       "    </tr>\n",
       "    <tr>\n",
       "      <th>2</th>\n",
       "      <td>Tommy Hilfiger</td>\n",
       "      <td>Men Leather Sneakers</td>\n",
       "      <td>Rs. 7999</td>\n",
       "    </tr>\n",
       "    <tr>\n",
       "      <th>3</th>\n",
       "      <td>Tommy Hilfiger</td>\n",
       "      <td>Men Leather Sneakers</td>\n",
       "      <td>Rs. 7999</td>\n",
       "    </tr>\n",
       "    <tr>\n",
       "      <th>4</th>\n",
       "      <td>Nike</td>\n",
       "      <td>Men Blazer Court Skateboarding</td>\n",
       "      <td>Rs. 7495</td>\n",
       "    </tr>\n",
       "    <tr>\n",
       "      <th>...</th>\n",
       "      <td>...</td>\n",
       "      <td>...</td>\n",
       "      <td>...</td>\n",
       "    </tr>\n",
       "    <tr>\n",
       "      <th>95</th>\n",
       "      <td>Saint G</td>\n",
       "      <td>Leather Block Heeled Boots</td>\n",
       "      <td>Rs. 9265</td>\n",
       "    </tr>\n",
       "    <tr>\n",
       "      <th>96</th>\n",
       "      <td>Pavers England</td>\n",
       "      <td>Men Solid Leather Formal Derbys</td>\n",
       "      <td>Rs. 8999</td>\n",
       "    </tr>\n",
       "    <tr>\n",
       "      <th>97</th>\n",
       "      <td>Skechers</td>\n",
       "      <td>Men GLOBAL JOGGER Sneakers</td>\n",
       "      <td>Rs. 7999</td>\n",
       "    </tr>\n",
       "    <tr>\n",
       "      <th>98</th>\n",
       "      <td>Saint G</td>\n",
       "      <td>Leather Block Heeled Boots with Tassels</td>\n",
       "      <td>Rs. 9775</td>\n",
       "    </tr>\n",
       "    <tr>\n",
       "      <th>99</th>\n",
       "      <td>Saint G</td>\n",
       "      <td>Leather Block Heeled Boots</td>\n",
       "      <td>Rs. 1402</td>\n",
       "    </tr>\n",
       "  </tbody>\n",
       "</table>\n",
       "<p>100 rows × 3 columns</p>\n",
       "</div>"
      ],
      "text/plain": [
       "             Brand                                Shortname     Price\n",
       "0             Nike                  Men AIR ZOOM PEGASUS 38  Rs. 9770\n",
       "1   Tommy Hilfiger                     Men Textured Loafers  Rs. 8599\n",
       "2   Tommy Hilfiger                     Men Leather Sneakers  Rs. 7999\n",
       "3   Tommy Hilfiger                     Men Leather Sneakers  Rs. 7999\n",
       "4             Nike           Men Blazer Court Skateboarding  Rs. 7495\n",
       "..             ...                                      ...       ...\n",
       "95         Saint G               Leather Block Heeled Boots  Rs. 9265\n",
       "96  Pavers England          Men Solid Leather Formal Derbys  Rs. 8999\n",
       "97        Skechers               Men GLOBAL JOGGER Sneakers  Rs. 7999\n",
       "98         Saint G  Leather Block Heeled Boots with Tassels  Rs. 9775\n",
       "99         Saint G               Leather Block Heeled Boots  Rs. 1402\n",
       "\n",
       "[100 rows x 3 columns]"
      ]
     },
     "execution_count": 22,
     "metadata": {},
     "output_type": "execute_result"
    }
   ],
   "source": [
    "#Creating dataframe with the help of above 3 lists:\n",
    "data=pd.DataFrame()\n",
    "data['Brand']=brand\n",
    "data['Shortname']=shortname\n",
    "data['Price']=price\n",
    "data"
   ]
  },
  {
   "cell_type": "markdown",
   "id": "61470afe",
   "metadata": {},
   "source": [
    "# Q8: Go to webpage https://www.amazon.in/. Enter “Laptop” in the search field and then click the search icon.Then set CPU Type filter to “Intel Core i7” :\n",
    "After setting the filters scrape first 10 laptops data. You have to scrape 3 attributesfor each laptop:\n",
    "1. Title\n",
    "2. Ratings\n",
    "3. Price\n"
   ]
  },
  {
   "cell_type": "code",
   "execution_count": 1,
   "id": "28a29a75",
   "metadata": {},
   "outputs": [],
   "source": [
    "#Importing all the required libraries:\n",
    "import selenium\n",
    "from selenium import webdriver\n",
    "import pandas as pd \n",
    "import warnings\n",
    "warnings.filterwarnings(\"ignore\")"
   ]
  },
  {
   "cell_type": "code",
   "execution_count": 2,
   "id": "253f0b78",
   "metadata": {},
   "outputs": [],
   "source": [
    "#Getting the webdriver access:\n",
    "driver=webdriver.Chrome(r'C:\\Users\\admin\\Desktop\\chromedriver.exe')"
   ]
  },
  {
   "cell_type": "code",
   "execution_count": 3,
   "id": "f3429b08",
   "metadata": {},
   "outputs": [],
   "source": [
    "#Typing the required url to explore:\n",
    "url='https://www.amazon.in/'\n",
    "driver.get(url)"
   ]
  },
  {
   "cell_type": "code",
   "execution_count": 4,
   "id": "056a4691",
   "metadata": {},
   "outputs": [],
   "source": [
    "search=driver.find_element_by_xpath('/html/body/div[1]/header/div/div[1]/div[2]/div/form/div[2]/div[1]/input')\n",
    "search.send_keys('Laptop')"
   ]
  },
  {
   "cell_type": "code",
   "execution_count": 5,
   "id": "7db25860",
   "metadata": {},
   "outputs": [],
   "source": [
    "search_btn=driver.find_element_by_xpath('/html/body/div[1]/header/div/div[1]/div[2]/div/form/div[3]/div/span/input')\n",
    "search_btn.click()"
   ]
  },
  {
   "cell_type": "code",
   "execution_count": 8,
   "id": "fccfc87d",
   "metadata": {},
   "outputs": [],
   "source": [
    "#getting CPUtype filter click:\n",
    "CPUtype_filter=driver.find_element_by_xpath('/html/body/div[1]/div[2]/div[1]/div[2]/div/div[3]/span/div[1]/div/div/div[6]/ul[3]/li[11]/span/a/div/label/i')\n",
    "CPUtype_filter.click()"
   ]
  },
  {
   "cell_type": "code",
   "execution_count": 9,
   "id": "76fa8d42",
   "metadata": {},
   "outputs": [],
   "source": [
    "#Selecting top 10 title tags and putting them in form of list:\n",
    "title=driver.find_elements_by_xpath('//h2[@class=\"a-size-mini a-spacing-none a-color-base s-line-clamp-2\"]')\n",
    "Title=[]\n",
    "for i in title:\n",
    "    Title.append(i.text)\n",
    "len(Title[0:10])\n",
    "Title=Title[0:10]"
   ]
  },
  {
   "cell_type": "code",
   "execution_count": 10,
   "id": "517cecaa",
   "metadata": {},
   "outputs": [],
   "source": [
    "#Selecting top 10 price tags and putting them in form of list:\n",
    "\n",
    "price=driver.find_elements_by_xpath('//span[@class=\"a-price-whole\"]')\n",
    "Price=[]\n",
    "for i in price:\n",
    "    Price.append(i.text)\n",
    "len(Price[0:10])\n",
    "Price=Price[0:10]"
   ]
  },
  {
   "cell_type": "code",
   "execution_count": 40,
   "id": "22d12194",
   "metadata": {},
   "outputs": [],
   "source": [
    "#Selecting top 10 no of rating tags and putting them in form of list:\n",
    "\n",
    "rate=driver.find_elements_by_xpath('//div[@class=\"a-row a-size-small\"]')\n",
    "rating=[]\n",
    "for i in rate:\n",
    "    rating.append(i.text)\n",
    "\n",
    "rating=rating[0:10]\n"
   ]
  },
  {
   "cell_type": "code",
   "execution_count": 38,
   "id": "ae1d5329",
   "metadata": {},
   "outputs": [],
   "source": [
    "# finding  the rating:\n",
    "rate1=driver.find_element_by_xpath('//a[@class=\"a-popover-trigger a-declarative\"]')\n",
    "rate1.click()"
   ]
  },
  {
   "cell_type": "code",
   "execution_count": 39,
   "id": "0678d8f3",
   "metadata": {},
   "outputs": [
    {
     "data": {
      "text/plain": [
       "['4.4 out of 5']"
      ]
     },
     "execution_count": 39,
     "metadata": {},
     "output_type": "execute_result"
    }
   ],
   "source": [
    "ratingh=[]\n",
    "rate2=driver.find_elements_by_xpath('//span[@class=\"a-size-medium a-color-base a-text-beside-button a-text-bold\"]')\n",
    "for j in rate2:\n",
    "    ratingh.append(j.text)\n",
    "ratingh"
   ]
  },
  {
   "cell_type": "code",
   "execution_count": 34,
   "id": "76242eca",
   "metadata": {},
   "outputs": [],
   "source": [
    "\n",
    "rate9=driver.find_element_by_class_name(\"a-icon-alt\").get_attribute('textContent')\n"
   ]
  },
  {
   "cell_type": "code",
   "execution_count": 36,
   "id": "75cf38ca",
   "metadata": {},
   "outputs": [
    {
     "data": {
      "text/plain": [
       "'4.4 out of 5 stars'"
      ]
     },
     "execution_count": 36,
     "metadata": {},
     "output_type": "execute_result"
    }
   ],
   "source": [
    "rate9\n"
   ]
  },
  {
   "cell_type": "code",
   "execution_count": 41,
   "id": "efe22bba",
   "metadata": {},
   "outputs": [
    {
     "data": {
      "text/html": [
       "<div>\n",
       "<style scoped>\n",
       "    .dataframe tbody tr th:only-of-type {\n",
       "        vertical-align: middle;\n",
       "    }\n",
       "\n",
       "    .dataframe tbody tr th {\n",
       "        vertical-align: top;\n",
       "    }\n",
       "\n",
       "    .dataframe thead th {\n",
       "        text-align: right;\n",
       "    }\n",
       "</style>\n",
       "<table border=\"1\" class=\"dataframe\">\n",
       "  <thead>\n",
       "    <tr style=\"text-align: right;\">\n",
       "      <th></th>\n",
       "      <th>Title</th>\n",
       "      <th>Reviews</th>\n",
       "      <th>Price</th>\n",
       "    </tr>\n",
       "  </thead>\n",
       "  <tbody>\n",
       "    <tr>\n",
       "      <th>0</th>\n",
       "      <td>Fujitsu UH-X 11th Gen Intel i7 Core 13.3” (33....</td>\n",
       "      <td>37</td>\n",
       "      <td>92,490</td>\n",
       "    </tr>\n",
       "    <tr>\n",
       "      <th>1</th>\n",
       "      <td>LG Gram 16 inches Intel Evo 11th Gen Core i7 U...</td>\n",
       "      <td>71</td>\n",
       "      <td>92,999</td>\n",
       "    </tr>\n",
       "    <tr>\n",
       "      <th>2</th>\n",
       "      <td>ASUS VivoBook 14 (2021), 14-inch (35.56 cms) F...</td>\n",
       "      <td>13</td>\n",
       "      <td>59,990</td>\n",
       "    </tr>\n",
       "    <tr>\n",
       "      <th>3</th>\n",
       "      <td>HP Pavilion x360 11th Gen Intel Core i7 14 inc...</td>\n",
       "      <td>60</td>\n",
       "      <td>86,990</td>\n",
       "    </tr>\n",
       "    <tr>\n",
       "      <th>4</th>\n",
       "      <td>ASUS TUF Gaming F15 (2021) 15.6-inch (39.62 cm...</td>\n",
       "      <td>21</td>\n",
       "      <td>96,990</td>\n",
       "    </tr>\n",
       "    <tr>\n",
       "      <th>5</th>\n",
       "      <td>LG Gram Intel Evo 11th Gen Core i7 17 inches U...</td>\n",
       "      <td>128</td>\n",
       "      <td>99,499</td>\n",
       "    </tr>\n",
       "    <tr>\n",
       "      <th>6</th>\n",
       "      <td>MSI GF75 Thin Gaming, Intel Core i7-10750H, 44...</td>\n",
       "      <td>57</td>\n",
       "      <td>70,000</td>\n",
       "    </tr>\n",
       "    <tr>\n",
       "      <th>7</th>\n",
       "      <td>Lenovo ThinkBook 13s Intel 11th Gen Core i7 13...</td>\n",
       "      <td>36</td>\n",
       "      <td>84,990</td>\n",
       "    </tr>\n",
       "    <tr>\n",
       "      <th>8</th>\n",
       "      <td>ASUS TUF Gaming F15 (2021) 15.6-inch (39.62 cm...</td>\n",
       "      <td>3</td>\n",
       "      <td>89,990</td>\n",
       "    </tr>\n",
       "    <tr>\n",
       "      <th>9</th>\n",
       "      <td>ASUS TUF Gaming F15 (2021), 15.6\" (39.62 cms) ...</td>\n",
       "      <td>1</td>\n",
       "      <td>88,990</td>\n",
       "    </tr>\n",
       "  </tbody>\n",
       "</table>\n",
       "</div>"
      ],
      "text/plain": [
       "                                               Title Reviews   Price\n",
       "0  Fujitsu UH-X 11th Gen Intel i7 Core 13.3” (33....      37  92,490\n",
       "1  LG Gram 16 inches Intel Evo 11th Gen Core i7 U...      71  92,999\n",
       "2  ASUS VivoBook 14 (2021), 14-inch (35.56 cms) F...      13  59,990\n",
       "3  HP Pavilion x360 11th Gen Intel Core i7 14 inc...      60  86,990\n",
       "4  ASUS TUF Gaming F15 (2021) 15.6-inch (39.62 cm...      21  96,990\n",
       "5  LG Gram Intel Evo 11th Gen Core i7 17 inches U...     128  99,499\n",
       "6  MSI GF75 Thin Gaming, Intel Core i7-10750H, 44...      57  70,000\n",
       "7  Lenovo ThinkBook 13s Intel 11th Gen Core i7 13...      36  84,990\n",
       "8  ASUS TUF Gaming F15 (2021) 15.6-inch (39.62 cm...       3  89,990\n",
       "9  ASUS TUF Gaming F15 (2021), 15.6\" (39.62 cms) ...       1  88,990"
      ]
     },
     "execution_count": 41,
     "metadata": {},
     "output_type": "execute_result"
    }
   ],
   "source": [
    "#creating a dataframe:\n",
    "data=pd.DataFrame({'Title':Title, 'Reviews':rating,  'Price':Price})\n",
    "data"
   ]
  },
  {
   "cell_type": "markdown",
   "id": "8e13287d",
   "metadata": {},
   "source": [
    "# Q9: Write a python program to scrape data for first 10 job results for Data Scientist Designation in Noida location. You have to scrape company name, No. of days ago when job was posted, Rating of the company"
   ]
  },
  {
   "cell_type": "code",
   "execution_count": 35,
   "id": "9e918990",
   "metadata": {},
   "outputs": [],
   "source": [
    "#Importing all the required libraries:\n",
    "import selenium\n",
    "from selenium import webdriver\n",
    "import pandas as pd \n",
    "import warnings\n",
    "warnings.filterwarnings(\"ignore\")"
   ]
  },
  {
   "cell_type": "code",
   "execution_count": 36,
   "id": "b25ad0b6",
   "metadata": {},
   "outputs": [],
   "source": [
    "#Getting the webdriver access:\n",
    "driver=webdriver.Chrome(r'C:\\Users\\admin\\Desktop\\chromedriver.exe')"
   ]
  },
  {
   "cell_type": "code",
   "execution_count": 37,
   "id": "f050bf50",
   "metadata": {},
   "outputs": [],
   "source": [
    "#Typing the required url to explore:\n",
    "url='https://www.ambitionbox.com/'\n",
    "driver.get(url)"
   ]
  },
  {
   "cell_type": "code",
   "execution_count": 38,
   "id": "2feb8943",
   "metadata": {},
   "outputs": [],
   "source": [
    "#selecting the jobs to get the job profiles:\n",
    "jobs=driver.find_element_by_xpath('/html/body/div[1]/nav/nav/a[6]')\n",
    "jobs.click()"
   ]
  },
  {
   "cell_type": "code",
   "execution_count": 40,
   "id": "67708693",
   "metadata": {},
   "outputs": [],
   "source": [
    "#Filling the “Skill, Designations, Companies” field and clicking the search button to explore different job options:\n",
    "\n",
    "search_job=driver.find_element_by_xpath('/html/body/div/div/div/div[2]/div[1]/div/div/div/div/span/input')#finding the job search element using class name\n",
    "search_job.send_keys('Data Scientist')"
   ]
  },
  {
   "cell_type": "code",
   "execution_count": 41,
   "id": "93dcdc5c",
   "metadata": {},
   "outputs": [],
   "source": [
    "search=driver.find_element_by_xpath('/html/body/div/div/div/div[2]/div[1]/div/div/div/button/span')#finding the search element using class name\n",
    "search.click() #clicking the search"
   ]
  },
  {
   "cell_type": "code",
   "execution_count": 42,
   "id": "5e49529f",
   "metadata": {},
   "outputs": [],
   "source": [
    "#Clicking the location tag:\n",
    "location_click=driver.find_element_by_xpath('/html/body/div/div/div/div[2]/div[2]/div[1]/div/div/div/div[2]/div[1]/p')\n",
    "location_click.click()"
   ]
  },
  {
   "cell_type": "code",
   "execution_count": 43,
   "id": "4edf59b5",
   "metadata": {},
   "outputs": [],
   "source": [
    "#Filling the location element:\n",
    "search_loc=driver.find_element_by_xpath('/html/body/div/div/div/div[2]/div[2]/div[1]/div/div/div/div[2]/div[2]/div/div[2]/input')\n",
    "search_loc.send_keys('Noida')"
   ]
  },
  {
   "cell_type": "code",
   "execution_count": 44,
   "id": "607c4816",
   "metadata": {},
   "outputs": [],
   "source": [
    "click_loc=driver.find_element_by_xpath('/html/body/div/div/div/div[2]/div[2]/div[1]/div/div/div/div[2]/div[2]/div/div[3]/div[1]/div[1]/div/label')\n",
    "click_loc.click()#clicking the search for location"
   ]
  },
  {
   "cell_type": "code",
   "execution_count": 45,
   "id": "07f84585",
   "metadata": {},
   "outputs": [
    {
     "data": {
      "text/plain": [
       "10"
      ]
     },
     "execution_count": 45,
     "metadata": {},
     "output_type": "execute_result"
    }
   ],
   "source": [
    "#Selecting the top 10 company name tags and filling them in a list:\n",
    "companyname=driver.find_elements_by_xpath('//p[@class=\"company body-medium\"]')\n",
    "Compname=[]\n",
    "for i in companyname:\n",
    "    Compname.append(i.text)\n",
    "len(Compname)"
   ]
  },
  {
   "cell_type": "code",
   "execution_count": 53,
   "id": "dac78bb8",
   "metadata": {},
   "outputs": [
    {
     "data": {
      "text/plain": [
       "20"
      ]
     },
     "execution_count": 53,
     "metadata": {},
     "output_type": "execute_result"
    }
   ],
   "source": [
    "#Selecting the top 10 'days ago job posted' tags and filling them in a list:\n",
    "when_job_posted=driver.find_elements_by_xpath('//span[@class=\"body-small-l\"]')\n",
    "job_posted=[]\n",
    "for i in when_job_posted:\n",
    "    job_posted.append(i.text)\n",
    "len(job_posted)"
   ]
  },
  {
   "cell_type": "code",
   "execution_count": 54,
   "id": "f21f6cb4",
   "metadata": {},
   "outputs": [
    {
     "data": {
      "text/plain": [
       "10"
      ]
     },
     "execution_count": 54,
     "metadata": {},
     "output_type": "execute_result"
    }
   ],
   "source": [
    "job_posted=job_posted[0::2]\n",
    "len(job_posted)"
   ]
  },
  {
   "cell_type": "code",
   "execution_count": 57,
   "id": "ed727df8",
   "metadata": {},
   "outputs": [
    {
     "data": {
      "text/plain": [
       "10"
      ]
     },
     "execution_count": 57,
     "metadata": {},
     "output_type": "execute_result"
    }
   ],
   "source": [
    "#Selecting the top 10 Rating tags and filling them in a list:\n",
    "rating=driver.find_elements_by_xpath('//span[@class=\"body-small\"]')\n",
    "Rating=[]\n",
    "for i in rating:\n",
    "    Rating.append(i.text)\n",
    "len(Rating)"
   ]
  },
  {
   "cell_type": "code",
   "execution_count": 58,
   "id": "2e74a938",
   "metadata": {},
   "outputs": [
    {
     "data": {
      "text/html": [
       "<div>\n",
       "<style scoped>\n",
       "    .dataframe tbody tr th:only-of-type {\n",
       "        vertical-align: middle;\n",
       "    }\n",
       "\n",
       "    .dataframe tbody tr th {\n",
       "        vertical-align: top;\n",
       "    }\n",
       "\n",
       "    .dataframe thead th {\n",
       "        text-align: right;\n",
       "    }\n",
       "</style>\n",
       "<table border=\"1\" class=\"dataframe\">\n",
       "  <thead>\n",
       "    <tr style=\"text-align: right;\">\n",
       "      <th></th>\n",
       "      <th>Company_name</th>\n",
       "      <th>Job_posted</th>\n",
       "      <th>Rating</th>\n",
       "    </tr>\n",
       "  </thead>\n",
       "  <tbody>\n",
       "    <tr>\n",
       "      <th>0</th>\n",
       "      <td>Jubilant Foodworks Limited</td>\n",
       "      <td>7d ago</td>\n",
       "      <td>3.9</td>\n",
       "    </tr>\n",
       "    <tr>\n",
       "      <th>1</th>\n",
       "      <td>HCL Technologies</td>\n",
       "      <td>21d ago</td>\n",
       "      <td>3.8</td>\n",
       "    </tr>\n",
       "    <tr>\n",
       "      <th>2</th>\n",
       "      <td>Tavant Technologies India Pvt. Ltd.</td>\n",
       "      <td>2d ago</td>\n",
       "      <td>4.0</td>\n",
       "    </tr>\n",
       "    <tr>\n",
       "      <th>3</th>\n",
       "      <td>Denave India Pvt Ltd.</td>\n",
       "      <td>2d ago</td>\n",
       "      <td>4.0</td>\n",
       "    </tr>\n",
       "    <tr>\n",
       "      <th>4</th>\n",
       "      <td>EY GDS</td>\n",
       "      <td>22d ago</td>\n",
       "      <td>3.7</td>\n",
       "    </tr>\n",
       "    <tr>\n",
       "      <th>5</th>\n",
       "      <td>EXL Service</td>\n",
       "      <td>15d ago</td>\n",
       "      <td>3.8</td>\n",
       "    </tr>\n",
       "    <tr>\n",
       "      <th>6</th>\n",
       "      <td>Pitney Bowes India Pvt ltd</td>\n",
       "      <td>22d ago</td>\n",
       "      <td>4.2</td>\n",
       "    </tr>\n",
       "    <tr>\n",
       "      <th>7</th>\n",
       "      <td>Zyoin</td>\n",
       "      <td>5hr ago</td>\n",
       "      <td>4.1</td>\n",
       "    </tr>\n",
       "    <tr>\n",
       "      <th>8</th>\n",
       "      <td>Ameriprise Financial</td>\n",
       "      <td>30d ago</td>\n",
       "      <td>4.0</td>\n",
       "    </tr>\n",
       "    <tr>\n",
       "      <th>9</th>\n",
       "      <td>Jubilant Foodworks Limited</td>\n",
       "      <td>28d ago</td>\n",
       "      <td>3.9</td>\n",
       "    </tr>\n",
       "  </tbody>\n",
       "</table>\n",
       "</div>"
      ],
      "text/plain": [
       "                          Company_name Job_posted Rating\n",
       "0           Jubilant Foodworks Limited     7d ago    3.9\n",
       "1                     HCL Technologies    21d ago    3.8\n",
       "2  Tavant Technologies India Pvt. Ltd.     2d ago    4.0\n",
       "3                Denave India Pvt Ltd.     2d ago    4.0\n",
       "4                               EY GDS    22d ago    3.7\n",
       "5                          EXL Service    15d ago    3.8\n",
       "6           Pitney Bowes India Pvt ltd    22d ago    4.2\n",
       "7                                Zyoin    5hr ago    4.1\n",
       "8                 Ameriprise Financial    30d ago    4.0\n",
       "9           Jubilant Foodworks Limited    28d ago    3.9"
      ]
     },
     "execution_count": 58,
     "metadata": {},
     "output_type": "execute_result"
    }
   ],
   "source": [
    "#Creating a data frame using the above lists:\n",
    "data=pd.DataFrame({'Company_name':Compname,'Job_posted':job_posted,'Rating':Rating})\n",
    "data"
   ]
  },
  {
   "cell_type": "markdown",
   "id": "cb69678e",
   "metadata": {},
   "source": [
    "# Q10: Write a python program to scrape the salary data for Data Scientist designation.You have to scrape Company name, Number of salaries, Average salary, Minsalary, Max Salary.\n"
   ]
  },
  {
   "cell_type": "code",
   "execution_count": 59,
   "id": "18b50fcb",
   "metadata": {},
   "outputs": [],
   "source": [
    "#Importing all the required libraries:\n",
    "import selenium\n",
    "from selenium import webdriver\n",
    "import pandas as pd \n",
    "import warnings\n",
    "warnings.filterwarnings(\"ignore\")"
   ]
  },
  {
   "cell_type": "code",
   "execution_count": 85,
   "id": "90f584e6",
   "metadata": {},
   "outputs": [],
   "source": [
    "#Getting the webdriver access:\n",
    "driver=webdriver.Chrome(r'C:\\Users\\admin\\Desktop\\chromedriver.exe')"
   ]
  },
  {
   "cell_type": "code",
   "execution_count": 86,
   "id": "99f56a58",
   "metadata": {},
   "outputs": [],
   "source": [
    "#Typing the required url to explore:\n",
    "url='https://www.ambitionbox.com/'\n",
    "driver.get(url)"
   ]
  },
  {
   "cell_type": "code",
   "execution_count": 87,
   "id": "dedb12eb",
   "metadata": {},
   "outputs": [],
   "source": [
    "#selecting the salaries to get the required job profiles:\n",
    "salary=driver.find_element_by_xpath('/html/body/div[1]/nav/nav/a[4]')\n",
    "salary.click()"
   ]
  },
  {
   "cell_type": "code",
   "execution_count": 88,
   "id": "9b9feaba",
   "metadata": {},
   "outputs": [],
   "source": [
    "#Filling the \"search job profile” field and clicking the search button to explore different job options:\n",
    "\n",
    "search_job=driver.find_element_by_xpath('/html/body/div/div/div/main/section[1]/div[2]/div[1]/span/input')#finding the job search element using class name\n",
    "search_job.send_keys('Data Scientist')#filling the search element"
   ]
  },
  {
   "cell_type": "code",
   "execution_count": 89,
   "id": "4ff14922",
   "metadata": {},
   "outputs": [],
   "source": [
    "search=driver.find_element_by_xpath('/html/body/div/div/div/main/section[1]/div[2]/div[1]/span/div/div/div[1]')#finding the search element using class name\n",
    "search.click() #clicking the search"
   ]
  },
  {
   "cell_type": "code",
   "execution_count": 93,
   "id": "7c737fbe",
   "metadata": {},
   "outputs": [],
   "source": [
    "#selecting top 10 company name and total salary record tags and putting them in form of lists:\n",
    "name=driver.find_elements_by_xpath('//div[@class=\"name\"]')\n",
    "company_name=[]\n",
    "Total_salary_record=[]\n",
    "for i in name:\n",
    "    company_name.append(i.text.split(' b').pop(0))\n"
   ]
  },
  {
   "cell_type": "code",
   "execution_count": 94,
   "id": "88da4e42",
   "metadata": {},
   "outputs": [
    {
     "data": {
      "text/plain": [
       "['Walmart',\n",
       " 'Ab Inbev',\n",
       " 'ZS',\n",
       " 'Optum',\n",
       " 'Fractal Analytics',\n",
       " 'Tiger Analytics',\n",
       " 'UnitedHealth',\n",
       " 'Verizon',\n",
       " 'Ganit Business Solutions',\n",
       " 'Ericsson']"
      ]
     },
     "execution_count": 94,
     "metadata": {},
     "output_type": "execute_result"
    }
   ],
   "source": [
    "Company_name=[i.split('\\n', 1)[0] for i in company_name]\n",
    "Company_name"
   ]
  },
  {
   "cell_type": "code",
   "execution_count": 95,
   "id": "4a2de575",
   "metadata": {},
   "outputs": [
    {
     "data": {
      "text/plain": [
       "['based on 10 salaries',\n",
       " 'based on 25 salaries',\n",
       " 'based on 13 salaries',\n",
       " 'based on 25 salaries',\n",
       " 'based on 75 salaries',\n",
       " 'based on 30 salaries',\n",
       " 'based on 51 salaries',\n",
       " 'based on 14 salaries',\n",
       " 'based on 13 salaries',\n",
       " 'based on 43 salaries']"
      ]
     },
     "execution_count": 95,
     "metadata": {},
     "output_type": "execute_result"
    }
   ],
   "source": [
    "Total_salary_record=[i.split('\\n', 1)[1] for i in company_name]\n",
    "Total_salary_record"
   ]
  },
  {
   "cell_type": "code",
   "execution_count": 101,
   "id": "a70c14a8",
   "metadata": {},
   "outputs": [],
   "source": [
    "#selecting top 10 experience tags and putting them in form of a list:\n",
    "\n",
    "exp=driver.find_elements_by_xpath('//div[@class=\"salaries sbold-list-header\"]')\n",
    "experience=[]\n",
    "\n",
    "for i in exp:\n",
    "    experience.append(i.text.split('.').pop(1))\n"
   ]
  },
  {
   "cell_type": "code",
   "execution_count": 103,
   "id": "4f315a31",
   "metadata": {},
   "outputs": [
    {
     "data": {
      "text/plain": [
       "['3 yrs exp',\n",
       " '3-4 yrs exp',\n",
       " '2 yrs exp',\n",
       " '3-4 yrs exp',\n",
       " '2-4 yrs exp',\n",
       " '3-4 yrs exp',\n",
       " '2-4 yrs exp',\n",
       " '4 yrs exp',\n",
       " '4 yrs exp',\n",
       " '3-4 yrs exp']"
      ]
     },
     "execution_count": 103,
     "metadata": {},
     "output_type": "execute_result"
    }
   ],
   "source": [
    "experience=[i.split('\\n', 1)[1] for i in experience]\n",
    "experience"
   ]
  },
  {
   "cell_type": "code",
   "execution_count": 106,
   "id": "15493db4",
   "metadata": {},
   "outputs": [
    {
     "data": {
      "text/plain": [
       "['28.7L',\n",
       " '20.2L',\n",
       " '15.5L',\n",
       " '15.1L',\n",
       " '15.1L',\n",
       " '14.2L',\n",
       " '13.8L',\n",
       " '12.7L',\n",
       " '12.4L',\n",
       " '11.9L']"
      ]
     },
     "execution_count": 106,
     "metadata": {},
     "output_type": "execute_result"
    }
   ],
   "source": [
    "#selecting top 10 average salary tags and putting them in form of a list:\n",
    "\n",
    "avg_salary=driver.find_elements_by_xpath('//p[@class=\"averageCtc\"]')\n",
    "Avg_salary=[]\n",
    "\n",
    "for i in avg_salary:\n",
    "    Avg_salary.append(i.text.split(\" \").pop(1))\n",
    "Avg_salary"
   ]
  },
  {
   "cell_type": "code",
   "execution_count": 124,
   "id": "bb46e1d5",
   "metadata": {},
   "outputs": [],
   "source": [
    "#selecting top 10 minimum salary and maximum salary tags and putting them in form of lists:\n",
    "\n",
    "minimum=driver.find_elements_by_xpath('//div[@class=\"value body-medium\"]')\n",
    "minimum_salary=[]\n",
    "maximum_salary=[]\n",
    "for i in minimum:\n",
    "    minimum_salary.append(i.text.replace('₹','Rs.'))"
   ]
  },
  {
   "cell_type": "code",
   "execution_count": 125,
   "id": "b456df62",
   "metadata": {},
   "outputs": [],
   "source": [
    "Minimum_salary=minimum_salary[0::2]\n"
   ]
  },
  {
   "cell_type": "code",
   "execution_count": 126,
   "id": "93fb8353",
   "metadata": {},
   "outputs": [
    {
     "data": {
      "text/plain": [
       "10"
      ]
     },
     "execution_count": 126,
     "metadata": {},
     "output_type": "execute_result"
    }
   ],
   "source": [
    "len(Minimum_salary)"
   ]
  },
  {
   "cell_type": "code",
   "execution_count": 127,
   "id": "bb46cd26",
   "metadata": {},
   "outputs": [],
   "source": [
    "maximum_salary=minimum_salary[1::2]"
   ]
  },
  {
   "cell_type": "code",
   "execution_count": 128,
   "id": "c6c0fa9d",
   "metadata": {},
   "outputs": [
    {
     "data": {
      "text/plain": [
       "10"
      ]
     },
     "execution_count": 128,
     "metadata": {},
     "output_type": "execute_result"
    }
   ],
   "source": [
    "len(maximum_salary)"
   ]
  },
  {
   "cell_type": "code",
   "execution_count": 130,
   "id": "18c242d9",
   "metadata": {},
   "outputs": [
    {
     "data": {
      "text/html": [
       "<div>\n",
       "<style scoped>\n",
       "    .dataframe tbody tr th:only-of-type {\n",
       "        vertical-align: middle;\n",
       "    }\n",
       "\n",
       "    .dataframe tbody tr th {\n",
       "        vertical-align: top;\n",
       "    }\n",
       "\n",
       "    .dataframe thead th {\n",
       "        text-align: right;\n",
       "    }\n",
       "</style>\n",
       "<table border=\"1\" class=\"dataframe\">\n",
       "  <thead>\n",
       "    <tr style=\"text-align: right;\">\n",
       "      <th></th>\n",
       "      <th>Company_name</th>\n",
       "      <th>Total_salary_record</th>\n",
       "      <th>Average_salary(Rupees)</th>\n",
       "      <th>Minimum_salary</th>\n",
       "      <th>Maximun_salary</th>\n",
       "      <th>Experience_required</th>\n",
       "    </tr>\n",
       "  </thead>\n",
       "  <tbody>\n",
       "    <tr>\n",
       "      <th>0</th>\n",
       "      <td>Walmart</td>\n",
       "      <td>based on 10 salaries</td>\n",
       "      <td>28.7L</td>\n",
       "      <td>Rs. 17.7L</td>\n",
       "      <td>Rs. 35.0L</td>\n",
       "      <td>3 yrs exp</td>\n",
       "    </tr>\n",
       "    <tr>\n",
       "      <th>1</th>\n",
       "      <td>Ab Inbev</td>\n",
       "      <td>based on 25 salaries</td>\n",
       "      <td>20.2L</td>\n",
       "      <td>Rs. 15.0L</td>\n",
       "      <td>Rs. 25.5L</td>\n",
       "      <td>3-4 yrs exp</td>\n",
       "    </tr>\n",
       "    <tr>\n",
       "      <th>2</th>\n",
       "      <td>ZS</td>\n",
       "      <td>based on 13 salaries</td>\n",
       "      <td>15.5L</td>\n",
       "      <td>Rs. 9.8L</td>\n",
       "      <td>Rs. 20.0L</td>\n",
       "      <td>2 yrs exp</td>\n",
       "    </tr>\n",
       "    <tr>\n",
       "      <th>3</th>\n",
       "      <td>Optum</td>\n",
       "      <td>based on 25 salaries</td>\n",
       "      <td>15.1L</td>\n",
       "      <td>Rs. 11.0L</td>\n",
       "      <td>Rs. 21.3L</td>\n",
       "      <td>3-4 yrs exp</td>\n",
       "    </tr>\n",
       "    <tr>\n",
       "      <th>4</th>\n",
       "      <td>Fractal Analytics</td>\n",
       "      <td>based on 75 salaries</td>\n",
       "      <td>15.1L</td>\n",
       "      <td>Rs. 9.5L</td>\n",
       "      <td>Rs. 22.0L</td>\n",
       "      <td>2-4 yrs exp</td>\n",
       "    </tr>\n",
       "    <tr>\n",
       "      <th>5</th>\n",
       "      <td>Tiger Analytics</td>\n",
       "      <td>based on 30 salaries</td>\n",
       "      <td>14.2L</td>\n",
       "      <td>Rs. 9.0L</td>\n",
       "      <td>Rs. 18.5L</td>\n",
       "      <td>3-4 yrs exp</td>\n",
       "    </tr>\n",
       "    <tr>\n",
       "      <th>6</th>\n",
       "      <td>UnitedHealth</td>\n",
       "      <td>based on 51 salaries</td>\n",
       "      <td>13.8L</td>\n",
       "      <td>Rs. 8.3L</td>\n",
       "      <td>Rs. 20.5L</td>\n",
       "      <td>2-4 yrs exp</td>\n",
       "    </tr>\n",
       "    <tr>\n",
       "      <th>7</th>\n",
       "      <td>Verizon</td>\n",
       "      <td>based on 14 salaries</td>\n",
       "      <td>12.7L</td>\n",
       "      <td>Rs. 10.0L</td>\n",
       "      <td>Rs. 21.0L</td>\n",
       "      <td>4 yrs exp</td>\n",
       "    </tr>\n",
       "    <tr>\n",
       "      <th>8</th>\n",
       "      <td>Ganit Business Solutions</td>\n",
       "      <td>based on 13 salaries</td>\n",
       "      <td>12.4L</td>\n",
       "      <td>Rs. 8.5L</td>\n",
       "      <td>Rs. 15.0L</td>\n",
       "      <td>4 yrs exp</td>\n",
       "    </tr>\n",
       "    <tr>\n",
       "      <th>9</th>\n",
       "      <td>Ericsson</td>\n",
       "      <td>based on 43 salaries</td>\n",
       "      <td>11.9L</td>\n",
       "      <td>Rs. 5.8L</td>\n",
       "      <td>Rs. 24.0L</td>\n",
       "      <td>3-4 yrs exp</td>\n",
       "    </tr>\n",
       "  </tbody>\n",
       "</table>\n",
       "</div>"
      ],
      "text/plain": [
       "               Company_name   Total_salary_record Average_salary(Rupees)  \\\n",
       "0                   Walmart  based on 10 salaries                  28.7L   \n",
       "1                  Ab Inbev  based on 25 salaries                  20.2L   \n",
       "2                        ZS  based on 13 salaries                  15.5L   \n",
       "3                     Optum  based on 25 salaries                  15.1L   \n",
       "4         Fractal Analytics  based on 75 salaries                  15.1L   \n",
       "5           Tiger Analytics  based on 30 salaries                  14.2L   \n",
       "6              UnitedHealth  based on 51 salaries                  13.8L   \n",
       "7                   Verizon  based on 14 salaries                  12.7L   \n",
       "8  Ganit Business Solutions  based on 13 salaries                  12.4L   \n",
       "9                  Ericsson  based on 43 salaries                  11.9L   \n",
       "\n",
       "  Minimum_salary Maximun_salary Experience_required  \n",
       "0      Rs. 17.7L      Rs. 35.0L           3 yrs exp  \n",
       "1      Rs. 15.0L      Rs. 25.5L         3-4 yrs exp  \n",
       "2       Rs. 9.8L      Rs. 20.0L           2 yrs exp  \n",
       "3      Rs. 11.0L      Rs. 21.3L         3-4 yrs exp  \n",
       "4       Rs. 9.5L      Rs. 22.0L         2-4 yrs exp  \n",
       "5       Rs. 9.0L      Rs. 18.5L         3-4 yrs exp  \n",
       "6       Rs. 8.3L      Rs. 20.5L         2-4 yrs exp  \n",
       "7      Rs. 10.0L      Rs. 21.0L           4 yrs exp  \n",
       "8       Rs. 8.5L      Rs. 15.0L           4 yrs exp  \n",
       "9       Rs. 5.8L      Rs. 24.0L         3-4 yrs exp  "
      ]
     },
     "execution_count": 130,
     "metadata": {},
     "output_type": "execute_result"
    }
   ],
   "source": [
    "#Creating data frame for the top 10 \n",
    "data=pd.DataFrame({'Company_name':Company_name,'Total_salary_record':Total_salary_record,'Average_salary(Rupees)':Avg_salary,\n",
    "                   'Minimum_salary':Minimum_salary,'Maximun_salary':maximum_salary,'Experience_required':experience})\n",
    "data"
   ]
  },
  {
   "cell_type": "code",
   "execution_count": null,
   "id": "fe07325e",
   "metadata": {},
   "outputs": [],
   "source": []
  }
 ],
 "metadata": {
  "kernelspec": {
   "display_name": "Python 3",
   "language": "python",
   "name": "python3"
  },
  "language_info": {
   "codemirror_mode": {
    "name": "ipython",
    "version": 3
   },
   "file_extension": ".py",
   "mimetype": "text/x-python",
   "name": "python",
   "nbconvert_exporter": "python",
   "pygments_lexer": "ipython3",
   "version": "3.8.8"
  }
 },
 "nbformat": 4,
 "nbformat_minor": 5
}
