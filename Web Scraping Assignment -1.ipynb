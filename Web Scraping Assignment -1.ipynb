{
 "cells": [
  {
   "cell_type": "markdown",
   "id": "d9de6986",
   "metadata": {},
   "source": [
    "# Web Scrapping Assignment"
   ]
  },
  {
   "cell_type": "markdown",
   "id": "7486bc2e",
   "metadata": {},
   "source": [
    "# 1) Write a python program to display all the header tags from wikipedia.org.\n"
   ]
  },
  {
   "cell_type": "code",
   "execution_count": 1,
   "id": "c1a4c1dd",
   "metadata": {},
   "outputs": [],
   "source": [
    "from bs4 import BeautifulSoup\n",
    "import requests"
   ]
  },
  {
   "cell_type": "code",
   "execution_count": 2,
   "id": "e1fe0891",
   "metadata": {},
   "outputs": [],
   "source": [
    "page1=requests.get(\"https://en.wikipedia.org/wiki/Main_Page\")"
   ]
  },
  {
   "cell_type": "code",
   "execution_count": 3,
   "id": "c59429c8",
   "metadata": {},
   "outputs": [
    {
     "data": {
      "text/plain": [
       "<Response [200]>"
      ]
     },
     "execution_count": 3,
     "metadata": {},
     "output_type": "execute_result"
    }
   ],
   "source": [
    "page1"
   ]
  },
  {
   "cell_type": "code",
   "execution_count": null,
   "id": "f87f4cdb",
   "metadata": {
    "scrolled": false
   },
   "outputs": [],
   "source": [
    "soup=BeautifulSoup(page1.content)\n",
    "soup"
   ]
  },
  {
   "cell_type": "code",
   "execution_count": 5,
   "id": "e12fe768",
   "metadata": {},
   "outputs": [
    {
     "data": {
      "text/plain": [
       "['Main Page']"
      ]
     },
     "execution_count": 5,
     "metadata": {},
     "output_type": "execute_result"
    }
   ],
   "source": [
    "header1=[]\n",
    "for i in soup.find_all('h1',class_=\"firstHeading mw-first-heading\"):\n",
    "    header1.append(i.text)\n",
    "header1"
   ]
  },
  {
   "cell_type": "code",
   "execution_count": 6,
   "id": "b9d04b4d",
   "metadata": {},
   "outputs": [
    {
     "data": {
      "text/plain": [
       "[\"From today's featured article\",\n",
       " 'Did you know\\xa0...',\n",
       " 'In the news',\n",
       " 'On this day',\n",
       " \"Today's featured picture\",\n",
       " 'Other areas of Wikipedia',\n",
       " \"Wikipedia's sister projects\",\n",
       " 'Wikipedia languages']"
      ]
     },
     "execution_count": 6,
     "metadata": {},
     "output_type": "execute_result"
    }
   ],
   "source": [
    "header2=[]\n",
    "for i in soup.find_all('h2',class_=\"mp-h2\"):\n",
    "    header2.append(i.text)\n",
    "header2"
   ]
  },
  {
   "cell_type": "code",
   "execution_count": 7,
   "id": "70317183",
   "metadata": {},
   "outputs": [
    {
     "data": {
      "text/plain": [
       "['Main Page',\n",
       " \"From today's featured article\",\n",
       " 'Did you know\\xa0...',\n",
       " 'In the news',\n",
       " 'On this day',\n",
       " \"Today's featured picture\",\n",
       " 'Other areas of Wikipedia',\n",
       " \"Wikipedia's sister projects\",\n",
       " 'Wikipedia languages']"
      ]
     },
     "execution_count": 7,
     "metadata": {},
     "output_type": "execute_result"
    }
   ],
   "source": [
    "header=header1+header2\n",
    "header"
   ]
  },
  {
   "cell_type": "code",
   "execution_count": 9,
   "id": "e5652ded",
   "metadata": {},
   "outputs": [
    {
     "data": {
      "text/html": [
       "<div>\n",
       "<style scoped>\n",
       "    .dataframe tbody tr th:only-of-type {\n",
       "        vertical-align: middle;\n",
       "    }\n",
       "\n",
       "    .dataframe tbody tr th {\n",
       "        vertical-align: top;\n",
       "    }\n",
       "\n",
       "    .dataframe thead th {\n",
       "        text-align: right;\n",
       "    }\n",
       "</style>\n",
       "<table border=\"1\" class=\"dataframe\">\n",
       "  <thead>\n",
       "    <tr style=\"text-align: right;\">\n",
       "      <th></th>\n",
       "      <th>Header</th>\n",
       "    </tr>\n",
       "  </thead>\n",
       "  <tbody>\n",
       "    <tr>\n",
       "      <th>0</th>\n",
       "      <td>Main Page</td>\n",
       "    </tr>\n",
       "    <tr>\n",
       "      <th>1</th>\n",
       "      <td>From today's featured article</td>\n",
       "    </tr>\n",
       "    <tr>\n",
       "      <th>2</th>\n",
       "      <td>Did you know ...</td>\n",
       "    </tr>\n",
       "    <tr>\n",
       "      <th>3</th>\n",
       "      <td>In the news</td>\n",
       "    </tr>\n",
       "    <tr>\n",
       "      <th>4</th>\n",
       "      <td>On this day</td>\n",
       "    </tr>\n",
       "    <tr>\n",
       "      <th>5</th>\n",
       "      <td>Today's featured picture</td>\n",
       "    </tr>\n",
       "    <tr>\n",
       "      <th>6</th>\n",
       "      <td>Other areas of Wikipedia</td>\n",
       "    </tr>\n",
       "    <tr>\n",
       "      <th>7</th>\n",
       "      <td>Wikipedia's sister projects</td>\n",
       "    </tr>\n",
       "    <tr>\n",
       "      <th>8</th>\n",
       "      <td>Wikipedia languages</td>\n",
       "    </tr>\n",
       "  </tbody>\n",
       "</table>\n",
       "</div>"
      ],
      "text/plain": [
       "                          Header\n",
       "0                      Main Page\n",
       "1  From today's featured article\n",
       "2               Did you know ...\n",
       "3                    In the news\n",
       "4                    On this day\n",
       "5       Today's featured picture\n",
       "6       Other areas of Wikipedia\n",
       "7    Wikipedia's sister projects\n",
       "8            Wikipedia languages"
      ]
     },
     "execution_count": 9,
     "metadata": {},
     "output_type": "execute_result"
    }
   ],
   "source": [
    "import pandas as pd \n",
    "df=pd.DataFrame({'Header': header})\n",
    "df"
   ]
  },
  {
   "cell_type": "markdown",
   "id": "325dbb6d",
   "metadata": {},
   "source": [
    "# 2)Write a python program to display IMDB’s Top rated 100 movies’ data (i.e. name, rating, year of release)and make data frame.\n"
   ]
  },
  {
   "cell_type": "code",
   "execution_count": 10,
   "id": "498a2c7f",
   "metadata": {},
   "outputs": [],
   "source": [
    "from bs4 import BeautifulSoup\n",
    "import requests\n"
   ]
  },
  {
   "cell_type": "code",
   "execution_count": 11,
   "id": "c372a58e",
   "metadata": {},
   "outputs": [
    {
     "data": {
      "text/plain": [
       "<Response [200]>"
      ]
     },
     "execution_count": 11,
     "metadata": {},
     "output_type": "execute_result"
    }
   ],
   "source": [
    "page=requests.get('https://www.imdb.com/list/ls055592025/?sort=user_rating,desc&st_dt=&mode=detail&page=1')\n",
    "page"
   ]
  },
  {
   "cell_type": "code",
   "execution_count": null,
   "id": "23b6f309",
   "metadata": {},
   "outputs": [],
   "source": [
    "soup=BeautifulSoup(page.content)\n",
    "soup"
   ]
  },
  {
   "cell_type": "code",
   "execution_count": null,
   "id": "b65a2f0f",
   "metadata": {
    "scrolled": true
   },
   "outputs": [],
   "source": [
    "movietitle=[]\n",
    "for i in soup.find_all('h3',class_=\"lister-item-header\"):\n",
    "    movietitle.append(i.text.replace(\"\\n\",\" \").split(\".\").pop(1))\n"
   ]
  },
  {
   "cell_type": "code",
   "execution_count": 16,
   "id": "0f2f241e",
   "metadata": {},
   "outputs": [],
   "source": [
    "rating=[]\n",
    "for i in soup.find_all('div',class_=\"ipl-rating-star small\"):\n",
    "    rating.append(i.text.replace(\"\\n\",\"\"))\n"
   ]
  },
  {
   "cell_type": "code",
   "execution_count": 17,
   "id": "b3a5cb4f",
   "metadata": {},
   "outputs": [],
   "source": [
    "year=[]\n",
    "for i in soup.find_all('span',class_=\"lister-item-year text-muted unbold\"):\n",
    "    year.append(i.text.replace(\"\\n\",\"\"))\n"
   ]
  },
  {
   "cell_type": "code",
   "execution_count": 18,
   "id": "3cf2679c",
   "metadata": {},
   "outputs": [],
   "source": [
    "import pandas as pd\n",
    "df=pd.DataFrame({'Name':movietitle,\n",
    "                  'Rating':rating,\n",
    "                    'Yer_of_release':year})"
   ]
  },
  {
   "cell_type": "code",
   "execution_count": 19,
   "id": "02222c66",
   "metadata": {},
   "outputs": [
    {
     "data": {
      "text/html": [
       "<div>\n",
       "<style scoped>\n",
       "    .dataframe tbody tr th:only-of-type {\n",
       "        vertical-align: middle;\n",
       "    }\n",
       "\n",
       "    .dataframe tbody tr th {\n",
       "        vertical-align: top;\n",
       "    }\n",
       "\n",
       "    .dataframe thead th {\n",
       "        text-align: right;\n",
       "    }\n",
       "</style>\n",
       "<table border=\"1\" class=\"dataframe\">\n",
       "  <thead>\n",
       "    <tr style=\"text-align: right;\">\n",
       "      <th></th>\n",
       "      <th>Name</th>\n",
       "      <th>Rating</th>\n",
       "      <th>Yer_of_release</th>\n",
       "    </tr>\n",
       "  </thead>\n",
       "  <tbody>\n",
       "    <tr>\n",
       "      <th>0</th>\n",
       "      <td>The Shawshank Redemption (1994)</td>\n",
       "      <td>9.3</td>\n",
       "      <td>(1994)</td>\n",
       "    </tr>\n",
       "    <tr>\n",
       "      <th>1</th>\n",
       "      <td>The Godfather (1972)</td>\n",
       "      <td>9.2</td>\n",
       "      <td>(1972)</td>\n",
       "    </tr>\n",
       "    <tr>\n",
       "      <th>2</th>\n",
       "      <td>12 Angry Men (1957)</td>\n",
       "      <td>9</td>\n",
       "      <td>(1957)</td>\n",
       "    </tr>\n",
       "    <tr>\n",
       "      <th>3</th>\n",
       "      <td>The Godfather: Part II (1974)</td>\n",
       "      <td>9</td>\n",
       "      <td>(1974)</td>\n",
       "    </tr>\n",
       "    <tr>\n",
       "      <th>4</th>\n",
       "      <td>Pulp Fiction (1994)</td>\n",
       "      <td>8.9</td>\n",
       "      <td>(1994)</td>\n",
       "    </tr>\n",
       "    <tr>\n",
       "      <th>...</th>\n",
       "      <td>...</td>\n",
       "      <td>...</td>\n",
       "      <td>...</td>\n",
       "    </tr>\n",
       "    <tr>\n",
       "      <th>95</th>\n",
       "      <td>Wuthering Heights (1939)</td>\n",
       "      <td>7.6</td>\n",
       "      <td>(1939)</td>\n",
       "    </tr>\n",
       "    <tr>\n",
       "      <th>96</th>\n",
       "      <td>West Side Story (1961)</td>\n",
       "      <td>7.5</td>\n",
       "      <td>(1961)</td>\n",
       "    </tr>\n",
       "    <tr>\n",
       "      <th>97</th>\n",
       "      <td>Terms of Endearment (1983)</td>\n",
       "      <td>7.4</td>\n",
       "      <td>(1983)</td>\n",
       "    </tr>\n",
       "    <tr>\n",
       "      <th>98</th>\n",
       "      <td>American Graffiti (1973)</td>\n",
       "      <td>7.4</td>\n",
       "      <td>(1973)</td>\n",
       "    </tr>\n",
       "    <tr>\n",
       "      <th>99</th>\n",
       "      <td>An American in Paris (1951)</td>\n",
       "      <td>7.2</td>\n",
       "      <td>(1951)</td>\n",
       "    </tr>\n",
       "  </tbody>\n",
       "</table>\n",
       "<p>100 rows × 3 columns</p>\n",
       "</div>"
      ],
      "text/plain": [
       "                                 Name Rating Yer_of_release\n",
       "0    The Shawshank Redemption (1994)     9.3         (1994)\n",
       "1               The Godfather (1972)     9.2         (1972)\n",
       "2                12 Angry Men (1957)       9         (1957)\n",
       "3      The Godfather: Part II (1974)       9         (1974)\n",
       "4                Pulp Fiction (1994)     8.9         (1994)\n",
       "..                                ...    ...            ...\n",
       "95          Wuthering Heights (1939)     7.6         (1939)\n",
       "96            West Side Story (1961)     7.5         (1961)\n",
       "97        Terms of Endearment (1983)     7.4         (1983)\n",
       "98          American Graffiti (1973)     7.4         (1973)\n",
       "99       An American in Paris (1951)     7.2         (1951)\n",
       "\n",
       "[100 rows x 3 columns]"
      ]
     },
     "execution_count": 19,
     "metadata": {},
     "output_type": "execute_result"
    }
   ],
   "source": [
    "df"
   ]
  },
  {
   "cell_type": "markdown",
   "id": "d3646f24",
   "metadata": {},
   "source": [
    "# 3)Write a python program to display IMDB’s Top rated 100 Indian movies’ data (i.e. name, rating, year ofrelease) and make data frame.\n"
   ]
  },
  {
   "cell_type": "code",
   "execution_count": 20,
   "id": "49d4d967",
   "metadata": {},
   "outputs": [],
   "source": [
    "from bs4 import BeautifulSoup\n",
    "import requests\n"
   ]
  },
  {
   "cell_type": "code",
   "execution_count": 21,
   "id": "07ca31e7",
   "metadata": {},
   "outputs": [
    {
     "data": {
      "text/plain": [
       "<Response [200]>"
      ]
     },
     "execution_count": 21,
     "metadata": {},
     "output_type": "execute_result"
    }
   ],
   "source": [
    "page=requests.get('https://www.imdb.com/india/top-rated-indian-movies/')\n",
    "page"
   ]
  },
  {
   "cell_type": "code",
   "execution_count": null,
   "id": "b80be85f",
   "metadata": {
    "scrolled": false
   },
   "outputs": [],
   "source": [
    "soup=BeautifulSoup(page.content)\n",
    "soup"
   ]
  },
  {
   "cell_type": "code",
   "execution_count": 23,
   "id": "82687575",
   "metadata": {},
   "outputs": [],
   "source": [
    "movietitle=[]\n",
    "for i in soup.find_all('td',class_=\"titleColumn\"):\n",
    "    movietitle.append(i.text.replace(\"\\n\",\" \").split(\".\").pop(1))\n"
   ]
  },
  {
   "cell_type": "code",
   "execution_count": 24,
   "id": "b4a3601b",
   "metadata": {},
   "outputs": [],
   "source": [
    "rating=[]\n",
    "for i in soup.find_all('td',class_=\"ratingColumn imdbRating\"):\n",
    "    rating.append(i.text.replace(\"\\n\",\"\"))\n"
   ]
  },
  {
   "cell_type": "code",
   "execution_count": 25,
   "id": "663f917c",
   "metadata": {},
   "outputs": [],
   "source": [
    "year=[]\n",
    "for i in soup.find_all('span',class_=\"secondaryInfo\"):\n",
    "    year.append(i.text.replace(\"\\n\",\"\"))\n"
   ]
  },
  {
   "cell_type": "code",
   "execution_count": 27,
   "id": "edd281aa",
   "metadata": {},
   "outputs": [],
   "source": [
    "import pandas as pd\n",
    "df=pd.DataFrame({'Name':movietitle,\n",
    "                  'Rating':rating,\n",
    "                    'Year_of_release':year})\n"
   ]
  },
  {
   "cell_type": "code",
   "execution_count": 28,
   "id": "f49b6759",
   "metadata": {},
   "outputs": [
    {
     "data": {
      "text/html": [
       "<div>\n",
       "<style scoped>\n",
       "    .dataframe tbody tr th:only-of-type {\n",
       "        vertical-align: middle;\n",
       "    }\n",
       "\n",
       "    .dataframe tbody tr th {\n",
       "        vertical-align: top;\n",
       "    }\n",
       "\n",
       "    .dataframe thead th {\n",
       "        text-align: right;\n",
       "    }\n",
       "</style>\n",
       "<table border=\"1\" class=\"dataframe\">\n",
       "  <thead>\n",
       "    <tr style=\"text-align: right;\">\n",
       "      <th></th>\n",
       "      <th>Name</th>\n",
       "      <th>Rating</th>\n",
       "      <th>Year_of_release</th>\n",
       "    </tr>\n",
       "  </thead>\n",
       "  <tbody>\n",
       "    <tr>\n",
       "      <th>0</th>\n",
       "      <td>Pariyerum Perumal (2018)</td>\n",
       "      <td>8.5</td>\n",
       "      <td>(2018)</td>\n",
       "    </tr>\n",
       "    <tr>\n",
       "      <th>1</th>\n",
       "      <td>Nayakan (1987)</td>\n",
       "      <td>8.5</td>\n",
       "      <td>(1987)</td>\n",
       "    </tr>\n",
       "    <tr>\n",
       "      <th>2</th>\n",
       "      <td>Jai Bhim (2021)</td>\n",
       "      <td>8.5</td>\n",
       "      <td>(2021)</td>\n",
       "    </tr>\n",
       "    <tr>\n",
       "      <th>3</th>\n",
       "      <td>Anbe Sivam (2003)</td>\n",
       "      <td>8.5</td>\n",
       "      <td>(2003)</td>\n",
       "    </tr>\n",
       "    <tr>\n",
       "      <th>4</th>\n",
       "      <td>C/o Kancharapalem (2018)</td>\n",
       "      <td>8.5</td>\n",
       "      <td>(2018)</td>\n",
       "    </tr>\n",
       "    <tr>\n",
       "      <th>...</th>\n",
       "      <td>...</td>\n",
       "      <td>...</td>\n",
       "      <td>...</td>\n",
       "    </tr>\n",
       "    <tr>\n",
       "      <th>95</th>\n",
       "      <td>Alai Payuthey (2000)</td>\n",
       "      <td>8.1</td>\n",
       "      <td>(2000)</td>\n",
       "    </tr>\n",
       "    <tr>\n",
       "      <th>96</th>\n",
       "      <td>Sarfarosh (1999)</td>\n",
       "      <td>8.1</td>\n",
       "      <td>(1999)</td>\n",
       "    </tr>\n",
       "    <tr>\n",
       "      <th>97</th>\n",
       "      <td>Uri: The Surgical Strike (2019)</td>\n",
       "      <td>8.1</td>\n",
       "      <td>(2019)</td>\n",
       "    </tr>\n",
       "    <tr>\n",
       "      <th>98</th>\n",
       "      <td>Roja (1992)</td>\n",
       "      <td>8.1</td>\n",
       "      <td>(1992)</td>\n",
       "    </tr>\n",
       "    <tr>\n",
       "      <th>99</th>\n",
       "      <td>Queen (2013)</td>\n",
       "      <td>8.1</td>\n",
       "      <td>(2013)</td>\n",
       "    </tr>\n",
       "  </tbody>\n",
       "</table>\n",
       "<p>100 rows × 3 columns</p>\n",
       "</div>"
      ],
      "text/plain": [
       "                                       Name Rating Year_of_release\n",
       "0                 Pariyerum Perumal (2018)     8.5          (2018)\n",
       "1                           Nayakan (1987)     8.5          (1987)\n",
       "2                          Jai Bhim (2021)     8.5          (2021)\n",
       "3                        Anbe Sivam (2003)     8.5          (2003)\n",
       "4                 C/o Kancharapalem (2018)     8.5          (2018)\n",
       "..                                      ...    ...             ...\n",
       "95                    Alai Payuthey (2000)     8.1          (2000)\n",
       "96                        Sarfarosh (1999)     8.1          (1999)\n",
       "97         Uri: The Surgical Strike (2019)     8.1          (2019)\n",
       "98                             Roja (1992)     8.1          (1992)\n",
       "99                            Queen (2013)     8.1          (2013)\n",
       "\n",
       "[100 rows x 3 columns]"
      ]
     },
     "execution_count": 28,
     "metadata": {},
     "output_type": "execute_result"
    }
   ],
   "source": [
    "df=df.head(100)\n",
    "df"
   ]
  },
  {
   "cell_type": "markdown",
   "id": "e8878473",
   "metadata": {},
   "source": [
    "# 4)Write a python program to scrape product name, price and discounts from https://meesho.com/bagsladies/pl/p7vbp . "
   ]
  },
  {
   "cell_type": "code",
   "execution_count": 29,
   "id": "4b9a2807",
   "metadata": {},
   "outputs": [
    {
     "data": {
      "text/plain": [
       "<Response [200]>"
      ]
     },
     "execution_count": 29,
     "metadata": {},
     "output_type": "execute_result"
    }
   ],
   "source": [
    "from bs4 import BeautifulSoup\n",
    "import requests\n",
    "\n",
    "page=requests.get('https://meesho.com/bagsladies/pl/p7vbp')\n",
    "page"
   ]
  },
  {
   "cell_type": "code",
   "execution_count": null,
   "id": "955a6663",
   "metadata": {},
   "outputs": [],
   "source": [
    "soup=BeautifulSoup(page.content)\n",
    "soup"
   ]
  },
  {
   "cell_type": "code",
   "execution_count": 31,
   "id": "d865d733",
   "metadata": {},
   "outputs": [
    {
     "data": {
      "text/plain": [
       "['Elegant Fashionable Women Handbags',\n",
       " 'Gorgeous Attractive Women Handbags',\n",
       " 'Classic Fancy Women Handbags',\n",
       " 'Classic Versatile Women Handbags',\n",
       " 'Gorgeous Versatile Women Handbags',\n",
       " 'Trendy Fancy Women Handbags',\n",
       " 'Voguish Classy Women Handbags',\n",
       " 'Elegant Versatile Women Handbags',\n",
       " 'Ravishing Stylish Women Handbags',\n",
       " 'Ravishing Alluring Women Handbags',\n",
       " 'Classic Versatile Women Handbags',\n",
       " 'Elegant Women Handbags',\n",
       " 'Elite Fashionable Women Handbags',\n",
       " 'Voguish Fancy Women Handbags',\n",
       " 'Classic Stylish Women Handbags',\n",
       " 'Elite Versatile Women Handbags',\n",
       " 'Elegant Attractive Women Handbags',\n",
       " 'Classic Versatile Women Handbags',\n",
       " 'Elite Fancy Women Handbags',\n",
       " 'Trendy Fashionable Women Handbags']"
      ]
     },
     "execution_count": 31,
     "metadata": {},
     "output_type": "execute_result"
    }
   ],
   "source": [
    "Product_name=[]\n",
    "for i in soup.find_all('p',class_=\"Text__StyledText-sc-oo0kvp-0 bWSOET NewProductCard__ProductTitle_Desktop-sc-j0e7tu-4 cQhePS NewProductCard__ProductTitle_Desktop-sc-j0e7tu-4 cQhePS\"):\n",
    "    Product_name.append(i.text)\n",
    "Product_name"
   ]
  },
  {
   "cell_type": "code",
   "execution_count": 32,
   "id": "7d960e93",
   "metadata": {},
   "outputs": [],
   "source": [
    "Price_in_Rupees=[]\n",
    "for i in soup.find_all('h5',class_=\"Text__StyledText-sc-oo0kvp-0 hiHdyy\"):\n",
    "    Price_in_Rupees.append(i.text.replace('₹','Rs.').split(\".\").pop(1))\n"
   ]
  },
  {
   "cell_type": "code",
   "execution_count": 33,
   "id": "2b2b121f",
   "metadata": {},
   "outputs": [],
   "source": [
    "Discounts=[]\n",
    "for i in soup.find_all('p',class_=\"Text__StyledText-sc-oo0kvp-0 fCJVtz NewProductCard__DiscountTextParagraph-sc-j0e7tu-16 kmYsnm NewProductCard__DiscountTextParagraph-sc-j0e7tu-16 kmYsnm\"):\n",
    "    Discounts.append(i.text.replace('₹','Rs.'))\n"
   ]
  },
  {
   "cell_type": "code",
   "execution_count": 34,
   "id": "84eb923e",
   "metadata": {},
   "outputs": [
    {
     "data": {
      "text/html": [
       "<div>\n",
       "<style scoped>\n",
       "    .dataframe tbody tr th:only-of-type {\n",
       "        vertical-align: middle;\n",
       "    }\n",
       "\n",
       "    .dataframe tbody tr th {\n",
       "        vertical-align: top;\n",
       "    }\n",
       "\n",
       "    .dataframe thead th {\n",
       "        text-align: right;\n",
       "    }\n",
       "</style>\n",
       "<table border=\"1\" class=\"dataframe\">\n",
       "  <thead>\n",
       "    <tr style=\"text-align: right;\">\n",
       "      <th></th>\n",
       "      <th>Product_name</th>\n",
       "      <th>Price_in_Rupees</th>\n",
       "      <th>Discounts</th>\n",
       "    </tr>\n",
       "  </thead>\n",
       "  <tbody>\n",
       "    <tr>\n",
       "      <th>0</th>\n",
       "      <td>Elegant Fashionable Women Handbags</td>\n",
       "      <td>183</td>\n",
       "      <td>Rs.78 discount on 1st order</td>\n",
       "    </tr>\n",
       "    <tr>\n",
       "      <th>1</th>\n",
       "      <td>Gorgeous Attractive Women Handbags</td>\n",
       "      <td>285</td>\n",
       "      <td>Rs.100 discount on 1st order</td>\n",
       "    </tr>\n",
       "    <tr>\n",
       "      <th>2</th>\n",
       "      <td>Classic Fancy Women Handbags</td>\n",
       "      <td>198</td>\n",
       "      <td>Rs.84 discount on 1st order</td>\n",
       "    </tr>\n",
       "    <tr>\n",
       "      <th>3</th>\n",
       "      <td>Classic Versatile Women Handbags</td>\n",
       "      <td>356</td>\n",
       "      <td>Rs.100 discount on 1st order</td>\n",
       "    </tr>\n",
       "    <tr>\n",
       "      <th>4</th>\n",
       "      <td>Gorgeous Versatile Women Handbags</td>\n",
       "      <td>229</td>\n",
       "      <td>Rs.98 discount on 1st order</td>\n",
       "    </tr>\n",
       "    <tr>\n",
       "      <th>5</th>\n",
       "      <td>Trendy Fancy Women Handbags</td>\n",
       "      <td>440</td>\n",
       "      <td>Rs.100 discount on 1st order</td>\n",
       "    </tr>\n",
       "    <tr>\n",
       "      <th>6</th>\n",
       "      <td>Voguish Classy Women Handbags</td>\n",
       "      <td>166</td>\n",
       "      <td>Rs.71 discount on 1st order</td>\n",
       "    </tr>\n",
       "    <tr>\n",
       "      <th>7</th>\n",
       "      <td>Elegant Versatile Women Handbags</td>\n",
       "      <td>229</td>\n",
       "      <td>Rs.97 discount on 1st order</td>\n",
       "    </tr>\n",
       "    <tr>\n",
       "      <th>8</th>\n",
       "      <td>Ravishing Stylish Women Handbags</td>\n",
       "      <td>217</td>\n",
       "      <td>Rs.92 discount on 1st order</td>\n",
       "    </tr>\n",
       "    <tr>\n",
       "      <th>9</th>\n",
       "      <td>Ravishing Alluring Women Handbags</td>\n",
       "      <td>261</td>\n",
       "      <td>Rs.100 discount on 1st order</td>\n",
       "    </tr>\n",
       "    <tr>\n",
       "      <th>10</th>\n",
       "      <td>Classic Versatile Women Handbags</td>\n",
       "      <td>205</td>\n",
       "      <td>Rs.87 discount on 1st order</td>\n",
       "    </tr>\n",
       "    <tr>\n",
       "      <th>11</th>\n",
       "      <td>Elegant Women Handbags</td>\n",
       "      <td>165</td>\n",
       "      <td>Rs.70 discount on 1st order</td>\n",
       "    </tr>\n",
       "    <tr>\n",
       "      <th>12</th>\n",
       "      <td>Elite Fashionable Women Handbags</td>\n",
       "      <td>233</td>\n",
       "      <td>Rs.99 discount on 1st order</td>\n",
       "    </tr>\n",
       "    <tr>\n",
       "      <th>13</th>\n",
       "      <td>Voguish Fancy Women Handbags</td>\n",
       "      <td>130</td>\n",
       "      <td>Rs.55 discount on 1st order</td>\n",
       "    </tr>\n",
       "    <tr>\n",
       "      <th>14</th>\n",
       "      <td>Classic Stylish Women Handbags</td>\n",
       "      <td>260</td>\n",
       "      <td>Rs.100 discount on 1st order</td>\n",
       "    </tr>\n",
       "    <tr>\n",
       "      <th>15</th>\n",
       "      <td>Elite Versatile Women Handbags</td>\n",
       "      <td>208</td>\n",
       "      <td>Rs.89 discount on 1st order</td>\n",
       "    </tr>\n",
       "    <tr>\n",
       "      <th>16</th>\n",
       "      <td>Elegant Attractive Women Handbags</td>\n",
       "      <td>196</td>\n",
       "      <td>Rs.83 discount on 1st order</td>\n",
       "    </tr>\n",
       "    <tr>\n",
       "      <th>17</th>\n",
       "      <td>Classic Versatile Women Handbags</td>\n",
       "      <td>191</td>\n",
       "      <td>Rs.81 discount on 1st order</td>\n",
       "    </tr>\n",
       "    <tr>\n",
       "      <th>18</th>\n",
       "      <td>Elite Fancy Women Handbags</td>\n",
       "      <td>224</td>\n",
       "      <td>Rs.95 discount on 1st order</td>\n",
       "    </tr>\n",
       "    <tr>\n",
       "      <th>19</th>\n",
       "      <td>Trendy Fashionable Women Handbags</td>\n",
       "      <td>196</td>\n",
       "      <td>Rs.83 discount on 1st order</td>\n",
       "    </tr>\n",
       "  </tbody>\n",
       "</table>\n",
       "</div>"
      ],
      "text/plain": [
       "                          Product_name Price_in_Rupees  \\\n",
       "0   Elegant Fashionable Women Handbags             183   \n",
       "1   Gorgeous Attractive Women Handbags             285   \n",
       "2         Classic Fancy Women Handbags             198   \n",
       "3     Classic Versatile Women Handbags             356   \n",
       "4    Gorgeous Versatile Women Handbags             229   \n",
       "5          Trendy Fancy Women Handbags             440   \n",
       "6        Voguish Classy Women Handbags             166   \n",
       "7     Elegant Versatile Women Handbags             229   \n",
       "8     Ravishing Stylish Women Handbags             217   \n",
       "9    Ravishing Alluring Women Handbags             261   \n",
       "10    Classic Versatile Women Handbags             205   \n",
       "11              Elegant Women Handbags             165   \n",
       "12    Elite Fashionable Women Handbags             233   \n",
       "13        Voguish Fancy Women Handbags             130   \n",
       "14      Classic Stylish Women Handbags             260   \n",
       "15      Elite Versatile Women Handbags             208   \n",
       "16   Elegant Attractive Women Handbags             196   \n",
       "17    Classic Versatile Women Handbags             191   \n",
       "18          Elite Fancy Women Handbags             224   \n",
       "19   Trendy Fashionable Women Handbags             196   \n",
       "\n",
       "                       Discounts  \n",
       "0    Rs.78 discount on 1st order  \n",
       "1   Rs.100 discount on 1st order  \n",
       "2    Rs.84 discount on 1st order  \n",
       "3   Rs.100 discount on 1st order  \n",
       "4    Rs.98 discount on 1st order  \n",
       "5   Rs.100 discount on 1st order  \n",
       "6    Rs.71 discount on 1st order  \n",
       "7    Rs.97 discount on 1st order  \n",
       "8    Rs.92 discount on 1st order  \n",
       "9   Rs.100 discount on 1st order  \n",
       "10   Rs.87 discount on 1st order  \n",
       "11   Rs.70 discount on 1st order  \n",
       "12   Rs.99 discount on 1st order  \n",
       "13   Rs.55 discount on 1st order  \n",
       "14  Rs.100 discount on 1st order  \n",
       "15   Rs.89 discount on 1st order  \n",
       "16   Rs.83 discount on 1st order  \n",
       "17   Rs.81 discount on 1st order  \n",
       "18   Rs.95 discount on 1st order  \n",
       "19   Rs.83 discount on 1st order  "
      ]
     },
     "execution_count": 34,
     "metadata": {},
     "output_type": "execute_result"
    }
   ],
   "source": [
    "import pandas as pd\n",
    "df=pd.DataFrame({'Product_name':Product_name,\n",
    "                  'Price_in_Rupees':Price_in_Rupees,\n",
    "                    'Discounts':Discounts})\n",
    "df"
   ]
  },
  {
   "cell_type": "markdown",
   "id": "8ad6a296",
   "metadata": {},
   "source": [
    "# 5) Write a python program to scrape cricket rankings from icc-cricket.com. You have to scrape:\n",
    "#a) Top 10 ODI teams in men’s cricket along with the records for matches, points and rating."
   ]
  },
  {
   "cell_type": "code",
   "execution_count": 35,
   "id": "48e893e6",
   "metadata": {},
   "outputs": [
    {
     "data": {
      "text/plain": [
       "<Response [200]>"
      ]
     },
     "execution_count": 35,
     "metadata": {},
     "output_type": "execute_result"
    }
   ],
   "source": [
    "from bs4 import BeautifulSoup\n",
    "import requests\n",
    "\n",
    "page1=requests.get(\"https://www.icc-cricket.com/rankings/mens/team-rankings/odi\")\n",
    "page1"
   ]
  },
  {
   "cell_type": "code",
   "execution_count": null,
   "id": "ca80a354",
   "metadata": {},
   "outputs": [],
   "source": [
    "soup=BeautifulSoup(page1.content)\n",
    "soup"
   ]
  },
  {
   "cell_type": "code",
   "execution_count": 37,
   "id": "8e133ebe",
   "metadata": {},
   "outputs": [
    {
     "data": {
      "text/plain": [
       "'New Zealand'"
      ]
     },
     "execution_count": 37,
     "metadata": {},
     "output_type": "execute_result"
    }
   ],
   "source": [
    "team1=soup.find(\"span\",class_=\"u-hide-phablet\")\n",
    "team1=team1.text\n",
    "team1"
   ]
  },
  {
   "cell_type": "code",
   "execution_count": 38,
   "id": "38cba1f7",
   "metadata": {},
   "outputs": [
    {
     "data": {
      "text/plain": [
       "'17'"
      ]
     },
     "execution_count": 38,
     "metadata": {},
     "output_type": "execute_result"
    }
   ],
   "source": [
    "matches1=soup.find(\"td\",class_=\"rankings-block__banner--matches\")\n",
    "matches1=matches1.text\n",
    "matches1"
   ]
  },
  {
   "cell_type": "code",
   "execution_count": 39,
   "id": "53f6f8db",
   "metadata": {},
   "outputs": [
    {
     "data": {
      "text/plain": [
       "'2,054'"
      ]
     },
     "execution_count": 39,
     "metadata": {},
     "output_type": "execute_result"
    }
   ],
   "source": [
    "points1=soup.find(\"td\",class_=\"rankings-block__banner--points\")\n",
    "points1=points1.text\n",
    "points1"
   ]
  },
  {
   "cell_type": "code",
   "execution_count": 40,
   "id": "54424118",
   "metadata": {},
   "outputs": [
    {
     "data": {
      "text/plain": [
       "'121'"
      ]
     },
     "execution_count": 40,
     "metadata": {},
     "output_type": "execute_result"
    }
   ],
   "source": [
    "rating1=soup.find(\"td\",class_=\"rankings-block__banner--rating u-text-right\")\n",
    "rating1=rating1.text.strip()\n",
    "rating1"
   ]
  },
  {
   "cell_type": "code",
   "execution_count": 41,
   "id": "2d935534",
   "metadata": {},
   "outputs": [],
   "source": [
    "team2=[]\n",
    "for i in soup.find_all('span',class_=\"u-hide-phablet\"):\n",
    "    team2.append(i.text.replace(\"\\n\",\"\"))\n",
    "team2=team2[1:10]"
   ]
  },
  {
   "cell_type": "code",
   "execution_count": 42,
   "id": "c6c5f0d3",
   "metadata": {},
   "outputs": [],
   "source": [
    "matches2=[]\n",
    "for i in soup.find_all(\"td\",class_=\"table-body__cell u-center-text\"):\n",
    "    matches2.append(i.text.replace(\"\\n\",\" \") )\n",
    "points2=matches2[1:19:2]\n",
    "matches2=matches2[2:20:2]"
   ]
  },
  {
   "cell_type": "code",
   "execution_count": 43,
   "id": "eee7422f",
   "metadata": {},
   "outputs": [],
   "source": [
    "rating2=[]\n",
    "for i in soup.find_all('td',class_=\"table-body__cell u-text-right rating\"):\n",
    "    rating2.append(i.text.replace(\"\\n\",\"\"))\n",
    "rating2=rating2[1:10]\n"
   ]
  },
  {
   "cell_type": "code",
   "execution_count": 44,
   "id": "3ebd2ca7",
   "metadata": {},
   "outputs": [
    {
     "data": {
      "text/html": [
       "<div>\n",
       "<style scoped>\n",
       "    .dataframe tbody tr th:only-of-type {\n",
       "        vertical-align: middle;\n",
       "    }\n",
       "\n",
       "    .dataframe tbody tr th {\n",
       "        vertical-align: top;\n",
       "    }\n",
       "\n",
       "    .dataframe thead th {\n",
       "        text-align: right;\n",
       "    }\n",
       "</style>\n",
       "<table border=\"1\" class=\"dataframe\">\n",
       "  <thead>\n",
       "    <tr style=\"text-align: right;\">\n",
       "      <th></th>\n",
       "      <th>team</th>\n",
       "      <th>matches</th>\n",
       "      <th>points</th>\n",
       "      <th>rating</th>\n",
       "    </tr>\n",
       "  </thead>\n",
       "  <tbody>\n",
       "    <tr>\n",
       "      <th>1</th>\n",
       "      <td>New Zealand</td>\n",
       "      <td>17</td>\n",
       "      <td>2,054</td>\n",
       "      <td>121</td>\n",
       "    </tr>\n",
       "    <tr>\n",
       "      <th>2</th>\n",
       "      <td>England</td>\n",
       "      <td>28</td>\n",
       "      <td>3,793</td>\n",
       "      <td>116</td>\n",
       "    </tr>\n",
       "    <tr>\n",
       "      <th>3</th>\n",
       "      <td>Australia</td>\n",
       "      <td>32</td>\n",
       "      <td>3,244</td>\n",
       "      <td>113</td>\n",
       "    </tr>\n",
       "    <tr>\n",
       "      <th>4</th>\n",
       "      <td>India</td>\n",
       "      <td>25</td>\n",
       "      <td>3,624</td>\n",
       "      <td>98</td>\n",
       "    </tr>\n",
       "    <tr>\n",
       "      <th>5</th>\n",
       "      <td>South Africa</td>\n",
       "      <td>27</td>\n",
       "      <td>2,459</td>\n",
       "      <td>93</td>\n",
       "    </tr>\n",
       "    <tr>\n",
       "      <th>6</th>\n",
       "      <td>Pakistan</td>\n",
       "      <td>30</td>\n",
       "      <td>2,524</td>\n",
       "      <td>91</td>\n",
       "    </tr>\n",
       "    <tr>\n",
       "      <th>7</th>\n",
       "      <td>Bangladesh</td>\n",
       "      <td>30</td>\n",
       "      <td>2,740</td>\n",
       "      <td>84</td>\n",
       "    </tr>\n",
       "    <tr>\n",
       "      <th>8</th>\n",
       "      <td>West Indies</td>\n",
       "      <td>32</td>\n",
       "      <td>2,523</td>\n",
       "      <td>83</td>\n",
       "    </tr>\n",
       "    <tr>\n",
       "      <th>9</th>\n",
       "      <td>Sri Lanka</td>\n",
       "      <td>17</td>\n",
       "      <td>2,657</td>\n",
       "      <td>62</td>\n",
       "    </tr>\n",
       "    <tr>\n",
       "      <th>10</th>\n",
       "      <td>Afghanistan</td>\n",
       "      <td>7</td>\n",
       "      <td>1,054</td>\n",
       "      <td>48</td>\n",
       "    </tr>\n",
       "  </tbody>\n",
       "</table>\n",
       "</div>"
      ],
      "text/plain": [
       "            team matches points rating\n",
       "1    New Zealand      17  2,054    121\n",
       "2        England      28  3,793    116\n",
       "3      Australia      32  3,244    113\n",
       "4          India      25  3,624     98\n",
       "5   South Africa      27  2,459     93\n",
       "6       Pakistan      30  2,524     91\n",
       "7     Bangladesh      30  2,740     84\n",
       "8    West Indies      32  2,523     83\n",
       "9      Sri Lanka      17  2,657     62\n",
       "10   Afghanistan       7  1,054     48"
      ]
     },
     "execution_count": 44,
     "metadata": {},
     "output_type": "execute_result"
    }
   ],
   "source": [
    "import pandas as pd\n",
    "  \n",
    "# assign dataframes\n",
    "data1 = pd.DataFrame({'team':[team1],'matches':[matches1],'points':[points1],'rating':[rating1]},index=[1])\n",
    "data2 = pd.DataFrame({'team':team2,'matches':matches2,'points':points2,'rating':rating2},index=[2,3,4,5,6,7,8,9,10])\n",
    "\n",
    "\n",
    "\n",
    "df=pd.concat([data1, data2], axis=0)\n",
    "df"
   ]
  },
  {
   "cell_type": "markdown",
   "id": "a3ae01c4",
   "metadata": {},
   "source": [
    "# 5b)Top 10 ODI Batsmen along with the records of their team and rating.\n"
   ]
  },
  {
   "cell_type": "code",
   "execution_count": 45,
   "id": "a2fefad8",
   "metadata": {},
   "outputs": [
    {
     "data": {
      "text/plain": [
       "<Response [200]>"
      ]
     },
     "execution_count": 45,
     "metadata": {},
     "output_type": "execute_result"
    }
   ],
   "source": [
    "from bs4 import BeautifulSoup\n",
    "import requests\n",
    "\n",
    "page1=requests.get(\"https://www.icc-cricket.com/rankings/mens/player-rankings/odi/batting\")\n",
    "page1"
   ]
  },
  {
   "cell_type": "code",
   "execution_count": null,
   "id": "50a7551e",
   "metadata": {},
   "outputs": [],
   "source": [
    "soup=BeautifulSoup(page1.content)\n",
    "soup"
   ]
  },
  {
   "cell_type": "code",
   "execution_count": 47,
   "id": "c0c17fb0",
   "metadata": {},
   "outputs": [
    {
     "data": {
      "text/plain": [
       "'Babar Azam'"
      ]
     },
     "execution_count": 47,
     "metadata": {},
     "output_type": "execute_result"
    }
   ],
   "source": [
    "player1=soup.find(\"div\",class_=\"rankings-block__banner--name-large\")\n",
    "player1=player1.text\n",
    "player1"
   ]
  },
  {
   "cell_type": "code",
   "execution_count": 48,
   "id": "0378844f",
   "metadata": {},
   "outputs": [
    {
     "data": {
      "text/plain": [
       "'PAK'"
      ]
     },
     "execution_count": 48,
     "metadata": {},
     "output_type": "execute_result"
    }
   ],
   "source": [
    "team1=soup.find(\"div\",class_=\"rankings-block__banner--nationality\")\n",
    "team1=team1.text.strip()\n",
    "team1"
   ]
  },
  {
   "cell_type": "code",
   "execution_count": 49,
   "id": "ef5af28c",
   "metadata": {},
   "outputs": [
    {
     "data": {
      "text/plain": [
       "'873'"
      ]
     },
     "execution_count": 49,
     "metadata": {},
     "output_type": "execute_result"
    }
   ],
   "source": [
    "rating1=soup.find(\"div\",class_=\"rankings-block__banner--rating\")\n",
    "rating1=rating1.text\n",
    "rating1"
   ]
  },
  {
   "cell_type": "code",
   "execution_count": 50,
   "id": "f6b54e25",
   "metadata": {},
   "outputs": [],
   "source": [
    "player2=[]\n",
    "for i in soup.find_all('td',class_=\"table-body__cell rankings-table__name name\"):\n",
    "    player2.append(i.text.replace(\"\\n\",\"\"))\n",
    "player2=player2[0:9]\n"
   ]
  },
  {
   "cell_type": "code",
   "execution_count": 51,
   "id": "e9ce9b71",
   "metadata": {},
   "outputs": [],
   "source": [
    "team2=[]\n",
    "for i in soup.find_all('span',class_=\"table-body__logo-text\"):\n",
    "    team2.append(i.text.replace(\"\\n\",\"\"))\n",
    "team2=team2[0:9]\n"
   ]
  },
  {
   "cell_type": "code",
   "execution_count": 52,
   "id": "0b77fa69",
   "metadata": {},
   "outputs": [],
   "source": [
    "rating2=[]\n",
    "for i in soup.find_all('td',class_=\"table-body__cell rating\"):\n",
    "    rating2.append(i.text.replace(\"\\n\",\"\"))\n",
    "rating2=rating2[0:9]\n"
   ]
  },
  {
   "cell_type": "code",
   "execution_count": 53,
   "id": "075c81a8",
   "metadata": {},
   "outputs": [
    {
     "data": {
      "text/html": [
       "<div>\n",
       "<style scoped>\n",
       "    .dataframe tbody tr th:only-of-type {\n",
       "        vertical-align: middle;\n",
       "    }\n",
       "\n",
       "    .dataframe tbody tr th {\n",
       "        vertical-align: top;\n",
       "    }\n",
       "\n",
       "    .dataframe thead th {\n",
       "        text-align: right;\n",
       "    }\n",
       "</style>\n",
       "<table border=\"1\" class=\"dataframe\">\n",
       "  <thead>\n",
       "    <tr style=\"text-align: right;\">\n",
       "      <th></th>\n",
       "      <th>player</th>\n",
       "      <th>team</th>\n",
       "      <th>rating</th>\n",
       "    </tr>\n",
       "  </thead>\n",
       "  <tbody>\n",
       "    <tr>\n",
       "      <th>1</th>\n",
       "      <td>Babar Azam</td>\n",
       "      <td>PAK</td>\n",
       "      <td>873</td>\n",
       "    </tr>\n",
       "    <tr>\n",
       "      <th>2</th>\n",
       "      <td>Virat Kohli</td>\n",
       "      <td>IND</td>\n",
       "      <td>836</td>\n",
       "    </tr>\n",
       "    <tr>\n",
       "      <th>3</th>\n",
       "      <td>Rohit Sharma</td>\n",
       "      <td>IND</td>\n",
       "      <td>801</td>\n",
       "    </tr>\n",
       "    <tr>\n",
       "      <th>4</th>\n",
       "      <td>Ross Taylor</td>\n",
       "      <td>NZ</td>\n",
       "      <td>801</td>\n",
       "    </tr>\n",
       "    <tr>\n",
       "      <th>5</th>\n",
       "      <td>Quinton de Kock</td>\n",
       "      <td>SA</td>\n",
       "      <td>783</td>\n",
       "    </tr>\n",
       "    <tr>\n",
       "      <th>6</th>\n",
       "      <td>Aaron Finch</td>\n",
       "      <td>AUS</td>\n",
       "      <td>779</td>\n",
       "    </tr>\n",
       "    <tr>\n",
       "      <th>7</th>\n",
       "      <td>Jonny Bairstow</td>\n",
       "      <td>ENG</td>\n",
       "      <td>775</td>\n",
       "    </tr>\n",
       "    <tr>\n",
       "      <th>8</th>\n",
       "      <td>David Warner</td>\n",
       "      <td>AUS</td>\n",
       "      <td>762</td>\n",
       "    </tr>\n",
       "    <tr>\n",
       "      <th>9</th>\n",
       "      <td>Kane Williamson</td>\n",
       "      <td>NZ</td>\n",
       "      <td>754</td>\n",
       "    </tr>\n",
       "    <tr>\n",
       "      <th>10</th>\n",
       "      <td>Rassie van der Dussen</td>\n",
       "      <td>SA</td>\n",
       "      <td>750</td>\n",
       "    </tr>\n",
       "  </tbody>\n",
       "</table>\n",
       "</div>"
      ],
      "text/plain": [
       "                   player team rating\n",
       "1              Babar Azam  PAK    873\n",
       "2             Virat Kohli  IND    836\n",
       "3            Rohit Sharma  IND    801\n",
       "4             Ross Taylor   NZ    801\n",
       "5         Quinton de Kock   SA    783\n",
       "6             Aaron Finch  AUS    779\n",
       "7          Jonny Bairstow  ENG    775\n",
       "8            David Warner  AUS    762\n",
       "9         Kane Williamson   NZ    754\n",
       "10  Rassie van der Dussen   SA    750"
      ]
     },
     "execution_count": 53,
     "metadata": {},
     "output_type": "execute_result"
    }
   ],
   "source": [
    "import pandas as pd\n",
    "  \n",
    "# assign dataframes\n",
    "data1 = pd.DataFrame({'player':[player1],'team':[team1],'rating':[rating1]},index=[1])\n",
    "data2 = pd.DataFrame({'player':player2,'team':team2,'rating':rating2},index=[2,3,4,5,6,7,8,9,10])\n",
    "\n",
    "\n",
    "\n",
    "df=pd.concat([data1, data2], axis=0)\n",
    "df"
   ]
  },
  {
   "cell_type": "markdown",
   "id": "96030dfa",
   "metadata": {},
   "source": [
    "# 5c)Top 10 ODI bowlers along with the records of their team and rating.\n"
   ]
  },
  {
   "cell_type": "code",
   "execution_count": 54,
   "id": "94bdcb63",
   "metadata": {},
   "outputs": [
    {
     "data": {
      "text/plain": [
       "<Response [200]>"
      ]
     },
     "execution_count": 54,
     "metadata": {},
     "output_type": "execute_result"
    }
   ],
   "source": [
    "from bs4 import BeautifulSoup\n",
    "import requests\n",
    "\n",
    "page1=requests.get(\"https://www.icc-cricket.com/rankings/mens/player-rankings/odi/bowling\")\n",
    "page1"
   ]
  },
  {
   "cell_type": "code",
   "execution_count": null,
   "id": "a58ea997",
   "metadata": {},
   "outputs": [],
   "source": [
    "soup=BeautifulSoup(page1.content)\n",
    "soup"
   ]
  },
  {
   "cell_type": "code",
   "execution_count": 56,
   "id": "9acc0140",
   "metadata": {},
   "outputs": [
    {
     "data": {
      "text/plain": [
       "'Trent Boult'"
      ]
     },
     "execution_count": 56,
     "metadata": {},
     "output_type": "execute_result"
    }
   ],
   "source": [
    "bowler1=soup.find(\"div\",class_=\"rankings-block__banner--name-large\")\n",
    "bowler1=bowler1.text\n",
    "bowler1"
   ]
  },
  {
   "cell_type": "code",
   "execution_count": 57,
   "id": "417691ad",
   "metadata": {},
   "outputs": [
    {
     "data": {
      "text/plain": [
       "'NZ'"
      ]
     },
     "execution_count": 57,
     "metadata": {},
     "output_type": "execute_result"
    }
   ],
   "source": [
    "team1=soup.find(\"div\",class_=\"rankings-block__banner--nationality\")\n",
    "team1=team1.text.strip()\n",
    "team1"
   ]
  },
  {
   "cell_type": "code",
   "execution_count": 58,
   "id": "e5c18376",
   "metadata": {},
   "outputs": [
    {
     "data": {
      "text/plain": [
       "'737'"
      ]
     },
     "execution_count": 58,
     "metadata": {},
     "output_type": "execute_result"
    }
   ],
   "source": [
    "rating1=soup.find(\"div\",class_=\"rankings-block__banner--rating\")\n",
    "rating1=rating1.text\n",
    "rating1\n"
   ]
  },
  {
   "cell_type": "code",
   "execution_count": 59,
   "id": "7056c0ac",
   "metadata": {},
   "outputs": [],
   "source": [
    "bowler2=[]\n",
    "for i in soup.find_all('td',class_=\"table-body__cell rankings-table__name name\"):\n",
    "    bowler2.append(i.text.replace(\"\\n\",\"\"))\n",
    "bowler2=bowler2[0:9]\n"
   ]
  },
  {
   "cell_type": "code",
   "execution_count": 60,
   "id": "f974d22a",
   "metadata": {},
   "outputs": [
    {
     "data": {
      "text/plain": [
       "['ENG', 'AFG', 'BAN', 'NZ', 'IND', 'AUS', 'BAN', 'IRE', 'BAN']"
      ]
     },
     "execution_count": 60,
     "metadata": {},
     "output_type": "execute_result"
    }
   ],
   "source": [
    "team2=[]\n",
    "for i in soup.find_all('span',class_=\"table-body__logo-text\"):\n",
    "    team2.append(i.text.replace(\"\\n\",\"\"))\n",
    "team2=team2[1:10]\n",
    "team2"
   ]
  },
  {
   "cell_type": "code",
   "execution_count": 61,
   "id": "8a34f68e",
   "metadata": {},
   "outputs": [],
   "source": [
    "rating2=[]\n",
    "for i in soup.find_all('td',class_=\"table-body__cell rating\"):\n",
    "    rating2.append(i.text.replace(\"\\n\",\"\"))\n",
    "rating2=rating2[1:10]\n"
   ]
  },
  {
   "cell_type": "code",
   "execution_count": 62,
   "id": "eebecdf2",
   "metadata": {},
   "outputs": [
    {
     "data": {
      "text/html": [
       "<div>\n",
       "<style scoped>\n",
       "    .dataframe tbody tr th:only-of-type {\n",
       "        vertical-align: middle;\n",
       "    }\n",
       "\n",
       "    .dataframe tbody tr th {\n",
       "        vertical-align: top;\n",
       "    }\n",
       "\n",
       "    .dataframe thead th {\n",
       "        text-align: right;\n",
       "    }\n",
       "</style>\n",
       "<table border=\"1\" class=\"dataframe\">\n",
       "  <thead>\n",
       "    <tr style=\"text-align: right;\">\n",
       "      <th></th>\n",
       "      <th>bowler</th>\n",
       "      <th>team</th>\n",
       "      <th>rating</th>\n",
       "    </tr>\n",
       "  </thead>\n",
       "  <tbody>\n",
       "    <tr>\n",
       "      <th>1</th>\n",
       "      <td>Babar Azam</td>\n",
       "      <td>NZ</td>\n",
       "      <td>737</td>\n",
       "    </tr>\n",
       "    <tr>\n",
       "      <th>2</th>\n",
       "      <td>Virat Kohli</td>\n",
       "      <td>ENG</td>\n",
       "      <td>700</td>\n",
       "    </tr>\n",
       "    <tr>\n",
       "      <th>3</th>\n",
       "      <td>Rohit Sharma</td>\n",
       "      <td>AFG</td>\n",
       "      <td>697</td>\n",
       "    </tr>\n",
       "    <tr>\n",
       "      <th>4</th>\n",
       "      <td>Ross Taylor</td>\n",
       "      <td>BAN</td>\n",
       "      <td>692</td>\n",
       "    </tr>\n",
       "    <tr>\n",
       "      <th>5</th>\n",
       "      <td>Quinton de Kock</td>\n",
       "      <td>NZ</td>\n",
       "      <td>691</td>\n",
       "    </tr>\n",
       "    <tr>\n",
       "      <th>6</th>\n",
       "      <td>Aaron Finch</td>\n",
       "      <td>IND</td>\n",
       "      <td>689</td>\n",
       "    </tr>\n",
       "    <tr>\n",
       "      <th>7</th>\n",
       "      <td>Jonny Bairstow</td>\n",
       "      <td>AUS</td>\n",
       "      <td>652</td>\n",
       "    </tr>\n",
       "    <tr>\n",
       "      <th>8</th>\n",
       "      <td>David Warner</td>\n",
       "      <td>BAN</td>\n",
       "      <td>650</td>\n",
       "    </tr>\n",
       "    <tr>\n",
       "      <th>9</th>\n",
       "      <td>Kane Williamson</td>\n",
       "      <td>IRE</td>\n",
       "      <td>646</td>\n",
       "    </tr>\n",
       "    <tr>\n",
       "      <th>10</th>\n",
       "      <td>Rassie van der Dussen</td>\n",
       "      <td>BAN</td>\n",
       "      <td>640</td>\n",
       "    </tr>\n",
       "  </tbody>\n",
       "</table>\n",
       "</div>"
      ],
      "text/plain": [
       "                   bowler team rating\n",
       "1              Babar Azam   NZ    737\n",
       "2             Virat Kohli  ENG    700\n",
       "3            Rohit Sharma  AFG    697\n",
       "4             Ross Taylor  BAN    692\n",
       "5         Quinton de Kock   NZ    691\n",
       "6             Aaron Finch  IND    689\n",
       "7          Jonny Bairstow  AUS    652\n",
       "8            David Warner  BAN    650\n",
       "9         Kane Williamson  IRE    646\n",
       "10  Rassie van der Dussen  BAN    640"
      ]
     },
     "execution_count": 62,
     "metadata": {},
     "output_type": "execute_result"
    }
   ],
   "source": [
    "import pandas as pd\n",
    "  \n",
    "# assign dataframes\n",
    "data1 = pd.DataFrame({'bowler':[player1],'team':[team1],'rating':[rating1]},index=[1])\n",
    "data2 = pd.DataFrame({'bowler':player2,'team':team2,'rating':rating2},index=[2,3,4,5,6,7,8,9,10])\n",
    "\n",
    "\n",
    "\n",
    "df=pd.concat([data1, data2], axis=0)\n",
    "df"
   ]
  },
  {
   "cell_type": "markdown",
   "id": "1c48ff2e",
   "metadata": {},
   "source": [
    "# 6) Write a python program to scrape cricket rankings from icc-cricket.com. You have to scrape:\n",
    "#a) Top 10 ODI teams in women’s cricket along with the records for matches, points and rating."
   ]
  },
  {
   "cell_type": "code",
   "execution_count": 63,
   "id": "60a505db",
   "metadata": {},
   "outputs": [
    {
     "data": {
      "text/plain": [
       "<Response [200]>"
      ]
     },
     "execution_count": 63,
     "metadata": {},
     "output_type": "execute_result"
    }
   ],
   "source": [
    "\n",
    "from bs4 import BeautifulSoup\n",
    "import requests\n",
    "\n",
    "page1=requests.get(\"https://www.icc-cricket.com/rankings/womens/team-rankings/odi\")\n",
    "page1"
   ]
  },
  {
   "cell_type": "code",
   "execution_count": null,
   "id": "49ea4405",
   "metadata": {},
   "outputs": [],
   "source": [
    "soup=BeautifulSoup(page1.content)\n",
    "soup"
   ]
  },
  {
   "cell_type": "code",
   "execution_count": 65,
   "id": "7ad8e8e0",
   "metadata": {},
   "outputs": [],
   "source": [
    "team1=soup.find(\"span\",class_=\"u-hide-phablet\")\n",
    "team1=team1.text\n",
    "matches1=soup.find(\"td\",class_=\"rankings-block__banner--matches\")\n",
    "matches1=matches1.text\n",
    "points1=soup.find(\"td\",class_=\"rankings-block__banner--points\")\n",
    "points1=points1.text"
   ]
  },
  {
   "cell_type": "code",
   "execution_count": 66,
   "id": "a2ccfed5",
   "metadata": {},
   "outputs": [],
   "source": [
    "team2=[]\n",
    "for i in soup.find_all('span',class_=\"u-hide-phablet\"):\n",
    "    team2.append(i.text.replace(\"\\n\",\"\"))\n",
    "team2=team2[1:10]"
   ]
  },
  {
   "cell_type": "code",
   "execution_count": 67,
   "id": "4f12670c",
   "metadata": {},
   "outputs": [],
   "source": [
    "matches2=[]\n",
    "for i in soup.find_all(\"td\",class_=\"table-body__cell u-center-text\"):\n",
    "    matches2.append(i.text.replace(\"\\n\",\" \") )\n",
    "points2=matches2[1:19:2]\n",
    "matches2=matches2[2:20:2]"
   ]
  },
  {
   "cell_type": "code",
   "execution_count": 68,
   "id": "21fdc28e",
   "metadata": {},
   "outputs": [],
   "source": [
    "rating2=[]\n",
    "for i in soup.find_all('td',class_=\"table-body__cell u-text-right rating\"):\n",
    "    rating2.append(i.text.replace(\"\\n\",\"\"))\n",
    "rating2=rating2[1:10]"
   ]
  },
  {
   "cell_type": "code",
   "execution_count": 69,
   "id": "bd6f3954",
   "metadata": {},
   "outputs": [
    {
     "data": {
      "text/html": [
       "<div>\n",
       "<style scoped>\n",
       "    .dataframe tbody tr th:only-of-type {\n",
       "        vertical-align: middle;\n",
       "    }\n",
       "\n",
       "    .dataframe tbody tr th {\n",
       "        vertical-align: top;\n",
       "    }\n",
       "\n",
       "    .dataframe thead th {\n",
       "        text-align: right;\n",
       "    }\n",
       "</style>\n",
       "<table border=\"1\" class=\"dataframe\">\n",
       "  <thead>\n",
       "    <tr style=\"text-align: right;\">\n",
       "      <th></th>\n",
       "      <th>team</th>\n",
       "      <th>matches</th>\n",
       "      <th>points</th>\n",
       "      <th>rating</th>\n",
       "    </tr>\n",
       "  </thead>\n",
       "  <tbody>\n",
       "    <tr>\n",
       "      <th>1</th>\n",
       "      <td>Australia</td>\n",
       "      <td>17</td>\n",
       "      <td>2,746</td>\n",
       "      <td>737</td>\n",
       "    </tr>\n",
       "    <tr>\n",
       "      <th>2</th>\n",
       "      <td>South Africa</td>\n",
       "      <td>18</td>\n",
       "      <td>2,307</td>\n",
       "      <td>119</td>\n",
       "    </tr>\n",
       "    <tr>\n",
       "      <th>3</th>\n",
       "      <td>England</td>\n",
       "      <td>17</td>\n",
       "      <td>2,148</td>\n",
       "      <td>112</td>\n",
       "    </tr>\n",
       "    <tr>\n",
       "      <th>4</th>\n",
       "      <td>India</td>\n",
       "      <td>5</td>\n",
       "      <td>1,899</td>\n",
       "      <td>95</td>\n",
       "    </tr>\n",
       "    <tr>\n",
       "      <th>5</th>\n",
       "      <td>Bangladesh</td>\n",
       "      <td>19</td>\n",
       "      <td>475</td>\n",
       "      <td>88</td>\n",
       "    </tr>\n",
       "    <tr>\n",
       "      <th>6</th>\n",
       "      <td>New Zealand</td>\n",
       "      <td>19</td>\n",
       "      <td>1,668</td>\n",
       "      <td>87</td>\n",
       "    </tr>\n",
       "    <tr>\n",
       "      <th>7</th>\n",
       "      <td>West Indies</td>\n",
       "      <td>19</td>\n",
       "      <td>1,658</td>\n",
       "      <td>69</td>\n",
       "    </tr>\n",
       "    <tr>\n",
       "      <th>8</th>\n",
       "      <td>Pakistan</td>\n",
       "      <td>5</td>\n",
       "      <td>1,304</td>\n",
       "      <td>48</td>\n",
       "    </tr>\n",
       "    <tr>\n",
       "      <th>9</th>\n",
       "      <td>Ireland</td>\n",
       "      <td>5</td>\n",
       "      <td>240</td>\n",
       "      <td>47</td>\n",
       "    </tr>\n",
       "    <tr>\n",
       "      <th>10</th>\n",
       "      <td>Sri Lanka</td>\n",
       "      <td>8</td>\n",
       "      <td>233</td>\n",
       "      <td>0</td>\n",
       "    </tr>\n",
       "  </tbody>\n",
       "</table>\n",
       "</div>"
      ],
      "text/plain": [
       "            team matches points rating\n",
       "1      Australia      17  2,746    737\n",
       "2   South Africa      18  2,307    119\n",
       "3        England      17  2,148    112\n",
       "4          India       5  1,899     95\n",
       "5     Bangladesh      19    475     88\n",
       "6    New Zealand      19  1,668     87\n",
       "7    West Indies      19  1,658     69\n",
       "8       Pakistan       5  1,304     48\n",
       "9        Ireland       5    240     47\n",
       "10     Sri Lanka       8    233      0"
      ]
     },
     "execution_count": 69,
     "metadata": {},
     "output_type": "execute_result"
    }
   ],
   "source": [
    "import pandas as pd\n",
    "  \n",
    "# assign dataframes\n",
    "data1 = pd.DataFrame({'team':[team1],'matches':[matches1],'points':[points1],'rating':[rating1]},index=[1])\n",
    "data2 = pd.DataFrame({'team':team2,'matches':matches2,'points':points2,'rating':rating2},index=[2,3,4,5,6,7,8,9,10])\n",
    "\n",
    "\n",
    "\n",
    "df=pd.concat([data1, data2], axis=0)\n",
    "df"
   ]
  },
  {
   "cell_type": "markdown",
   "id": "6d8fa197",
   "metadata": {},
   "source": [
    "# 6-b)Top 10 women’s ODI Batting players along with the records of their team and rating."
   ]
  },
  {
   "cell_type": "code",
   "execution_count": 70,
   "id": "3c19fdaf",
   "metadata": {},
   "outputs": [
    {
     "data": {
      "text/plain": [
       "<Response [200]>"
      ]
     },
     "execution_count": 70,
     "metadata": {},
     "output_type": "execute_result"
    }
   ],
   "source": [
    "from bs4 import BeautifulSoup\n",
    "import requests\n",
    "\n",
    "page1=requests.get(\"https://www.icc-cricket.com/rankings/womens/player-rankings/odi/batting\")\n",
    "page1"
   ]
  },
  {
   "cell_type": "code",
   "execution_count": null,
   "id": "5206010e",
   "metadata": {},
   "outputs": [],
   "source": [
    "soup=BeautifulSoup(page1.content)\n",
    "soup"
   ]
  },
  {
   "cell_type": "code",
   "execution_count": 72,
   "id": "968cb48a",
   "metadata": {},
   "outputs": [],
   "source": [
    "player1=soup.find(\"div\",class_=\"rankings-block__banner--name-large\")\n",
    "player1=player1.text\n",
    "team1=soup.find(\"div\",class_=\"rankings-block__banner--nationality\")\n",
    "team1=team1.text.strip()\n",
    "rating1=soup.find(\"div\",class_=\"rankings-block__banner--rating\")\n",
    "rating1=rating1.text"
   ]
  },
  {
   "cell_type": "code",
   "execution_count": 73,
   "id": "040d74e9",
   "metadata": {},
   "outputs": [],
   "source": [
    "player2=[]\n",
    "for i in soup.find_all('td',class_=\"table-body__cell rankings-table__name name\"):\n",
    "    player2.append(i.text.replace(\"\\n\",\"\"))\n",
    "player2=player2[0:9]\n",
    "team2=[]\n",
    "for i in soup.find_all('span',class_=\"table-body__logo-text\"):\n",
    "    team2.append(i.text.replace(\"\\n\",\"\"))\n",
    "team2=team2[0:9]\n",
    "rating2=[]\n",
    "for i in soup.find_all('td',class_=\"table-body__cell rating\"):\n",
    "    rating2.append(i.text.replace(\"\\n\",\"\"))\n",
    "rating2=rating2[0:9]\n"
   ]
  },
  {
   "cell_type": "code",
   "execution_count": 74,
   "id": "f9ed9db6",
   "metadata": {},
   "outputs": [
    {
     "data": {
      "text/html": [
       "<div>\n",
       "<style scoped>\n",
       "    .dataframe tbody tr th:only-of-type {\n",
       "        vertical-align: middle;\n",
       "    }\n",
       "\n",
       "    .dataframe tbody tr th {\n",
       "        vertical-align: top;\n",
       "    }\n",
       "\n",
       "    .dataframe thead th {\n",
       "        text-align: right;\n",
       "    }\n",
       "</style>\n",
       "<table border=\"1\" class=\"dataframe\">\n",
       "  <thead>\n",
       "    <tr style=\"text-align: right;\">\n",
       "      <th></th>\n",
       "      <th>player</th>\n",
       "      <th>team</th>\n",
       "      <th>rating</th>\n",
       "    </tr>\n",
       "  </thead>\n",
       "  <tbody>\n",
       "    <tr>\n",
       "      <th>1</th>\n",
       "      <td>Alyssa Healy</td>\n",
       "      <td>AUS</td>\n",
       "      <td>750</td>\n",
       "    </tr>\n",
       "    <tr>\n",
       "      <th>2</th>\n",
       "      <td>Mithali Raj</td>\n",
       "      <td>IND</td>\n",
       "      <td>738</td>\n",
       "    </tr>\n",
       "    <tr>\n",
       "      <th>3</th>\n",
       "      <td>Lizelle Lee</td>\n",
       "      <td>SA</td>\n",
       "      <td>731</td>\n",
       "    </tr>\n",
       "    <tr>\n",
       "      <th>4</th>\n",
       "      <td>Tammy Beaumont</td>\n",
       "      <td>ENG</td>\n",
       "      <td>728</td>\n",
       "    </tr>\n",
       "    <tr>\n",
       "      <th>5</th>\n",
       "      <td>Amy Satterthwaite</td>\n",
       "      <td>NZ</td>\n",
       "      <td>717</td>\n",
       "    </tr>\n",
       "    <tr>\n",
       "      <th>6</th>\n",
       "      <td>Smriti Mandhana</td>\n",
       "      <td>IND</td>\n",
       "      <td>710</td>\n",
       "    </tr>\n",
       "    <tr>\n",
       "      <th>7</th>\n",
       "      <td>Meg Lanning</td>\n",
       "      <td>AUS</td>\n",
       "      <td>699</td>\n",
       "    </tr>\n",
       "    <tr>\n",
       "      <th>8</th>\n",
       "      <td>Beth Mooney</td>\n",
       "      <td>AUS</td>\n",
       "      <td>690</td>\n",
       "    </tr>\n",
       "    <tr>\n",
       "      <th>9</th>\n",
       "      <td>Heather Knight</td>\n",
       "      <td>ENG</td>\n",
       "      <td>674</td>\n",
       "    </tr>\n",
       "    <tr>\n",
       "      <th>10</th>\n",
       "      <td>Rachael Haynes</td>\n",
       "      <td>AUS</td>\n",
       "      <td>668</td>\n",
       "    </tr>\n",
       "  </tbody>\n",
       "</table>\n",
       "</div>"
      ],
      "text/plain": [
       "               player team rating\n",
       "1        Alyssa Healy  AUS    750\n",
       "2         Mithali Raj  IND    738\n",
       "3         Lizelle Lee   SA    731\n",
       "4      Tammy Beaumont  ENG    728\n",
       "5   Amy Satterthwaite   NZ    717\n",
       "6     Smriti Mandhana  IND    710\n",
       "7         Meg Lanning  AUS    699\n",
       "8         Beth Mooney  AUS    690\n",
       "9      Heather Knight  ENG    674\n",
       "10     Rachael Haynes  AUS    668"
      ]
     },
     "execution_count": 74,
     "metadata": {},
     "output_type": "execute_result"
    }
   ],
   "source": [
    "import pandas as pd\n",
    "  \n",
    "# assign dataframes\n",
    "data1 = pd.DataFrame({'player':[player1],'team':[team1],'rating':[rating1]},index=[1])\n",
    "data2 = pd.DataFrame({'player':player2,'team':team2,'rating':rating2},index=[2,3,4,5,6,7,8,9,10])\n",
    "df=pd.concat([data1, data2], axis=0)\n",
    "df\n"
   ]
  },
  {
   "cell_type": "markdown",
   "id": "36f5ad22",
   "metadata": {},
   "source": [
    "# 6-c)Top 10 women’s ODI all-rounder along with the records of their team and rating."
   ]
  },
  {
   "cell_type": "code",
   "execution_count": 75,
   "id": "abb2ce99",
   "metadata": {},
   "outputs": [
    {
     "data": {
      "text/plain": [
       "<Response [200]>"
      ]
     },
     "execution_count": 75,
     "metadata": {},
     "output_type": "execute_result"
    }
   ],
   "source": [
    "from bs4 import BeautifulSoup\n",
    "import requests\n",
    "\n",
    "page1=requests.get(\"https://www.icc-cricket.com/rankings/womens/player-rankings/odi/all-rounder\")\n",
    "page1"
   ]
  },
  {
   "cell_type": "code",
   "execution_count": null,
   "id": "e9301ad7",
   "metadata": {},
   "outputs": [],
   "source": [
    "soup=BeautifulSoup(page1.content)\n",
    "soup"
   ]
  },
  {
   "cell_type": "code",
   "execution_count": 77,
   "id": "e2a94bd1",
   "metadata": {},
   "outputs": [],
   "source": [
    "player1=soup.find(\"div\",class_=\"rankings-block__banner--name-large\")\n",
    "player1=player1.text\n",
    "team1=soup.find(\"div\",class_=\"rankings-block__banner--nationality\")\n",
    "team1=team1.text.strip()\n",
    "rating1=soup.find(\"div\",class_=\"rankings-block__banner--rating\")\n",
    "rating1=rating1.text"
   ]
  },
  {
   "cell_type": "code",
   "execution_count": 78,
   "id": "de2b9cee",
   "metadata": {},
   "outputs": [],
   "source": [
    "player2=[]\n",
    "for i in soup.find_all('td',class_=\"table-body__cell rankings-table__name name\"):\n",
    "    player2.append(i.text.replace(\"\\n\",\"\"))\n",
    "player2=player2[0:9]\n",
    "team2=[]\n",
    "for i in soup.find_all('span',class_=\"table-body__logo-text\"):\n",
    "    team2.append(i.text.replace(\"\\n\",\"\"))\n",
    "team2=team2[0:9]\n",
    "rating2=[]\n",
    "for i in soup.find_all('td',class_=\"table-body__cell rating\"):\n",
    "    rating2.append(i.text.replace(\"\\n\",\"\"))\n",
    "rating2=rating2[0:9]"
   ]
  },
  {
   "cell_type": "code",
   "execution_count": 79,
   "id": "961fa900",
   "metadata": {},
   "outputs": [
    {
     "data": {
      "text/html": [
       "<div>\n",
       "<style scoped>\n",
       "    .dataframe tbody tr th:only-of-type {\n",
       "        vertical-align: middle;\n",
       "    }\n",
       "\n",
       "    .dataframe tbody tr th {\n",
       "        vertical-align: top;\n",
       "    }\n",
       "\n",
       "    .dataframe thead th {\n",
       "        text-align: right;\n",
       "    }\n",
       "</style>\n",
       "<table border=\"1\" class=\"dataframe\">\n",
       "  <thead>\n",
       "    <tr style=\"text-align: right;\">\n",
       "      <th></th>\n",
       "      <th>player</th>\n",
       "      <th>team</th>\n",
       "      <th>rating</th>\n",
       "    </tr>\n",
       "  </thead>\n",
       "  <tbody>\n",
       "    <tr>\n",
       "      <th>1</th>\n",
       "      <td>Natalie Sciver</td>\n",
       "      <td>ENG</td>\n",
       "      <td>372</td>\n",
       "    </tr>\n",
       "    <tr>\n",
       "      <th>2</th>\n",
       "      <td>Ellyse Perry</td>\n",
       "      <td>AUS</td>\n",
       "      <td>365</td>\n",
       "    </tr>\n",
       "    <tr>\n",
       "      <th>3</th>\n",
       "      <td>Marizanne Kapp</td>\n",
       "      <td>SA</td>\n",
       "      <td>355</td>\n",
       "    </tr>\n",
       "    <tr>\n",
       "      <th>4</th>\n",
       "      <td>Deepti Sharma</td>\n",
       "      <td>IND</td>\n",
       "      <td>299</td>\n",
       "    </tr>\n",
       "    <tr>\n",
       "      <th>5</th>\n",
       "      <td>Stafanie Taylor</td>\n",
       "      <td>WI</td>\n",
       "      <td>281</td>\n",
       "    </tr>\n",
       "    <tr>\n",
       "      <th>6</th>\n",
       "      <td>Hayley Matthews</td>\n",
       "      <td>WI</td>\n",
       "      <td>280</td>\n",
       "    </tr>\n",
       "    <tr>\n",
       "      <th>7</th>\n",
       "      <td>Ashleigh Gardner</td>\n",
       "      <td>AUS</td>\n",
       "      <td>275</td>\n",
       "    </tr>\n",
       "    <tr>\n",
       "      <th>8</th>\n",
       "      <td>Jess Jonassen</td>\n",
       "      <td>AUS</td>\n",
       "      <td>272</td>\n",
       "    </tr>\n",
       "    <tr>\n",
       "      <th>9</th>\n",
       "      <td>Katherine Brunt</td>\n",
       "      <td>ENG</td>\n",
       "      <td>272</td>\n",
       "    </tr>\n",
       "    <tr>\n",
       "      <th>10</th>\n",
       "      <td>Dane van Niekerk</td>\n",
       "      <td>SA</td>\n",
       "      <td>253</td>\n",
       "    </tr>\n",
       "  </tbody>\n",
       "</table>\n",
       "</div>"
      ],
      "text/plain": [
       "              player team rating\n",
       "1     Natalie Sciver  ENG    372\n",
       "2       Ellyse Perry  AUS    365\n",
       "3     Marizanne Kapp   SA    355\n",
       "4      Deepti Sharma  IND    299\n",
       "5    Stafanie Taylor   WI    281\n",
       "6    Hayley Matthews   WI    280\n",
       "7   Ashleigh Gardner  AUS    275\n",
       "8      Jess Jonassen  AUS    272\n",
       "9    Katherine Brunt  ENG    272\n",
       "10  Dane van Niekerk   SA    253"
      ]
     },
     "execution_count": 79,
     "metadata": {},
     "output_type": "execute_result"
    }
   ],
   "source": [
    "import pandas as pd\n",
    "  \n",
    "# assign dataframes\n",
    "data1 = pd.DataFrame({'player':[player1],'team':[team1],'rating':[rating1]},index=[1])\n",
    "data2 = pd.DataFrame({'player':player2,'team':team2,'rating':rating2},index=[2,3,4,5,6,7,8,9,10])\n",
    "df=pd.concat([data1, data2], axis=0)\n",
    "df\n"
   ]
  },
  {
   "cell_type": "markdown",
   "id": "4977e783",
   "metadata": {},
   "source": [
    "# 7)Write a python program to scrape details of all the posts from coreyms.com. Scrape the heading, date, content and the code for the video from the link for the youtube video from the post.\n"
   ]
  },
  {
   "cell_type": "code",
   "execution_count": 1,
   "id": "36dbb101",
   "metadata": {},
   "outputs": [
    {
     "data": {
      "text/plain": [
       "<Response [200]>"
      ]
     },
     "execution_count": 1,
     "metadata": {},
     "output_type": "execute_result"
    }
   ],
   "source": [
    "from bs4 import BeautifulSoup\n",
    "import requests\n",
    "\n",
    "page1=requests.get(\"https://coreyms.com/\")\n",
    "page1"
   ]
  },
  {
   "cell_type": "code",
   "execution_count": null,
   "id": "15b61d91",
   "metadata": {},
   "outputs": [],
   "source": [
    "soup=BeautifulSoup(page1.content)\n",
    "soup"
   ]
  },
  {
   "cell_type": "code",
   "execution_count": 3,
   "id": "e096f3c0",
   "metadata": {},
   "outputs": [],
   "source": [
    "title=[]\n",
    "for i in soup.find_all(\"h2\",class_=\"entry-title\"):\n",
    "    title.append(i.text)\n"
   ]
  },
  {
   "cell_type": "code",
   "execution_count": 4,
   "id": "f1c3d0e5",
   "metadata": {},
   "outputs": [],
   "source": [
    "date=[]\n",
    "for i in soup.find_all(\"time\",class_=\"entry-time\"):\n",
    "    date.append(i.text)\n"
   ]
  },
  {
   "cell_type": "code",
   "execution_count": 5,
   "id": "e577dd94",
   "metadata": {},
   "outputs": [],
   "source": [
    "content=[]\n",
    "for i in soup.find_all(\"div\",class_=\"entry-content\"):\n",
    "    content.append(i.text.strip())\n"
   ]
  },
  {
   "cell_type": "code",
   "execution_count": 13,
   "id": "9a11122e",
   "metadata": {},
   "outputs": [
    {
     "data": {
      "text/plain": [
       "9"
      ]
     },
     "execution_count": 13,
     "metadata": {},
     "output_type": "execute_result"
    }
   ],
   "source": [
    "link = []\n",
    "for i in soup.find_all('iframe', class_=\"youtube-player\"):\n",
    "    link.append(i['src'])\n",
    "\n",
    "len(link)"
   ]
  },
  {
   "cell_type": "code",
   "execution_count": 14,
   "id": "f0ea6884",
   "metadata": {},
   "outputs": [
    {
     "data": {
      "text/plain": [
       "10"
      ]
     },
     "execution_count": 14,
     "metadata": {},
     "output_type": "execute_result"
    }
   ],
   "source": [
    "link.insert(4,'no link provided')\n",
    "len(link)"
   ]
  },
  {
   "cell_type": "code",
   "execution_count": 15,
   "id": "61932aab",
   "metadata": {},
   "outputs": [
    {
     "name": "stdout",
     "output_type": "stream",
     "text": [
      "10 10 10 10\n"
     ]
    }
   ],
   "source": [
    "print(len(title),len(date),len(content),len(link))"
   ]
  },
  {
   "cell_type": "code",
   "execution_count": 16,
   "id": "2d9e5301",
   "metadata": {},
   "outputs": [
    {
     "data": {
      "text/html": [
       "<div>\n",
       "<style scoped>\n",
       "    .dataframe tbody tr th:only-of-type {\n",
       "        vertical-align: middle;\n",
       "    }\n",
       "\n",
       "    .dataframe tbody tr th {\n",
       "        vertical-align: top;\n",
       "    }\n",
       "\n",
       "    .dataframe thead th {\n",
       "        text-align: right;\n",
       "    }\n",
       "</style>\n",
       "<table border=\"1\" class=\"dataframe\">\n",
       "  <thead>\n",
       "    <tr style=\"text-align: right;\">\n",
       "      <th></th>\n",
       "      <th>Heading</th>\n",
       "      <th>Date</th>\n",
       "      <th>content</th>\n",
       "      <th>link</th>\n",
       "    </tr>\n",
       "  </thead>\n",
       "  <tbody>\n",
       "    <tr>\n",
       "      <th>0</th>\n",
       "      <td>Python Tutorial: Zip Files – Creating and Extr...</td>\n",
       "      <td>November 19, 2019</td>\n",
       "      <td>In this video, we will be learning how to crea...</td>\n",
       "      <td>https://www.youtube.com/embed/z0gguhEmWiY?vers...</td>\n",
       "    </tr>\n",
       "    <tr>\n",
       "      <th>1</th>\n",
       "      <td>Python Data Science Tutorial: Analyzing the 20...</td>\n",
       "      <td>October 17, 2019</td>\n",
       "      <td>In this Python Programming video, we will be l...</td>\n",
       "      <td>https://www.youtube.com/embed/_P7X8tMplsw?vers...</td>\n",
       "    </tr>\n",
       "    <tr>\n",
       "      <th>2</th>\n",
       "      <td>Python Multiprocessing Tutorial: Run Code in P...</td>\n",
       "      <td>September 21, 2019</td>\n",
       "      <td>In this Python Programming video, we will be l...</td>\n",
       "      <td>https://www.youtube.com/embed/fKl2JW_qrso?vers...</td>\n",
       "    </tr>\n",
       "    <tr>\n",
       "      <th>3</th>\n",
       "      <td>Python Threading Tutorial: Run Code Concurrent...</td>\n",
       "      <td>September 12, 2019</td>\n",
       "      <td>In this Python Programming video, we will be l...</td>\n",
       "      <td>https://www.youtube.com/embed/IEEhzQoKtQU?vers...</td>\n",
       "    </tr>\n",
       "    <tr>\n",
       "      <th>4</th>\n",
       "      <td>Update (2019-09-03)</td>\n",
       "      <td>September 3, 2019</td>\n",
       "      <td>Hey everyone. I wanted to give you an update o...</td>\n",
       "      <td>no link provided</td>\n",
       "    </tr>\n",
       "    <tr>\n",
       "      <th>5</th>\n",
       "      <td>Python Quick Tip: The Difference Between “==” ...</td>\n",
       "      <td>August 6, 2019</td>\n",
       "      <td>In this Python Programming Tutorial, we will b...</td>\n",
       "      <td>https://www.youtube.com/embed/mO_dS3rXDIs?vers...</td>\n",
       "    </tr>\n",
       "    <tr>\n",
       "      <th>6</th>\n",
       "      <td>Python Tutorial: Calling External Commands Usi...</td>\n",
       "      <td>July 24, 2019</td>\n",
       "      <td>In this Python Programming Tutorial, we will b...</td>\n",
       "      <td>https://www.youtube.com/embed/2Fp1N6dof0Y?vers...</td>\n",
       "    </tr>\n",
       "    <tr>\n",
       "      <th>7</th>\n",
       "      <td>Visual Studio Code (Windows) – Setting up a Py...</td>\n",
       "      <td>May 1, 2019</td>\n",
       "      <td>In this Python Programming Tutorial, we will b...</td>\n",
       "      <td>https://www.youtube.com/embed/-nh9rCzPJ20?vers...</td>\n",
       "    </tr>\n",
       "    <tr>\n",
       "      <th>8</th>\n",
       "      <td>Visual Studio Code (Mac) – Setting up a Python...</td>\n",
       "      <td>May 1, 2019</td>\n",
       "      <td>In this Python Programming Tutorial, we will b...</td>\n",
       "      <td>https://www.youtube.com/embed/06I63_p-2A4?vers...</td>\n",
       "    </tr>\n",
       "    <tr>\n",
       "      <th>9</th>\n",
       "      <td>Clarifying the Issues with Mutable Default Arg...</td>\n",
       "      <td>April 24, 2019</td>\n",
       "      <td>In this Python Programming Tutorial, we will b...</td>\n",
       "      <td>https://www.youtube.com/embed/_JGmemuINww?vers...</td>\n",
       "    </tr>\n",
       "  </tbody>\n",
       "</table>\n",
       "</div>"
      ],
      "text/plain": [
       "                                             Heading                Date  \\\n",
       "0  Python Tutorial: Zip Files – Creating and Extr...   November 19, 2019   \n",
       "1  Python Data Science Tutorial: Analyzing the 20...    October 17, 2019   \n",
       "2  Python Multiprocessing Tutorial: Run Code in P...  September 21, 2019   \n",
       "3  Python Threading Tutorial: Run Code Concurrent...  September 12, 2019   \n",
       "4                                Update (2019-09-03)   September 3, 2019   \n",
       "5  Python Quick Tip: The Difference Between “==” ...      August 6, 2019   \n",
       "6  Python Tutorial: Calling External Commands Usi...       July 24, 2019   \n",
       "7  Visual Studio Code (Windows) – Setting up a Py...         May 1, 2019   \n",
       "8  Visual Studio Code (Mac) – Setting up a Python...         May 1, 2019   \n",
       "9  Clarifying the Issues with Mutable Default Arg...      April 24, 2019   \n",
       "\n",
       "                                             content  \\\n",
       "0  In this video, we will be learning how to crea...   \n",
       "1  In this Python Programming video, we will be l...   \n",
       "2  In this Python Programming video, we will be l...   \n",
       "3  In this Python Programming video, we will be l...   \n",
       "4  Hey everyone. I wanted to give you an update o...   \n",
       "5  In this Python Programming Tutorial, we will b...   \n",
       "6  In this Python Programming Tutorial, we will b...   \n",
       "7  In this Python Programming Tutorial, we will b...   \n",
       "8  In this Python Programming Tutorial, we will b...   \n",
       "9  In this Python Programming Tutorial, we will b...   \n",
       "\n",
       "                                                link  \n",
       "0  https://www.youtube.com/embed/z0gguhEmWiY?vers...  \n",
       "1  https://www.youtube.com/embed/_P7X8tMplsw?vers...  \n",
       "2  https://www.youtube.com/embed/fKl2JW_qrso?vers...  \n",
       "3  https://www.youtube.com/embed/IEEhzQoKtQU?vers...  \n",
       "4                                   no link provided  \n",
       "5  https://www.youtube.com/embed/mO_dS3rXDIs?vers...  \n",
       "6  https://www.youtube.com/embed/2Fp1N6dof0Y?vers...  \n",
       "7  https://www.youtube.com/embed/-nh9rCzPJ20?vers...  \n",
       "8  https://www.youtube.com/embed/06I63_p-2A4?vers...  \n",
       "9  https://www.youtube.com/embed/_JGmemuINww?vers...  "
      ]
     },
     "execution_count": 16,
     "metadata": {},
     "output_type": "execute_result"
    }
   ],
   "source": [
    "import pandas as pd\n",
    "df=pd.DataFrame({'Heading':title,\n",
    "                  'Date':date,\n",
    "                   'content':content,\n",
    "                    'link':link})\n",
    "df"
   ]
  },
  {
   "cell_type": "markdown",
   "id": "10e5fbaa",
   "metadata": {},
   "source": [
    "# 8)Write a python program to scrape house details from mentioned URL. It should include house title, location,area, EMI and price from https://www.nobroker.in/ .Enter three localities which are Indira Nagar, Jayanagar,Rajaji Nagar.\n"
   ]
  },
  {
   "cell_type": "code",
   "execution_count": 80,
   "id": "8bbec38b",
   "metadata": {},
   "outputs": [
    {
     "data": {
      "text/plain": [
       "<Response [200]>"
      ]
     },
     "execution_count": 80,
     "metadata": {},
     "output_type": "execute_result"
    }
   ],
   "source": [
    "from bs4 import BeautifulSoup\n",
    "import requests\n",
    "\n",
    "page1=requests.get(\"https://www.nobroker.in/property/sale/bangalore/multiple?searchParam=W3sibGF0IjoxMi45NzgzNjkyLCJsb24iOjc3LjY0MDgzNTYsInBsYWNlSWQiOiJDaElKa1FOM0dLUVdyanNSTmhCUUpyaEdEN1UiLCJwbGFjZU5hbWUiOiJJbmRpcmFuYWdhciJ9LHsibGF0IjoxMi45OTgxNzMyLCJsb24iOjc3LjU1MzA0NDU5OTk5OTk5LCJwbGFjZUlkIjoiQ2hJSnhmVzREUE05cmpzUktzTlRHLTVwX1FRIiwicGxhY2VOYW1lIjoiUmFqYWppbmFnYXIifSx7ImxhdCI6MTIuOTMwNzczNSwibG9uIjo3Ny41ODM4MzAyLCJwbGFjZUlkIjoiQ2hJSjJkZGxaNWdWcmpzUmgxQk9BYWYtb3JzIiwicGxhY2VOYW1lIjoiSmF5YW5hZ2FyIn1d&radius=2.0&city=bangalore&locality=Indiranagar,&locality=Rajajinagar,&locality=Jayanagar\")\n",
    "page1"
   ]
  },
  {
   "cell_type": "code",
   "execution_count": null,
   "id": "485c8e32",
   "metadata": {},
   "outputs": [],
   "source": [
    "soup=BeautifulSoup(page1.content)\n",
    "soup"
   ]
  },
  {
   "cell_type": "code",
   "execution_count": 82,
   "id": "be7b3090",
   "metadata": {},
   "outputs": [],
   "source": [
    "housetitle=[]\n",
    "for i in soup.find_all(\"span\",class_=\"overflow-hidden overflow-ellipsis whitespace-nowrap max-w-80pe po:max-w-full\"):\n",
    "    housetitle.append(i.text)"
   ]
  },
  {
   "cell_type": "code",
   "execution_count": 83,
   "id": "4033c70c",
   "metadata": {},
   "outputs": [],
   "source": [
    "area=[]\n",
    "for i in soup.find_all(\"div\",class_=\"mt-0.5p overflow-hidden overflow-ellipsis whitespace-nowrap max-w-70 text-gray-light leading-4 po:mb-0 po:max-w-95\"):\n",
    "    \n",
    "    area.append(i.text)\n"
   ]
  },
  {
   "cell_type": "code",
   "execution_count": 84,
   "id": "a8daed1f",
   "metadata": {},
   "outputs": [],
   "source": [
    "loc=[]\n",
    "for i in soup.find_all(\"span\",class_=\"overflow-hidden overflow-ellipsis whitespace-nowrap max-w-80pe po:max-w-full\"):\n",
    "    loc.append(i.text.split(\"Sale\").pop(1))\n"
   ]
  },
  {
   "cell_type": "code",
   "execution_count": 85,
   "id": "5ee8b187",
   "metadata": {},
   "outputs": [],
   "source": [
    "Emi=[]\n",
    "for i in soup.find_all(\"div\",class_=\"font-semi-bold heading-6\"):\n",
    "    Emi.append(i.text.replace('₹','Rs.').split(\",\"))\n",
    "Emi=Emi[1:100:3]\n"
   ]
  },
  {
   "cell_type": "code",
   "execution_count": 86,
   "id": "c9d826cd",
   "metadata": {},
   "outputs": [],
   "source": [
    "price=[]\n",
    "for i in soup.find_all(\"div\",class_=\"font-semi-bold heading-6\"):\n",
    "    price.append(i.text.replace('₹','Rs.').split(\",\"))\n",
    "price=price[2:100:3]\n"
   ]
  },
  {
   "cell_type": "code",
   "execution_count": 87,
   "id": "061613a4",
   "metadata": {},
   "outputs": [
    {
     "name": "stdout",
     "output_type": "stream",
     "text": [
      "25 25 25 25 25\n"
     ]
    }
   ],
   "source": [
    "print(len(housetitle),len(loc),len(area),len(Emi),len(price))"
   ]
  },
  {
   "cell_type": "code",
   "execution_count": 88,
   "id": "b8846052",
   "metadata": {},
   "outputs": [
    {
     "data": {
      "text/html": [
       "<div>\n",
       "<style scoped>\n",
       "    .dataframe tbody tr th:only-of-type {\n",
       "        vertical-align: middle;\n",
       "    }\n",
       "\n",
       "    .dataframe tbody tr th {\n",
       "        vertical-align: top;\n",
       "    }\n",
       "\n",
       "    .dataframe thead th {\n",
       "        text-align: right;\n",
       "    }\n",
       "</style>\n",
       "<table border=\"1\" class=\"dataframe\">\n",
       "  <thead>\n",
       "    <tr style=\"text-align: right;\">\n",
       "      <th></th>\n",
       "      <th>Housetitle</th>\n",
       "      <th>location</th>\n",
       "      <th>area</th>\n",
       "      <th>EMI</th>\n",
       "      <th>Price</th>\n",
       "    </tr>\n",
       "  </thead>\n",
       "  <tbody>\n",
       "    <tr>\n",
       "      <th>0</th>\n",
       "      <td>3 BHK Apartment  For Sale  In Adarsh Court Apa...</td>\n",
       "      <td>In Adarsh Court Apartment In Jayanagar</td>\n",
       "      <td>Adarsh Court Apartment  Adarsh Court Apartment...</td>\n",
       "      <td>[Rs.2.01 Lacs/Month]</td>\n",
       "      <td>[Rs.3.5 Crores]</td>\n",
       "    </tr>\n",
       "    <tr>\n",
       "      <th>1</th>\n",
       "      <td>4+ BHK In Independent House  For Sale  In Jaya...</td>\n",
       "      <td>In Jayanagar</td>\n",
       "      <td>Independent House, 100ft Road, Ashoka Pillar R...</td>\n",
       "      <td>[Rs.2.96 Lacs/Month]</td>\n",
       "      <td>[Rs.5.16 Crores]</td>\n",
       "    </tr>\n",
       "    <tr>\n",
       "      <th>2</th>\n",
       "      <td>3 BHK Flat  For Sale  In Beverly Apartments In...</td>\n",
       "      <td>In Beverly Apartments In Hal 2nd Stage, Indi...</td>\n",
       "      <td>Road next to Manyavar showroom</td>\n",
       "      <td>[Rs.85, 971/Month]</td>\n",
       "      <td>[Rs.1.5 Crores]</td>\n",
       "    </tr>\n",
       "    <tr>\n",
       "      <th>3</th>\n",
       "      <td>3 BHK Flat  For Sale  In Hal 2nd Stage,indiran...</td>\n",
       "      <td>In Hal 2nd Stage,indiranagar</td>\n",
       "      <td>Standalone building, 16th F main, Hal 2nd stag...</td>\n",
       "      <td>[Rs.2.29 Lacs/Month]</td>\n",
       "      <td>[Rs.4 Crores]</td>\n",
       "    </tr>\n",
       "    <tr>\n",
       "      <th>4</th>\n",
       "      <td>2 BHK Flat  For Sale  In Lakshmi Nivas Apartme...</td>\n",
       "      <td>In Lakshmi Nivas Apartments In Srirampuram</td>\n",
       "      <td>behind Vishnupriya Towers,Mahakavi Kuvempu Roa...</td>\n",
       "      <td>[Rs.56, 741/Month]</td>\n",
       "      <td>[Rs.99 Lacs]</td>\n",
       "    </tr>\n",
       "    <tr>\n",
       "      <th>5</th>\n",
       "      <td>2 BHK In Independent House  For Sale  In Jayan...</td>\n",
       "      <td>In Jayanagar</td>\n",
       "      <td>Independent House, Jayanagara 9th Block, near ...</td>\n",
       "      <td>[Rs.1.15 Lacs/Month]</td>\n",
       "      <td>[Rs.2 Crores]</td>\n",
       "    </tr>\n",
       "    <tr>\n",
       "      <th>6</th>\n",
       "      <td>2 BHK Flat  For Sale  In Aishwaryam Ranga In G...</td>\n",
       "      <td>In Aishwaryam Ranga In Gayatrinagar, Rajaji ...</td>\n",
       "      <td>Near gayatrinagarpostoffice</td>\n",
       "      <td>[Rs.53, 302/Month]</td>\n",
       "      <td>[Rs.93 Lacs]</td>\n",
       "    </tr>\n",
       "    <tr>\n",
       "      <th>7</th>\n",
       "      <td>2 BHK Flat  For Sale  In Aishwaryam Gokula In ...</td>\n",
       "      <td>In Aishwaryam Gokula In Triveni Digital Colo...</td>\n",
       "      <td>1st main govindraja naagar blore 560040</td>\n",
       "      <td>[Rs.45, 851/Month]</td>\n",
       "      <td>[Rs.80 Lacs]</td>\n",
       "    </tr>\n",
       "    <tr>\n",
       "      <th>8</th>\n",
       "      <td>3 BHK Flat  For Sale  In Shanti Park Apartment...</td>\n",
       "      <td>In Shanti Park Apartments In Jayanagara 9th ...</td>\n",
       "      <td>Shanti Park Apartments</td>\n",
       "      <td>[Rs.71, 643/Month]</td>\n",
       "      <td>[Rs.1.25 Crores]</td>\n",
       "    </tr>\n",
       "    <tr>\n",
       "      <th>9</th>\n",
       "      <td>2 BHK Flat  For Sale  In Shree Enclave  In Jay...</td>\n",
       "      <td>In Shree Enclave  In Jayanagar</td>\n",
       "      <td>jayanagar Near Mahalakshmi Temple/Rajalakshmi ...</td>\n",
       "      <td>[Rs.74, 508/Month]</td>\n",
       "      <td>[Rs.1.3 Crores]</td>\n",
       "    </tr>\n",
       "    <tr>\n",
       "      <th>10</th>\n",
       "      <td>4 BHK Flat  For Sale  In Golfridge In Indira N...</td>\n",
       "      <td>In Golfridge In Indira Nagar</td>\n",
       "      <td>embassy golf link road</td>\n",
       "      <td>[Rs.1.63 Lacs/Month]</td>\n",
       "      <td>[Rs.2.85 Crores]</td>\n",
       "    </tr>\n",
       "    <tr>\n",
       "      <th>11</th>\n",
       "      <td>4 BHK In Independent House  For Sale  In Jayan...</td>\n",
       "      <td>In Jayanagar</td>\n",
       "      <td>Independent House, 47th Cross Rd, 8th Block, 1...</td>\n",
       "      <td>[Rs.6.02 Lacs/Month]</td>\n",
       "      <td>[Rs.10.5 Crores]</td>\n",
       "    </tr>\n",
       "    <tr>\n",
       "      <th>12</th>\n",
       "      <td>4+ BHK In Independent House  For Sale  In Raja...</td>\n",
       "      <td>In Rajajinaga</td>\n",
       "      <td>Independent House, 6th Cross Rd, 2nd Block  ne...</td>\n",
       "      <td>[Rs.83, 679/Month]</td>\n",
       "      <td>[Rs.1.46 Crores]</td>\n",
       "    </tr>\n",
       "    <tr>\n",
       "      <th>13</th>\n",
       "      <td>3 BHK Flat  For Sale  In Livintique Residence ...</td>\n",
       "      <td>In Livintique Residence In Indiranagar</td>\n",
       "      <td>100 Feet Rd near Barbeque Nation</td>\n",
       "      <td>[Rs.2.01 Lacs/Month]</td>\n",
       "      <td>[Rs.3.5 Crores]</td>\n",
       "    </tr>\n",
       "    <tr>\n",
       "      <th>14</th>\n",
       "      <td>3 BHK Flat  For Sale  In Total Environment Lif...</td>\n",
       "      <td>In Total Environment Life Is Beautiful, Jaya...</td>\n",
       "      <td>30th Cross Rd, 4th T Block , Jayanagar, Bengal...</td>\n",
       "      <td>[Rs.1.72 Lacs/Month]</td>\n",
       "      <td>[Rs.3 Crores]</td>\n",
       "    </tr>\n",
       "    <tr>\n",
       "      <th>15</th>\n",
       "      <td>4+ BHK Flat  For Sale  In Nagapura</td>\n",
       "      <td>In Nagapura</td>\n",
       "      <td>Standalone Building, Bovipalya near Mahalakshm...</td>\n",
       "      <td>[Rs.68, 777/Month]</td>\n",
       "      <td>[Rs.1.2 Crores]</td>\n",
       "    </tr>\n",
       "    <tr>\n",
       "      <th>16</th>\n",
       "      <td>3 BHK Apartment  For Sale  In Ashiana Gardens ...</td>\n",
       "      <td>In Ashiana Gardens Apartments In Indiranagar</td>\n",
       "      <td>Ashiana Gardens Apartments  4, Sri Rama Temple...</td>\n",
       "      <td>[Rs.84, 825/Month]</td>\n",
       "      <td>[Rs.1.48 Crores]</td>\n",
       "    </tr>\n",
       "    <tr>\n",
       "      <th>17</th>\n",
       "      <td>3 BHK Flat  For Sale  In Mantri Gardens Apartm...</td>\n",
       "      <td>In Mantri Gardens Apartment In Jayanagar</td>\n",
       "      <td>Mantri Gardens Apartment, Jayanagar 1st Block,...</td>\n",
       "      <td>[Rs.85, 971/Month]</td>\n",
       "      <td>[Rs.1.5 Crores]</td>\n",
       "    </tr>\n",
       "    <tr>\n",
       "      <th>18</th>\n",
       "      <td>1 BHK Flat  For Sale  In Rajajinagar In Rajaji...</td>\n",
       "      <td>In Rajajinagar In Rajaji Nagar</td>\n",
       "      <td>27th cross 2nd block rajajinagar,Behind Navran...</td>\n",
       "      <td>[Rs.28, 657/Month]</td>\n",
       "      <td>[Rs.50 Lacs]</td>\n",
       "    </tr>\n",
       "    <tr>\n",
       "      <th>19</th>\n",
       "      <td>4 BHK Flat  For Sale  In Rrbc Piccassso In Jay...</td>\n",
       "      <td>In Rrbc Piccassso In Jayanagar</td>\n",
       "      <td>Municipal No.152, 18th main road, beside Sai B...</td>\n",
       "      <td>[Rs.3.91 Lacs/Month]</td>\n",
       "      <td>[Rs.6.83 Crores]</td>\n",
       "    </tr>\n",
       "    <tr>\n",
       "      <th>20</th>\n",
       "      <td>3 BHK Flat  For Sale  In Rrbc Piccassso In Jay...</td>\n",
       "      <td>In Rrbc Piccassso In Jayanagar</td>\n",
       "      <td>Municipal No.152, 18th main road, beside Sai B...</td>\n",
       "      <td>[Rs.1.69 Lacs/Month]</td>\n",
       "      <td>[Rs.2.94 Crores]</td>\n",
       "    </tr>\n",
       "    <tr>\n",
       "      <th>21</th>\n",
       "      <td>4+ BHK In Independent House  For Sale  In Raja...</td>\n",
       "      <td>In Rajaji Nagar</td>\n",
       "      <td>Independent House, 72 Cross, 12th Main Rd, RPA...</td>\n",
       "      <td>[Rs.1.96 Lacs/Month]</td>\n",
       "      <td>[Rs.3.42 Crores]</td>\n",
       "    </tr>\n",
       "    <tr>\n",
       "      <th>22</th>\n",
       "      <td>3 BHK Flat  For Sale  In Vaishali Residency In...</td>\n",
       "      <td>In Vaishali Residency In Indiranagar</td>\n",
       "      <td>Vaishali Residency, HAL 2nd Stage, Indiranagar...</td>\n",
       "      <td>[Rs.65, 911/Month]</td>\n",
       "      <td>[Rs.1.15 Crores]</td>\n",
       "    </tr>\n",
       "    <tr>\n",
       "      <th>23</th>\n",
       "      <td>4 BHK Flat  For Sale  In Phoenix  One Bangalor...</td>\n",
       "      <td>In Phoenix  One Bangalore West In Rajajinagar</td>\n",
       "      <td>Dr Rajkumar Rd, opposite Sheraton Hotel, Rajaj...</td>\n",
       "      <td>[Rs.2.72 Lacs/Month]</td>\n",
       "      <td>[Rs.4.75 Crores]</td>\n",
       "    </tr>\n",
       "    <tr>\n",
       "      <th>24</th>\n",
       "      <td>2 BHK Flat  For Sale  In Apartment  In  Basave...</td>\n",
       "      <td>In Apartment  In  Basaveshwar Nagar,</td>\n",
       "      <td>1, 6th Cross Rd, Manjunath Nagar, Basaveshwar...</td>\n",
       "      <td>[Rs.31, 522/Month]</td>\n",
       "      <td>[Rs.55 Lacs]</td>\n",
       "    </tr>\n",
       "  </tbody>\n",
       "</table>\n",
       "</div>"
      ],
      "text/plain": [
       "                                           Housetitle  \\\n",
       "0   3 BHK Apartment  For Sale  In Adarsh Court Apa...   \n",
       "1   4+ BHK In Independent House  For Sale  In Jaya...   \n",
       "2   3 BHK Flat  For Sale  In Beverly Apartments In...   \n",
       "3   3 BHK Flat  For Sale  In Hal 2nd Stage,indiran...   \n",
       "4   2 BHK Flat  For Sale  In Lakshmi Nivas Apartme...   \n",
       "5   2 BHK In Independent House  For Sale  In Jayan...   \n",
       "6   2 BHK Flat  For Sale  In Aishwaryam Ranga In G...   \n",
       "7   2 BHK Flat  For Sale  In Aishwaryam Gokula In ...   \n",
       "8   3 BHK Flat  For Sale  In Shanti Park Apartment...   \n",
       "9   2 BHK Flat  For Sale  In Shree Enclave  In Jay...   \n",
       "10  4 BHK Flat  For Sale  In Golfridge In Indira N...   \n",
       "11  4 BHK In Independent House  For Sale  In Jayan...   \n",
       "12  4+ BHK In Independent House  For Sale  In Raja...   \n",
       "13  3 BHK Flat  For Sale  In Livintique Residence ...   \n",
       "14  3 BHK Flat  For Sale  In Total Environment Lif...   \n",
       "15                 4+ BHK Flat  For Sale  In Nagapura   \n",
       "16  3 BHK Apartment  For Sale  In Ashiana Gardens ...   \n",
       "17  3 BHK Flat  For Sale  In Mantri Gardens Apartm...   \n",
       "18  1 BHK Flat  For Sale  In Rajajinagar In Rajaji...   \n",
       "19  4 BHK Flat  For Sale  In Rrbc Piccassso In Jay...   \n",
       "20  3 BHK Flat  For Sale  In Rrbc Piccassso In Jay...   \n",
       "21  4+ BHK In Independent House  For Sale  In Raja...   \n",
       "22  3 BHK Flat  For Sale  In Vaishali Residency In...   \n",
       "23  4 BHK Flat  For Sale  In Phoenix  One Bangalor...   \n",
       "24  2 BHK Flat  For Sale  In Apartment  In  Basave...   \n",
       "\n",
       "                                             location  \\\n",
       "0              In Adarsh Court Apartment In Jayanagar   \n",
       "1                                        In Jayanagar   \n",
       "2     In Beverly Apartments In Hal 2nd Stage, Indi...   \n",
       "3                      In Hal 2nd Stage,indiranagar     \n",
       "4         In Lakshmi Nivas Apartments In Srirampuram    \n",
       "5                                        In Jayanagar   \n",
       "6     In Aishwaryam Ranga In Gayatrinagar, Rajaji ...   \n",
       "7     In Aishwaryam Gokula In Triveni Digital Colo...   \n",
       "8     In Shanti Park Apartments In Jayanagara 9th ...   \n",
       "9                      In Shree Enclave  In Jayanagar   \n",
       "10                       In Golfridge In Indira Nagar   \n",
       "11                                       In Jayanagar   \n",
       "12                                     In Rajajinaga    \n",
       "13             In Livintique Residence In Indiranagar   \n",
       "14    In Total Environment Life Is Beautiful, Jaya...   \n",
       "15                                        In Nagapura   \n",
       "16       In Ashiana Gardens Apartments In Indiranagar   \n",
       "17           In Mantri Gardens Apartment In Jayanagar   \n",
       "18                     In Rajajinagar In Rajaji Nagar   \n",
       "19                     In Rrbc Piccassso In Jayanagar   \n",
       "20                     In Rrbc Piccassso In Jayanagar   \n",
       "21                                    In Rajaji Nagar   \n",
       "22               In Vaishali Residency In Indiranagar   \n",
       "23      In Phoenix  One Bangalore West In Rajajinagar   \n",
       "24               In Apartment  In  Basaveshwar Nagar,   \n",
       "\n",
       "                                                 area                   EMI  \\\n",
       "0   Adarsh Court Apartment  Adarsh Court Apartment...  [Rs.2.01 Lacs/Month]   \n",
       "1   Independent House, 100ft Road, Ashoka Pillar R...  [Rs.2.96 Lacs/Month]   \n",
       "2                      Road next to Manyavar showroom    [Rs.85, 971/Month]   \n",
       "3   Standalone building, 16th F main, Hal 2nd stag...  [Rs.2.29 Lacs/Month]   \n",
       "4   behind Vishnupriya Towers,Mahakavi Kuvempu Roa...    [Rs.56, 741/Month]   \n",
       "5   Independent House, Jayanagara 9th Block, near ...  [Rs.1.15 Lacs/Month]   \n",
       "6                         Near gayatrinagarpostoffice    [Rs.53, 302/Month]   \n",
       "7             1st main govindraja naagar blore 560040    [Rs.45, 851/Month]   \n",
       "8                              Shanti Park Apartments    [Rs.71, 643/Month]   \n",
       "9   jayanagar Near Mahalakshmi Temple/Rajalakshmi ...    [Rs.74, 508/Month]   \n",
       "10                             embassy golf link road  [Rs.1.63 Lacs/Month]   \n",
       "11  Independent House, 47th Cross Rd, 8th Block, 1...  [Rs.6.02 Lacs/Month]   \n",
       "12  Independent House, 6th Cross Rd, 2nd Block  ne...    [Rs.83, 679/Month]   \n",
       "13                   100 Feet Rd near Barbeque Nation  [Rs.2.01 Lacs/Month]   \n",
       "14  30th Cross Rd, 4th T Block , Jayanagar, Bengal...  [Rs.1.72 Lacs/Month]   \n",
       "15  Standalone Building, Bovipalya near Mahalakshm...    [Rs.68, 777/Month]   \n",
       "16  Ashiana Gardens Apartments  4, Sri Rama Temple...    [Rs.84, 825/Month]   \n",
       "17  Mantri Gardens Apartment, Jayanagar 1st Block,...    [Rs.85, 971/Month]   \n",
       "18  27th cross 2nd block rajajinagar,Behind Navran...    [Rs.28, 657/Month]   \n",
       "19  Municipal No.152, 18th main road, beside Sai B...  [Rs.3.91 Lacs/Month]   \n",
       "20  Municipal No.152, 18th main road, beside Sai B...  [Rs.1.69 Lacs/Month]   \n",
       "21  Independent House, 72 Cross, 12th Main Rd, RPA...  [Rs.1.96 Lacs/Month]   \n",
       "22  Vaishali Residency, HAL 2nd Stage, Indiranagar...    [Rs.65, 911/Month]   \n",
       "23  Dr Rajkumar Rd, opposite Sheraton Hotel, Rajaj...  [Rs.2.72 Lacs/Month]   \n",
       "24   1, 6th Cross Rd, Manjunath Nagar, Basaveshwar...    [Rs.31, 522/Month]   \n",
       "\n",
       "               Price  \n",
       "0    [Rs.3.5 Crores]  \n",
       "1   [Rs.5.16 Crores]  \n",
       "2    [Rs.1.5 Crores]  \n",
       "3      [Rs.4 Crores]  \n",
       "4       [Rs.99 Lacs]  \n",
       "5      [Rs.2 Crores]  \n",
       "6       [Rs.93 Lacs]  \n",
       "7       [Rs.80 Lacs]  \n",
       "8   [Rs.1.25 Crores]  \n",
       "9    [Rs.1.3 Crores]  \n",
       "10  [Rs.2.85 Crores]  \n",
       "11  [Rs.10.5 Crores]  \n",
       "12  [Rs.1.46 Crores]  \n",
       "13   [Rs.3.5 Crores]  \n",
       "14     [Rs.3 Crores]  \n",
       "15   [Rs.1.2 Crores]  \n",
       "16  [Rs.1.48 Crores]  \n",
       "17   [Rs.1.5 Crores]  \n",
       "18      [Rs.50 Lacs]  \n",
       "19  [Rs.6.83 Crores]  \n",
       "20  [Rs.2.94 Crores]  \n",
       "21  [Rs.3.42 Crores]  \n",
       "22  [Rs.1.15 Crores]  \n",
       "23  [Rs.4.75 Crores]  \n",
       "24      [Rs.55 Lacs]  "
      ]
     },
     "execution_count": 88,
     "metadata": {},
     "output_type": "execute_result"
    }
   ],
   "source": [
    "import pandas as pd\n",
    "df=pd.DataFrame({'Housetitle':housetitle,\n",
    "                  'location':loc,\n",
    "                   'area':area,\n",
    "                    'EMI':Emi,\n",
    "                   'Price':price})\n",
    "df"
   ]
  },
  {
   "cell_type": "markdown",
   "id": "1977a130",
   "metadata": {},
   "source": [
    "# 9)Write a python program to scrape mentioned details from dineout.co.in :\n",
    "#i) Restaurant name\n",
    "#ii) Cuisine\n",
    "#iii) Location\n",
    "#iv) Ratings\n",
    "#v) Image URL "
   ]
  },
  {
   "cell_type": "code",
   "execution_count": 89,
   "id": "4ab438f8",
   "metadata": {},
   "outputs": [],
   "source": [
    "from bs4 import BeautifulSoup\n",
    "import requests"
   ]
  },
  {
   "cell_type": "code",
   "execution_count": 90,
   "id": "5619e053",
   "metadata": {},
   "outputs": [
    {
     "data": {
      "text/plain": [
       "<Response [200]>"
      ]
     },
     "execution_count": 90,
     "metadata": {},
     "output_type": "execute_result"
    }
   ],
   "source": [
    "page=requests.get('https://www.dineout.co.in/delhi-restaurants/buffet-special')\n",
    "page"
   ]
  },
  {
   "cell_type": "code",
   "execution_count": null,
   "id": "b5e802ac",
   "metadata": {},
   "outputs": [],
   "source": [
    "soup=BeautifulSoup(page.content)\n",
    "soup"
   ]
  },
  {
   "cell_type": "code",
   "execution_count": 92,
   "id": "38b49be4",
   "metadata": {},
   "outputs": [
    {
     "data": {
      "text/plain": [
       "['Castle BarbequeConnaught Place, Central Delhi',\n",
       " 'Jungle Jamboree3CS Mall,Lajpat Nagar - 3, South Delhi',\n",
       " 'Castle BarbequePacific Mall,Tagore Garden, West Delhi',\n",
       " 'Cafe KnoshThe Leela Ambience Convention Hotel,Shahdara, East Delhi',\n",
       " 'The Barbeque CompanyGardens Galleria,Sector 38A, Noida',\n",
       " 'India GrillHilton Garden Inn,Saket, South Delhi',\n",
       " 'Delhi BarbequeTaurus Sarovar Portico,Mahipalpur, South Delhi',\n",
       " 'The Monarch - Bar Be Que VillageIndirapuram Habitat Centre,Indirapuram, Ghaziabad',\n",
       " 'World CafeVibe by The Lalit Traveller,Sector 35, Faridabad',\n",
       " 'Indian Grill RoomSuncity Business Tower,Golf Course Road, Gurgaon',\n",
       " 'Mad 4 Bar B QueSector 29, Faridabad',\n",
       " 'Barbeque 29NIT, Faridabad',\n",
       " 'GlasshouseDoubleTree By Hilton Gurugram Baani Square,Sector 50, Gurgaon']"
      ]
     },
     "execution_count": 92,
     "metadata": {},
     "output_type": "execute_result"
    }
   ],
   "source": [
    "#i) Restaurant name:\n",
    "Restaurant_name=[]\n",
    "for i in soup.find_all('div',class_=\"restnt-info cursor\"):\n",
    "    Restaurant_name.append(i.text)\n",
    "Restaurant_name"
   ]
  },
  {
   "cell_type": "code",
   "execution_count": 93,
   "id": "a5dba1b7",
   "metadata": {},
   "outputs": [
    {
     "data": {
      "text/plain": [
       "[' North Indian, Chinese',\n",
       " ' Barbecue, North Indian, Asian, Italian',\n",
       " ' Chinese, North Indian, Mughlai',\n",
       " ' Multi-Cuisine, North Indian, Italian, Continental, Mediterranean',\n",
       " ' North Indian, Barbecue, Chinese, Mughlai',\n",
       " ' North Indian, Italian, Oriental ',\n",
       " ' Barbecue, North Indian',\n",
       " ' North Indian, Chinese, Fast Food',\n",
       " ' North Indian, Chinese, Continental',\n",
       " ' North Indian, Barbecue, Mughlai',\n",
       " ' North Indian, Mughlai',\n",
       " ' North Indian, Chinese, Barbecue',\n",
       " ' European, Indian Cuisine, Italian, Asian, Continental']"
      ]
     },
     "execution_count": 93,
     "metadata": {},
     "output_type": "execute_result"
    }
   ],
   "source": [
    "#ii) Cuisine\"\n",
    "cusine=[]\n",
    "for i in soup.find_all('span',class_=\"double-line-ellipsis\"):\n",
    "    cusine.append(i.text.split(\"|\").pop(1))\n",
    "cusine"
   ]
  },
  {
   "cell_type": "code",
   "execution_count": 94,
   "id": "083a6e73",
   "metadata": {},
   "outputs": [
    {
     "data": {
      "text/plain": [
       "['Connaught Place, Central Delhi',\n",
       " '3CS Mall,Lajpat Nagar - 3, South Delhi',\n",
       " 'Pacific Mall,Tagore Garden, West Delhi',\n",
       " 'The Leela Ambience Convention Hotel,Shahdara, East Delhi',\n",
       " 'Gardens Galleria,Sector 38A, Noida',\n",
       " 'Hilton Garden Inn,Saket, South Delhi',\n",
       " 'Taurus Sarovar Portico,Mahipalpur, South Delhi',\n",
       " 'Indirapuram Habitat Centre,Indirapuram, Ghaziabad',\n",
       " 'Vibe by The Lalit Traveller,Sector 35, Faridabad',\n",
       " 'Suncity Business Tower,Golf Course Road, Gurgaon',\n",
       " 'Sector 29, Faridabad',\n",
       " 'NIT, Faridabad',\n",
       " 'DoubleTree By Hilton Gurugram Baani Square,Sector 50, Gurgaon']"
      ]
     },
     "execution_count": 94,
     "metadata": {},
     "output_type": "execute_result"
    }
   ],
   "source": [
    "#iii) Location:\n",
    "location=[]\n",
    "for i in soup.find_all(\"div\",class_=\"restnt-loc ellipsis\"):\n",
    "    location.append(i.text)\n",
    "location"
   ]
  },
  {
   "cell_type": "code",
   "execution_count": 95,
   "id": "e09d8737",
   "metadata": {},
   "outputs": [
    {
     "data": {
      "text/plain": [
       "['3.5',\n",
       " '3.9',\n",
       " '3.9',\n",
       " '4.3',\n",
       " '4',\n",
       " '3.9',\n",
       " '3.7',\n",
       " '3.9',\n",
       " '4.2',\n",
       " '4.3',\n",
       " '3.8',\n",
       " '4.3',\n",
       " '4.1']"
      ]
     },
     "execution_count": 95,
     "metadata": {},
     "output_type": "execute_result"
    }
   ],
   "source": [
    "#iv) Ratings:\n",
    "ratings=[]\n",
    "for i in soup.find_all(\"div\",class_=\"restnt-rating rating-4\"):\n",
    "    ratings.append(i.text)\n",
    "ratings"
   ]
  },
  {
   "cell_type": "code",
   "execution_count": 96,
   "id": "60f0f07f",
   "metadata": {},
   "outputs": [
    {
     "data": {
      "text/plain": [
       "['https://im1.dineout.co.in/images/uploads/restaurant/sharpen/8/k/b/p86792-16062953735fbe1f4d3fb7e.jpg?tr=tr:n-medium',\n",
       " 'https://im1.dineout.co.in/images/uploads/restaurant/sharpen/5/a/k/p59633-16046474755fa4fa33c0e92.jpg?tr=tr:n-medium',\n",
       " 'https://im1.dineout.co.in/images/uploads/restaurant/sharpen/3/j/o/p38113-15959192065f1fcb666130c.jpg?tr=tr:n-medium',\n",
       " 'https://im1.dineout.co.in/images/uploads/restaurant/sharpen/4/j/v/p406-163401663361651d79326d0.jpg?tr=tr:n-medium',\n",
       " 'https://im1.dineout.co.in/images/uploads/restaurant/sharpen/7/q/d/p79307-16051787075fad15532bd7c.jpg?tr=tr:n-medium',\n",
       " 'https://im1.dineout.co.in/images/uploads/restaurant/sharpen/2/v/t/p2687-1482477169585cce712b90f.jpg?tr=tr:n-medium',\n",
       " 'https://im1.dineout.co.in/images/uploads/restaurant/sharpen/5/v/f/p52501-16006856545f68865616659.jpg?tr=tr:n-medium',\n",
       " 'https://im1.dineout.co.in/images/uploads/restaurant/sharpen/3/n/o/p34822-15599107305cfa594a13c24.jpg?tr=tr:n-medium',\n",
       " 'https://im1.dineout.co.in/images/uploads/restaurant/sharpen/1/p/y/p12366-1466935020576fa6ecdc359.jpg?tr=tr:n-medium',\n",
       " 'https://im1.dineout.co.in/images/uploads/restaurant/sharpen/5/y/y/p549-15143767525a438e30b3e19.jpg?tr=tr:n-medium',\n",
       " 'https://im1.dineout.co.in/images/uploads/restaurant/sharpen/4/j/e/p43488-15295778165b2b8158ceeef.jpg?tr=tr:n-medium',\n",
       " 'https://im1.dineout.co.in/images/uploads/restaurant/sharpen/5/w/r/p58842-15624171585d209806d9143.jpg?tr=tr:n-medium',\n",
       " 'https://im1.dineout.co.in/images/uploads/restaurant/sharpen/9/m/f/p9875-16057921085fb6716cc44f8.jpg?tr=tr:n-medium']"
      ]
     },
     "execution_count": 96,
     "metadata": {},
     "output_type": "execute_result"
    }
   ],
   "source": [
    "#v) Image URL :\n",
    "image_url=[]\n",
    "for i in soup.find_all('img',class_=\"no-img\"):\n",
    "    image_url.append(i['data-src'])\n",
    "image_url"
   ]
  },
  {
   "cell_type": "code",
   "execution_count": 97,
   "id": "9ee6793e",
   "metadata": {},
   "outputs": [
    {
     "data": {
      "text/html": [
       "<div>\n",
       "<style scoped>\n",
       "    .dataframe tbody tr th:only-of-type {\n",
       "        vertical-align: middle;\n",
       "    }\n",
       "\n",
       "    .dataframe tbody tr th {\n",
       "        vertical-align: top;\n",
       "    }\n",
       "\n",
       "    .dataframe thead th {\n",
       "        text-align: right;\n",
       "    }\n",
       "</style>\n",
       "<table border=\"1\" class=\"dataframe\">\n",
       "  <thead>\n",
       "    <tr style=\"text-align: right;\">\n",
       "      <th></th>\n",
       "      <th>Restaurant_name</th>\n",
       "      <th>cusine</th>\n",
       "      <th>location</th>\n",
       "      <th>ratings</th>\n",
       "      <th>image_url</th>\n",
       "    </tr>\n",
       "  </thead>\n",
       "  <tbody>\n",
       "    <tr>\n",
       "      <th>0</th>\n",
       "      <td>Castle BarbequeConnaught Place, Central Delhi</td>\n",
       "      <td>North Indian, Chinese</td>\n",
       "      <td>Connaught Place, Central Delhi</td>\n",
       "      <td>3.5</td>\n",
       "      <td>https://im1.dineout.co.in/images/uploads/resta...</td>\n",
       "    </tr>\n",
       "    <tr>\n",
       "      <th>1</th>\n",
       "      <td>Jungle Jamboree3CS Mall,Lajpat Nagar - 3, Sout...</td>\n",
       "      <td>Barbecue, North Indian, Asian, Italian</td>\n",
       "      <td>3CS Mall,Lajpat Nagar - 3, South Delhi</td>\n",
       "      <td>3.9</td>\n",
       "      <td>https://im1.dineout.co.in/images/uploads/resta...</td>\n",
       "    </tr>\n",
       "    <tr>\n",
       "      <th>2</th>\n",
       "      <td>Castle BarbequePacific Mall,Tagore Garden, Wes...</td>\n",
       "      <td>Chinese, North Indian, Mughlai</td>\n",
       "      <td>Pacific Mall,Tagore Garden, West Delhi</td>\n",
       "      <td>3.9</td>\n",
       "      <td>https://im1.dineout.co.in/images/uploads/resta...</td>\n",
       "    </tr>\n",
       "    <tr>\n",
       "      <th>3</th>\n",
       "      <td>Cafe KnoshThe Leela Ambience Convention Hotel,...</td>\n",
       "      <td>Multi-Cuisine, North Indian, Italian, Contine...</td>\n",
       "      <td>The Leela Ambience Convention Hotel,Shahdara, ...</td>\n",
       "      <td>4.3</td>\n",
       "      <td>https://im1.dineout.co.in/images/uploads/resta...</td>\n",
       "    </tr>\n",
       "    <tr>\n",
       "      <th>4</th>\n",
       "      <td>The Barbeque CompanyGardens Galleria,Sector 38...</td>\n",
       "      <td>North Indian, Barbecue, Chinese, Mughlai</td>\n",
       "      <td>Gardens Galleria,Sector 38A, Noida</td>\n",
       "      <td>4</td>\n",
       "      <td>https://im1.dineout.co.in/images/uploads/resta...</td>\n",
       "    </tr>\n",
       "    <tr>\n",
       "      <th>5</th>\n",
       "      <td>India GrillHilton Garden Inn,Saket, South Delhi</td>\n",
       "      <td>North Indian, Italian, Oriental</td>\n",
       "      <td>Hilton Garden Inn,Saket, South Delhi</td>\n",
       "      <td>3.9</td>\n",
       "      <td>https://im1.dineout.co.in/images/uploads/resta...</td>\n",
       "    </tr>\n",
       "    <tr>\n",
       "      <th>6</th>\n",
       "      <td>Delhi BarbequeTaurus Sarovar Portico,Mahipalpu...</td>\n",
       "      <td>Barbecue, North Indian</td>\n",
       "      <td>Taurus Sarovar Portico,Mahipalpur, South Delhi</td>\n",
       "      <td>3.7</td>\n",
       "      <td>https://im1.dineout.co.in/images/uploads/resta...</td>\n",
       "    </tr>\n",
       "    <tr>\n",
       "      <th>7</th>\n",
       "      <td>The Monarch - Bar Be Que VillageIndirapuram Ha...</td>\n",
       "      <td>North Indian, Chinese, Fast Food</td>\n",
       "      <td>Indirapuram Habitat Centre,Indirapuram, Ghaziabad</td>\n",
       "      <td>3.9</td>\n",
       "      <td>https://im1.dineout.co.in/images/uploads/resta...</td>\n",
       "    </tr>\n",
       "    <tr>\n",
       "      <th>8</th>\n",
       "      <td>World CafeVibe by The Lalit Traveller,Sector 3...</td>\n",
       "      <td>North Indian, Chinese, Continental</td>\n",
       "      <td>Vibe by The Lalit Traveller,Sector 35, Faridabad</td>\n",
       "      <td>4.2</td>\n",
       "      <td>https://im1.dineout.co.in/images/uploads/resta...</td>\n",
       "    </tr>\n",
       "    <tr>\n",
       "      <th>9</th>\n",
       "      <td>Indian Grill RoomSuncity Business Tower,Golf C...</td>\n",
       "      <td>North Indian, Barbecue, Mughlai</td>\n",
       "      <td>Suncity Business Tower,Golf Course Road, Gurgaon</td>\n",
       "      <td>4.3</td>\n",
       "      <td>https://im1.dineout.co.in/images/uploads/resta...</td>\n",
       "    </tr>\n",
       "    <tr>\n",
       "      <th>10</th>\n",
       "      <td>Mad 4 Bar B QueSector 29, Faridabad</td>\n",
       "      <td>North Indian, Mughlai</td>\n",
       "      <td>Sector 29, Faridabad</td>\n",
       "      <td>3.8</td>\n",
       "      <td>https://im1.dineout.co.in/images/uploads/resta...</td>\n",
       "    </tr>\n",
       "    <tr>\n",
       "      <th>11</th>\n",
       "      <td>Barbeque 29NIT, Faridabad</td>\n",
       "      <td>North Indian, Chinese, Barbecue</td>\n",
       "      <td>NIT, Faridabad</td>\n",
       "      <td>4.3</td>\n",
       "      <td>https://im1.dineout.co.in/images/uploads/resta...</td>\n",
       "    </tr>\n",
       "    <tr>\n",
       "      <th>12</th>\n",
       "      <td>GlasshouseDoubleTree By Hilton Gurugram Baani ...</td>\n",
       "      <td>European, Indian Cuisine, Italian, Asian, Con...</td>\n",
       "      <td>DoubleTree By Hilton Gurugram Baani Square,Sec...</td>\n",
       "      <td>4.1</td>\n",
       "      <td>https://im1.dineout.co.in/images/uploads/resta...</td>\n",
       "    </tr>\n",
       "  </tbody>\n",
       "</table>\n",
       "</div>"
      ],
      "text/plain": [
       "                                      Restaurant_name  \\\n",
       "0       Castle BarbequeConnaught Place, Central Delhi   \n",
       "1   Jungle Jamboree3CS Mall,Lajpat Nagar - 3, Sout...   \n",
       "2   Castle BarbequePacific Mall,Tagore Garden, Wes...   \n",
       "3   Cafe KnoshThe Leela Ambience Convention Hotel,...   \n",
       "4   The Barbeque CompanyGardens Galleria,Sector 38...   \n",
       "5     India GrillHilton Garden Inn,Saket, South Delhi   \n",
       "6   Delhi BarbequeTaurus Sarovar Portico,Mahipalpu...   \n",
       "7   The Monarch - Bar Be Que VillageIndirapuram Ha...   \n",
       "8   World CafeVibe by The Lalit Traveller,Sector 3...   \n",
       "9   Indian Grill RoomSuncity Business Tower,Golf C...   \n",
       "10                Mad 4 Bar B QueSector 29, Faridabad   \n",
       "11                          Barbeque 29NIT, Faridabad   \n",
       "12  GlasshouseDoubleTree By Hilton Gurugram Baani ...   \n",
       "\n",
       "                                               cusine  \\\n",
       "0                               North Indian, Chinese   \n",
       "1              Barbecue, North Indian, Asian, Italian   \n",
       "2                      Chinese, North Indian, Mughlai   \n",
       "3    Multi-Cuisine, North Indian, Italian, Contine...   \n",
       "4            North Indian, Barbecue, Chinese, Mughlai   \n",
       "5                    North Indian, Italian, Oriental    \n",
       "6                              Barbecue, North Indian   \n",
       "7                    North Indian, Chinese, Fast Food   \n",
       "8                  North Indian, Chinese, Continental   \n",
       "9                     North Indian, Barbecue, Mughlai   \n",
       "10                              North Indian, Mughlai   \n",
       "11                    North Indian, Chinese, Barbecue   \n",
       "12   European, Indian Cuisine, Italian, Asian, Con...   \n",
       "\n",
       "                                             location ratings  \\\n",
       "0                      Connaught Place, Central Delhi     3.5   \n",
       "1              3CS Mall,Lajpat Nagar - 3, South Delhi     3.9   \n",
       "2              Pacific Mall,Tagore Garden, West Delhi     3.9   \n",
       "3   The Leela Ambience Convention Hotel,Shahdara, ...     4.3   \n",
       "4                  Gardens Galleria,Sector 38A, Noida       4   \n",
       "5                Hilton Garden Inn,Saket, South Delhi     3.9   \n",
       "6      Taurus Sarovar Portico,Mahipalpur, South Delhi     3.7   \n",
       "7   Indirapuram Habitat Centre,Indirapuram, Ghaziabad     3.9   \n",
       "8    Vibe by The Lalit Traveller,Sector 35, Faridabad     4.2   \n",
       "9    Suncity Business Tower,Golf Course Road, Gurgaon     4.3   \n",
       "10                               Sector 29, Faridabad     3.8   \n",
       "11                                     NIT, Faridabad     4.3   \n",
       "12  DoubleTree By Hilton Gurugram Baani Square,Sec...     4.1   \n",
       "\n",
       "                                            image_url  \n",
       "0   https://im1.dineout.co.in/images/uploads/resta...  \n",
       "1   https://im1.dineout.co.in/images/uploads/resta...  \n",
       "2   https://im1.dineout.co.in/images/uploads/resta...  \n",
       "3   https://im1.dineout.co.in/images/uploads/resta...  \n",
       "4   https://im1.dineout.co.in/images/uploads/resta...  \n",
       "5   https://im1.dineout.co.in/images/uploads/resta...  \n",
       "6   https://im1.dineout.co.in/images/uploads/resta...  \n",
       "7   https://im1.dineout.co.in/images/uploads/resta...  \n",
       "8   https://im1.dineout.co.in/images/uploads/resta...  \n",
       "9   https://im1.dineout.co.in/images/uploads/resta...  \n",
       "10  https://im1.dineout.co.in/images/uploads/resta...  \n",
       "11  https://im1.dineout.co.in/images/uploads/resta...  \n",
       "12  https://im1.dineout.co.in/images/uploads/resta...  "
      ]
     },
     "execution_count": 97,
     "metadata": {},
     "output_type": "execute_result"
    }
   ],
   "source": [
    "import pandas as pd\n",
    "df=pd.DataFrame({'Restaurant_name':Restaurant_name,\n",
    "                 'cusine':cusine,\n",
    "                  'location':location,\n",
    "                  'ratings':ratings,\n",
    "                   'image_url':image_url})\n",
    "df"
   ]
  },
  {
   "cell_type": "markdown",
   "id": "2a6f0bd4",
   "metadata": {},
   "source": [
    "# 10)) Write a python program to scrape first 10 product details which include product name , price , Image URL from https://www.bewakoof.com/women-tshirts?ga_q=tshirts . "
   ]
  },
  {
   "cell_type": "code",
   "execution_count": 98,
   "id": "64c85571",
   "metadata": {},
   "outputs": [
    {
     "data": {
      "text/plain": [
       "<Response [200]>"
      ]
     },
     "execution_count": 98,
     "metadata": {},
     "output_type": "execute_result"
    }
   ],
   "source": [
    "from bs4 import BeautifulSoup\n",
    "import requests\n",
    "\n",
    "page=requests.get('https://www.bewakoof.com/women-tshirts?ga_q=tshirts')\n",
    "page"
   ]
  },
  {
   "cell_type": "code",
   "execution_count": null,
   "id": "1e9205f0",
   "metadata": {},
   "outputs": [],
   "source": [
    "soup=BeautifulSoup(page.content)\n",
    "soup"
   ]
  },
  {
   "cell_type": "code",
   "execution_count": 100,
   "id": "547d8a53",
   "metadata": {},
   "outputs": [
    {
     "data": {
      "text/plain": [
       "['Be A Rainbow Boyfriend T-Shirt',\n",
       " \"Women's Indigo Printed White T-Shirt\",\n",
       " 'Andhokar Half Sleeve T-Shirt',\n",
       " 'Feminine Energy Half Sleeve Printed T-Shirt',\n",
       " 'Keep Your Distance Panda Half Sleeve Printed T-shirt',\n",
       " 'Love Friends Half Sleeve Printed T-Shirt Meteor Grey',\n",
       " 'Black Widow Target Half Sleeve T-Shirt',\n",
       " 'Smiley Smelly Half Sleeve T-Shirt',\n",
       " 'Not Twelve Boyfriend T-Shirt',\n",
       " 'Climbing pocket panda Half Sleeve Printed T-shirt']"
      ]
     },
     "execution_count": 100,
     "metadata": {},
     "output_type": "execute_result"
    }
   ],
   "source": [
    "Product_name=[]\n",
    "for i in soup.find_all('h3'):\n",
    "    Product_name.append(i.text)\n",
    "Product_name=Product_name[0:10]\n",
    "Product_name"
   ]
  },
  {
   "cell_type": "code",
   "execution_count": 101,
   "id": "bf24de64",
   "metadata": {},
   "outputs": [
    {
     "data": {
      "text/plain": [
       "['399', '299', '299', '299', '249', '299', '299', '299', '349', '299']"
      ]
     },
     "execution_count": 101,
     "metadata": {},
     "output_type": "execute_result"
    }
   ],
   "source": [
    "Price_in_Rupees=[]\n",
    "for i in soup.find_all('b'):\n",
    "    Price_in_Rupees.append(i.text)\n",
    "Price_in_Rupees=Price_in_Rupees[0:20:2]\n",
    "Price_in_Rupees"
   ]
  },
  {
   "cell_type": "code",
   "execution_count": 102,
   "id": "8f7208ad",
   "metadata": {},
   "outputs": [
    {
     "data": {
      "text/plain": [
       "['https://images.bewakoof.com/t320/be-a-rainbow-boyfriend-t-shirt-women-s-printed-boyfriend-t-shirts-271543-1581596152.jpg',\n",
       " 'https://images.bewakoof.com/t320/beautiful-things-half-sleeve-t-shirt-women-s-half-sleeve-printed-t-shirt-325248-1618210210.jpg',\n",
       " 'https://images.bewakoof.com/t320/andhokar-half-sleeve-t-shirt-women-s-half-sleeve-printed-t-shirt-329628-1614076846.jpg',\n",
       " 'https://images.bewakoof.com/t320/feminine-energy-half-sleeve-printed-t-shirt-women-s-half-sleeve-printed-t-shirt-334734-1614430321.jpg',\n",
       " 'https://images.bewakoof.com/t320/stay-away-panda-half-sleeve-printed-t-shirt-women-s-half-sleeve-printed-t-shirt-343638-1616404507.jpg',\n",
       " 'https://images.bewakoof.com/t320/love-friends-half-sleeve-printed-t-shirt-meteor-grey-women-s-half-sleeve-printed-t-shirt-344650-1616576725.jpg',\n",
       " 'https://images.bewakoof.com/t320/black-widow-target-half-sleeve-t-shirt-women-s-half-sleeve-printed-t-shirt-344622-1617734199.jpg',\n",
       " 'https://images.bewakoof.com/t320/smiley-smelly-half-sleeve-printed-t-shirt-women-s-half-sleeve-printed-t-shirt-345159-1617101092.jpg',\n",
       " 'https://images.bewakoof.com/t320/not-twelve-boyfriend-t-shirt-women-s-printed-boyfriend-t-shirts-353152-1619787647.jpg',\n",
       " 'https://images.bewakoof.com/t320/climbing-pocket-panda-women-s-half-sleeve-printed-t-shirt-354919-1621408489.jpg']"
      ]
     },
     "execution_count": 102,
     "metadata": {},
     "output_type": "execute_result"
    }
   ],
   "source": [
    "image_url=[]\n",
    "for i in soup.find_all('img',class_=\"productImgTag\"):\n",
    "    image_url.append(i['src'])\n",
    "image_url"
   ]
  },
  {
   "cell_type": "code",
   "execution_count": 103,
   "id": "c05929ad",
   "metadata": {},
   "outputs": [
    {
     "data": {
      "text/html": [
       "<div>\n",
       "<style scoped>\n",
       "    .dataframe tbody tr th:only-of-type {\n",
       "        vertical-align: middle;\n",
       "    }\n",
       "\n",
       "    .dataframe tbody tr th {\n",
       "        vertical-align: top;\n",
       "    }\n",
       "\n",
       "    .dataframe thead th {\n",
       "        text-align: right;\n",
       "    }\n",
       "</style>\n",
       "<table border=\"1\" class=\"dataframe\">\n",
       "  <thead>\n",
       "    <tr style=\"text-align: right;\">\n",
       "      <th></th>\n",
       "      <th>Product_name</th>\n",
       "      <th>Price_in_Rupees</th>\n",
       "      <th>image_url</th>\n",
       "    </tr>\n",
       "  </thead>\n",
       "  <tbody>\n",
       "    <tr>\n",
       "      <th>0</th>\n",
       "      <td>Be A Rainbow Boyfriend T-Shirt</td>\n",
       "      <td>399</td>\n",
       "      <td>https://images.bewakoof.com/t320/be-a-rainbow-...</td>\n",
       "    </tr>\n",
       "    <tr>\n",
       "      <th>1</th>\n",
       "      <td>Women's Indigo Printed White T-Shirt</td>\n",
       "      <td>299</td>\n",
       "      <td>https://images.bewakoof.com/t320/beautiful-thi...</td>\n",
       "    </tr>\n",
       "    <tr>\n",
       "      <th>2</th>\n",
       "      <td>Andhokar Half Sleeve T-Shirt</td>\n",
       "      <td>299</td>\n",
       "      <td>https://images.bewakoof.com/t320/andhokar-half...</td>\n",
       "    </tr>\n",
       "    <tr>\n",
       "      <th>3</th>\n",
       "      <td>Feminine Energy Half Sleeve Printed T-Shirt</td>\n",
       "      <td>299</td>\n",
       "      <td>https://images.bewakoof.com/t320/feminine-ener...</td>\n",
       "    </tr>\n",
       "    <tr>\n",
       "      <th>4</th>\n",
       "      <td>Keep Your Distance Panda Half Sleeve Printed T...</td>\n",
       "      <td>249</td>\n",
       "      <td>https://images.bewakoof.com/t320/stay-away-pan...</td>\n",
       "    </tr>\n",
       "    <tr>\n",
       "      <th>5</th>\n",
       "      <td>Love Friends Half Sleeve Printed T-Shirt Meteo...</td>\n",
       "      <td>299</td>\n",
       "      <td>https://images.bewakoof.com/t320/love-friends-...</td>\n",
       "    </tr>\n",
       "    <tr>\n",
       "      <th>6</th>\n",
       "      <td>Black Widow Target Half Sleeve T-Shirt</td>\n",
       "      <td>299</td>\n",
       "      <td>https://images.bewakoof.com/t320/black-widow-t...</td>\n",
       "    </tr>\n",
       "    <tr>\n",
       "      <th>7</th>\n",
       "      <td>Smiley Smelly Half Sleeve T-Shirt</td>\n",
       "      <td>299</td>\n",
       "      <td>https://images.bewakoof.com/t320/smiley-smelly...</td>\n",
       "    </tr>\n",
       "    <tr>\n",
       "      <th>8</th>\n",
       "      <td>Not Twelve Boyfriend T-Shirt</td>\n",
       "      <td>349</td>\n",
       "      <td>https://images.bewakoof.com/t320/not-twelve-bo...</td>\n",
       "    </tr>\n",
       "    <tr>\n",
       "      <th>9</th>\n",
       "      <td>Climbing pocket panda Half Sleeve Printed T-shirt</td>\n",
       "      <td>299</td>\n",
       "      <td>https://images.bewakoof.com/t320/climbing-pock...</td>\n",
       "    </tr>\n",
       "  </tbody>\n",
       "</table>\n",
       "</div>"
      ],
      "text/plain": [
       "                                        Product_name Price_in_Rupees  \\\n",
       "0                     Be A Rainbow Boyfriend T-Shirt             399   \n",
       "1               Women's Indigo Printed White T-Shirt             299   \n",
       "2                       Andhokar Half Sleeve T-Shirt             299   \n",
       "3        Feminine Energy Half Sleeve Printed T-Shirt             299   \n",
       "4  Keep Your Distance Panda Half Sleeve Printed T...             249   \n",
       "5  Love Friends Half Sleeve Printed T-Shirt Meteo...             299   \n",
       "6             Black Widow Target Half Sleeve T-Shirt             299   \n",
       "7                  Smiley Smelly Half Sleeve T-Shirt             299   \n",
       "8                       Not Twelve Boyfriend T-Shirt             349   \n",
       "9  Climbing pocket panda Half Sleeve Printed T-shirt             299   \n",
       "\n",
       "                                           image_url  \n",
       "0  https://images.bewakoof.com/t320/be-a-rainbow-...  \n",
       "1  https://images.bewakoof.com/t320/beautiful-thi...  \n",
       "2  https://images.bewakoof.com/t320/andhokar-half...  \n",
       "3  https://images.bewakoof.com/t320/feminine-ener...  \n",
       "4  https://images.bewakoof.com/t320/stay-away-pan...  \n",
       "5  https://images.bewakoof.com/t320/love-friends-...  \n",
       "6  https://images.bewakoof.com/t320/black-widow-t...  \n",
       "7  https://images.bewakoof.com/t320/smiley-smelly...  \n",
       "8  https://images.bewakoof.com/t320/not-twelve-bo...  \n",
       "9  https://images.bewakoof.com/t320/climbing-pock...  "
      ]
     },
     "execution_count": 103,
     "metadata": {},
     "output_type": "execute_result"
    }
   ],
   "source": [
    "import pandas as pd\n",
    "df=pd.DataFrame({'Product_name':Product_name,\n",
    "                  'Price_in_Rupees':Price_in_Rupees,\n",
    "                   'image_url':image_url})\n",
    "df"
   ]
  },
  {
   "cell_type": "code",
   "execution_count": null,
   "id": "d767e743",
   "metadata": {},
   "outputs": [],
   "source": []
  }
 ],
 "metadata": {
  "kernelspec": {
   "display_name": "Python 3",
   "language": "python",
   "name": "python3"
  },
  "language_info": {
   "codemirror_mode": {
    "name": "ipython",
    "version": 3
   },
   "file_extension": ".py",
   "mimetype": "text/x-python",
   "name": "python",
   "nbconvert_exporter": "python",
   "pygments_lexer": "ipython3",
   "version": "3.8.8"
  }
 },
 "nbformat": 4,
 "nbformat_minor": 5
}
