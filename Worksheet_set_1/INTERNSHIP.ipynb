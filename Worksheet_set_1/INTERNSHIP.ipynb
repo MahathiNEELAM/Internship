{
 "cells": [
  {
   "cell_type": "markdown",
   "id": "a6cb8184",
   "metadata": {},
   "source": [
    "# >>Q11 to Q15 are programming questions. Answer them in Jupyter Notebook."
   ]
  },
  {
   "cell_type": "markdown",
   "id": "1d22a15c",
   "metadata": {},
   "source": [
    "# -------------------------------------------------------------------------------------------------------------"
   ]
  },
  {
   "cell_type": "markdown",
   "id": "904f814b",
   "metadata": {},
   "source": [
    "# *Question 11-Write a python program to find the factorial of a number."
   ]
  },
  {
   "cell_type": "code",
   "execution_count": 1,
   "id": "f9a9813d",
   "metadata": {},
   "outputs": [
    {
     "name": "stdout",
     "output_type": "stream",
     "text": [
      "enter a number: 9\n",
      "Factorial of the given number is:  362880\n"
     ]
    }
   ],
   "source": [
    "# using for loop :\n",
    "n = int (input ('enter a number: '))\n",
    "\n",
    "factorial = 1\n",
    "\n",
    "if n >= 1:\n",
    "\n",
    "              for i in range (1, n+1):\n",
    "\n",
    "                             factorial = factorial *i\n",
    "\n",
    "print ('Factorial of the given number is: ', factorial)"
   ]
  },
  {
   "cell_type": "code",
   "execution_count": 2,
   "id": "010d3b71",
   "metadata": {},
   "outputs": [
    {
     "name": "stdout",
     "output_type": "stream",
     "text": [
      "Enter a number: 9\n",
      "The factorial of  9  is : \n",
      "362880\n"
     ]
    }
   ],
   "source": [
    "#Using math.factorial()in math module: \n",
    "import math\n",
    "num = input(\"Enter a number: \")\n",
    "print(\"The factorial of \", num, \" is : \")\n",
    "print(math.factorial(int(num)))"
   ]
  },
  {
   "cell_type": "markdown",
   "id": "ca8e8611",
   "metadata": {},
   "source": [
    "# *Question 12 - Write a python program to find whether a number is prime or composite."
   ]
  },
  {
   "cell_type": "code",
   "execution_count": 11,
   "id": "c5b799a8",
   "metadata": {},
   "outputs": [
    {
     "name": "stdout",
     "output_type": "stream",
     "text": [
      "Enter a number : 11\n",
      "11  is a prime number\n"
     ]
    }
   ],
   "source": [
    "num =input(\"Enter a number : \")\n",
    "try:\n",
    "    if num.isnumeric():      #To check whether the input is numeric or not\n",
    "    \n",
    "        if int(num) > 1:\n",
    "            for i in range(2,int(num)):\n",
    "                if(int(num)%i) == 0:\n",
    "                    print(num , \" is a composite number\")\n",
    "                    break\n",
    "                else:\n",
    "                    print(num , \" is a prime number\")\n",
    "                    break\n",
    "\n",
    "    else:\n",
    "        print(num , \" is neither a  prime number nor a composite number\")\n",
    "except:                     #Exception handling\n",
    "    print(\" It is neither a  prime number nor a composite number \")"
   ]
  },
  {
   "cell_type": "code",
   "execution_count": 12,
   "id": "09ee80bb",
   "metadata": {},
   "outputs": [
    {
     "name": "stdout",
     "output_type": "stream",
     "text": [
      "Enter a number : 12\n",
      "12  is a composite number\n"
     ]
    }
   ],
   "source": [
    "num =input(\"Enter a number : \")\n",
    "try:\n",
    "    if num.isnumeric():                            #To check whether the input is numeric or not\n",
    "    \n",
    "        if int(num) > 1:\n",
    "            for i in range(2,int(num)):\n",
    "                if(int(num)%i) == 0:\n",
    "                    print(num , \" is a composite number\")\n",
    "                    break\n",
    "                else:\n",
    "                    print(num , \" is a prime number\")\n",
    "                    break\n",
    "\n",
    "    else:\n",
    "        print(num , \" is neither a  prime number nor a composite number\")\n",
    "except:                                                #Exception handling\n",
    "    print(\" It is neither a  prime number nor a composite number \")"
   ]
  },
  {
   "cell_type": "markdown",
   "id": "984e127a",
   "metadata": {},
   "source": [
    "# *Question13-Write a python program to check whether a given string is palindrome or not."
   ]
  },
  {
   "cell_type": "code",
   "execution_count": 14,
   "id": "82aaeeb8",
   "metadata": {},
   "outputs": [
    {
     "name": "stdout",
     "output_type": "stream",
     "text": [
      "Enter the String :madam\n",
      "Yes madam is a palindrom\n"
     ]
    }
   ],
   "source": [
    "String = input('Enter the String :')\n",
    "\n",
    "String2 = String[::-1]\n",
    "\n",
    "if String == String2:\n",
    "    print('Yes',String,'is a palindrom')\n",
    "else:\n",
    "    print(String,' is not a palindrom')"
   ]
  },
  {
   "cell_type": "code",
   "execution_count": 15,
   "id": "05407706",
   "metadata": {},
   "outputs": [
    {
     "name": "stdout",
     "output_type": "stream",
     "text": [
      "Enter the String :internship\n",
      "internship  is not a palindrom\n"
     ]
    }
   ],
   "source": [
    "String = input('Enter the String :')\n",
    "\n",
    "String2 = String[::-1]\n",
    "\n",
    "if String == String2:\n",
    "    print('Yes',String,'is a palindrom')\n",
    "else:\n",
    "    print(String,' is not a palindrom')"
   ]
  },
  {
   "cell_type": "markdown",
   "id": "fc2d9dc4",
   "metadata": {},
   "source": [
    "# * Question 14 - Write a Python program to get the third side of right-angled triangle from two given sides."
   ]
  },
  {
   "cell_type": "code",
   "execution_count": 21,
   "id": "4b7b5236",
   "metadata": {},
   "outputs": [],
   "source": [
    "import numpy as np\n",
    "\n",
    "def pythagoras(opp_side,adj_side,hyp):\n",
    "        if opp_side == str(\"x\"):\n",
    "            return ('Opposite side = ' +str(np.sqrt(np.square(hyp)- np.square(adj_side))))\n",
    "        elif adj_side == str(\"x\"):\n",
    "            return ( 'Adjacent side = '+str(np.sqrt(np.square(hyp)- np.square(opp_side))))\n",
    "        elif hyp == str(\"x\"):\n",
    "            return (\"Hypotenuse = \"+str(np.sqrt(np.square(opp_side) + np.square(adj_side))))\n",
    "        else:\n",
    "            return \"You know the answer!\""
   ]
  },
  {
   "cell_type": "code",
   "execution_count": 26,
   "id": "09aef354",
   "metadata": {},
   "outputs": [
    {
     "name": "stdout",
     "output_type": "stream",
     "text": [
      "Hypotenuse = 50.0\n"
     ]
    }
   ],
   "source": [
    "print(pythagoras(30,40,'x'))"
   ]
  },
  {
   "cell_type": "code",
   "execution_count": 24,
   "id": "a2a4fe80",
   "metadata": {},
   "outputs": [
    {
     "name": "stdout",
     "output_type": "stream",
     "text": [
      "Adjacent side = 40.0\n"
     ]
    }
   ],
   "source": [
    "print(pythagoras(30,'x',50))"
   ]
  },
  {
   "cell_type": "code",
   "execution_count": 25,
   "id": "39aa4006",
   "metadata": {},
   "outputs": [
    {
     "name": "stdout",
     "output_type": "stream",
     "text": [
      "Opposite side = 30.0\n"
     ]
    }
   ],
   "source": [
    "print(pythagoras('x',40,50))"
   ]
  },
  {
   "cell_type": "markdown",
   "id": "6d07a11c",
   "metadata": {},
   "source": [
    "# * Question15 - Write a python program to print the frequency of each of the characters present in a given string.\n",
    "\n"
   ]
  },
  {
   "cell_type": "code",
   "execution_count": 27,
   "id": "09ada3bb",
   "metadata": {},
   "outputs": [
    {
     "name": "stdout",
     "output_type": "stream",
     "text": [
      "Enter a string : internship\n",
      "Count of all characters in internship is :\n",
      " {'i': 2, 'n': 2, 't': 1, 'e': 1, 'r': 1, 's': 1, 'h': 1, 'p': 1}\n"
     ]
    }
   ],
   "source": [
    "#Using for loop:\n",
    "test_string = input('Enter a string : ')\n",
    "all_freq = {}\n",
    "  \n",
    "for i in test_string:\n",
    "    if i in all_freq:\n",
    "        all_freq[i] += 1\n",
    "    else:\n",
    "        all_freq[i] = 1\n",
    "print (\"Count of all characters in \"+ test_string +\" is :\\n \"\n",
    "                                        +  str(all_freq))"
   ]
  },
  {
   "cell_type": "code",
   "execution_count": 29,
   "id": "ab21440f",
   "metadata": {},
   "outputs": [
    {
     "name": "stdout",
     "output_type": "stream",
     "text": [
      "Enter a string : internship\n",
      "Frequency of all characters in internship is :\n",
      " Counter({'i': 2, 'n': 2, 't': 1, 'e': 1, 'r': 1, 's': 1, 'h': 1, 'p': 1})\n"
     ]
    }
   ],
   "source": [
    "#By importing counter module:\n",
    "\n",
    "from collections import Counter\n",
    "  \n",
    "\n",
    "test_string = input('Enter a string : ') \n",
    "frequency = Counter(test_string)\n",
    "  \n",
    "\n",
    "print (\"Frequency of all characters in \"+ test_string +\" is :\\n \"\n",
    "                                           +  str(frequency))"
   ]
  },
  {
   "cell_type": "code",
   "execution_count": null,
   "id": "44dfae8c",
   "metadata": {},
   "outputs": [],
   "source": []
  },
  {
   "cell_type": "code",
   "execution_count": null,
   "id": "231b8240",
   "metadata": {},
   "outputs": [],
   "source": []
  },
  {
   "cell_type": "code",
   "execution_count": null,
   "id": "65c525b8",
   "metadata": {},
   "outputs": [],
   "source": []
  }
 ],
 "metadata": {
  "kernelspec": {
   "display_name": "Python 3",
   "language": "python",
   "name": "python3"
  },
  "language_info": {
   "codemirror_mode": {
    "name": "ipython",
    "version": 3
   },
   "file_extension": ".py",
   "mimetype": "text/x-python",
   "name": "python",
   "nbconvert_exporter": "python",
   "pygments_lexer": "ipython3",
   "version": "3.8.8"
  }
 },
 "nbformat": 4,
 "nbformat_minor": 5
}
